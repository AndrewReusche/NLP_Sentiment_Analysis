{
 "cells": [
  {
   "cell_type": "code",
   "execution_count": 1,
   "id": "1de0b649-ca31-4f0f-a2c6-e5ae3f81db34",
   "metadata": {},
   "outputs": [
    {
     "name": "stderr",
     "output_type": "stream",
     "text": [
      "[nltk_data] Downloading package wordnet to\n",
      "[nltk_data]     /Users/andrewreusche/nltk_data...\n",
      "[nltk_data]   Package wordnet is already up-to-date!\n"
     ]
    }
   ],
   "source": [
    "#import relevant libraries\n",
    "\n",
    "#general\n",
    "import pandas as pd\n",
    "import numpy as np\n",
    "import re\n",
    "import matplotlib.pyplot as plt\n",
    "import seaborn as sns\n",
    "import warnings\n",
    "warnings.filterwarnings('ignore')\n",
    "\n",
    "#NLP\n",
    "import nltk\n",
    "from nltk.tokenize import RegexpTokenizer, sent_tokenize, word_tokenize\n",
    "from nltk.corpus import stopwords, wordnet\n",
    "from nltk.stem import PorterStemmer, SnowballStemmer, WordNetLemmatizer\n",
    "from nltk.sentiment.vader import SentimentIntensityAnalyzer\n",
    "from nltk import FreqDist, pos_tag\n",
    "\n",
    "nltk.download('stopwords', quiet=True)\n",
    "nltk.download('punkt', quiet=True)\n",
    "nltk.download('wordnet')\n",
    "\n",
    "#machine learning\n",
    "from sklearn.model_selection import train_test_split, cross_val_score, GridSearchCV\n",
    "from sklearn.feature_extraction.text import TfidfVectorizer, CountVectorizer\n",
    "from sklearn.naive_bayes import MultinomialNB\n",
    "from sklearn.linear_model import LogisticRegression\n",
    "from sklearn.tree import DecisionTreeClassifier\n",
    "from sklearn.neighbors import KNeighborsClassifier\n",
    "from sklearn.svm import LinearSVC\n",
    "from sklearn.ensemble import RandomForestClassifier, GradientBoostingClassifier\n",
    "import xgboost as xgb\n",
    "from xgboost import XGBClassifier\n",
    "\n",
    "#model evaluation\n",
    "from sklearn.metrics import accuracy_score, confusion_matrix, ConfusionMatrixDisplay\n",
    "from sklearn.metrics import silhouette_score\n",
    "\n",
    "#preprocessing and pipleline\n",
    "from sklearn.pipeline import Pipeline\n",
    "from sklearn.impute import SimpleImputer\n",
    "from sklearn.preprocessing import StandardScaler\n",
    "\n",
    "#imbalanced data\n",
    "from imblearn.under_sampling import RandomUnderSampler\n",
    "from imblearn.over_sampling import SMOTE\n",
    "from imblearn.pipeline import Pipeline as ImbPipeline"
   ]
  },
  {
   "cell_type": "code",
   "execution_count": 2,
   "id": "30a53219-1d95-4b4e-9bf9-c553f0332e48",
   "metadata": {},
   "outputs": [],
   "source": [
    "#pull in the data"
   ]
  },
  {
   "cell_type": "code",
   "execution_count": 3,
   "id": "5df525da-5f8a-4761-b2c3-dd9701caa22f",
   "metadata": {},
   "outputs": [
    {
     "data": {
      "text/html": [
       "<div>\n",
       "<style scoped>\n",
       "    .dataframe tbody tr th:only-of-type {\n",
       "        vertical-align: middle;\n",
       "    }\n",
       "\n",
       "    .dataframe tbody tr th {\n",
       "        vertical-align: top;\n",
       "    }\n",
       "\n",
       "    .dataframe thead th {\n",
       "        text-align: right;\n",
       "    }\n",
       "</style>\n",
       "<table border=\"1\" class=\"dataframe\">\n",
       "  <thead>\n",
       "    <tr style=\"text-align: right;\">\n",
       "      <th></th>\n",
       "      <th>tweet_text</th>\n",
       "      <th>emotion_in_tweet_is_directed_at</th>\n",
       "      <th>is_there_an_emotion_directed_at_a_brand_or_product</th>\n",
       "    </tr>\n",
       "  </thead>\n",
       "  <tbody>\n",
       "    <tr>\n",
       "      <th>0</th>\n",
       "      <td>.@wesley83 I have a 3G iPhone. After 3 hrs twe...</td>\n",
       "      <td>iPhone</td>\n",
       "      <td>Negative emotion</td>\n",
       "    </tr>\n",
       "    <tr>\n",
       "      <th>1</th>\n",
       "      <td>@jessedee Know about @fludapp ? Awesome iPad/i...</td>\n",
       "      <td>iPad or iPhone App</td>\n",
       "      <td>Positive emotion</td>\n",
       "    </tr>\n",
       "    <tr>\n",
       "      <th>2</th>\n",
       "      <td>@swonderlin Can not wait for #iPad 2 also. The...</td>\n",
       "      <td>iPad</td>\n",
       "      <td>Positive emotion</td>\n",
       "    </tr>\n",
       "    <tr>\n",
       "      <th>3</th>\n",
       "      <td>@sxsw I hope this year's festival isn't as cra...</td>\n",
       "      <td>iPad or iPhone App</td>\n",
       "      <td>Negative emotion</td>\n",
       "    </tr>\n",
       "    <tr>\n",
       "      <th>4</th>\n",
       "      <td>@sxtxstate great stuff on Fri #SXSW: Marissa M...</td>\n",
       "      <td>Google</td>\n",
       "      <td>Positive emotion</td>\n",
       "    </tr>\n",
       "  </tbody>\n",
       "</table>\n",
       "</div>"
      ],
      "text/plain": [
       "                                          tweet_text  \\\n",
       "0  .@wesley83 I have a 3G iPhone. After 3 hrs twe...   \n",
       "1  @jessedee Know about @fludapp ? Awesome iPad/i...   \n",
       "2  @swonderlin Can not wait for #iPad 2 also. The...   \n",
       "3  @sxsw I hope this year's festival isn't as cra...   \n",
       "4  @sxtxstate great stuff on Fri #SXSW: Marissa M...   \n",
       "\n",
       "  emotion_in_tweet_is_directed_at  \\\n",
       "0                          iPhone   \n",
       "1              iPad or iPhone App   \n",
       "2                            iPad   \n",
       "3              iPad or iPhone App   \n",
       "4                          Google   \n",
       "\n",
       "  is_there_an_emotion_directed_at_a_brand_or_product  \n",
       "0                                   Negative emotion  \n",
       "1                                   Positive emotion  \n",
       "2                                   Positive emotion  \n",
       "3                                   Negative emotion  \n",
       "4                                   Positive emotion  "
      ]
     },
     "execution_count": 3,
     "metadata": {},
     "output_type": "execute_result"
    }
   ],
   "source": [
    "df= pd.read_csv('data/judge-1377884607_tweet_product_company.csv', encoding='ISO-8859-1')\n",
    "df.head()"
   ]
  },
  {
   "cell_type": "code",
   "execution_count": 4,
   "id": "29a5292c-2893-4aba-902d-8e41bdcab4d7",
   "metadata": {},
   "outputs": [
    {
     "name": "stdout",
     "output_type": "stream",
     "text": [
      "<class 'pandas.core.frame.DataFrame'>\n",
      "RangeIndex: 9093 entries, 0 to 9092\n",
      "Data columns (total 3 columns):\n",
      " #   Column                                              Non-Null Count  Dtype \n",
      "---  ------                                              --------------  ----- \n",
      " 0   tweet_text                                          9092 non-null   object\n",
      " 1   emotion_in_tweet_is_directed_at                     3291 non-null   object\n",
      " 2   is_there_an_emotion_directed_at_a_brand_or_product  9093 non-null   object\n",
      "dtypes: object(3)\n",
      "memory usage: 213.2+ KB\n"
     ]
    }
   ],
   "source": [
    "df.info()"
   ]
  },
  {
   "cell_type": "code",
   "execution_count": 5,
   "id": "356e19b0-176d-4f1e-aeda-db84dd5ff959",
   "metadata": {},
   "outputs": [
    {
     "data": {
      "text/plain": [
       "emotion\n",
       "No emotion toward brand or product    0.592613\n",
       "Positive emotion                      0.327453\n",
       "Negative emotion                      0.062734\n",
       "I can't tell                          0.017200\n",
       "Name: proportion, dtype: float64"
      ]
     },
     "execution_count": 5,
     "metadata": {},
     "output_type": "execute_result"
    }
   ],
   "source": [
    "raw_df= df[['tweet_text','is_there_an_emotion_directed_at_a_brand_or_product']]\n",
    "raw_df= raw_df.dropna()\n",
    "raw_df = raw_df.drop_duplicates(keep='first')\n",
    "raw_df = raw_df.rename(columns={'tweet_text': 'tweet', \n",
    "                                'is_there_an_emotion_directed_at_a_brand_or_product': 'emotion'})\n",
    "raw_df['emotion'].value_counts(normalize= True)"
   ]
  },
  {
   "cell_type": "code",
   "execution_count": 6,
   "id": "af86719e-4a30-48dc-8878-b087f1524ba1",
   "metadata": {},
   "outputs": [
    {
     "data": {
      "text/plain": [
       "sentiment\n",
       "0    0.666816\n",
       "1    0.333184\n",
       "Name: proportion, dtype: float64"
      ]
     },
     "execution_count": 6,
     "metadata": {},
     "output_type": "execute_result"
    }
   ],
   "source": [
    "rel_raw_df = raw_df[raw_df['emotion'] != \"I can't tell\"]\n",
    "sentiment_map = {'No emotion toward brand or product': 0,\n",
    "    'Positive emotion': 1,\n",
    "    'Negative emotion': 0}\n",
    "rel_raw_df['sentiment'] = rel_raw_df['emotion'].map(sentiment_map)\n",
    "rel_raw_df['sentiment'].value_counts(normalize= True)"
   ]
  },
  {
   "cell_type": "markdown",
   "id": "cd7e19b7-f472-4bf9-b2e1-451e92f208de",
   "metadata": {},
   "source": [
    "rel_raw_df['tweet'][9088]"
   ]
  },
  {
   "cell_type": "code",
   "execution_count": 7,
   "id": "9f7e5244-8893-4901-89f0-db7771b4db9e",
   "metadata": {},
   "outputs": [
    {
     "data": {
      "text/html": [
       "<div>\n",
       "<style scoped>\n",
       "    .dataframe tbody tr th:only-of-type {\n",
       "        vertical-align: middle;\n",
       "    }\n",
       "\n",
       "    .dataframe tbody tr th {\n",
       "        vertical-align: top;\n",
       "    }\n",
       "\n",
       "    .dataframe thead th {\n",
       "        text-align: right;\n",
       "    }\n",
       "</style>\n",
       "<table border=\"1\" class=\"dataframe\">\n",
       "  <thead>\n",
       "    <tr style=\"text-align: right;\">\n",
       "      <th></th>\n",
       "      <th>tweet</th>\n",
       "      <th>emotion</th>\n",
       "      <th>sentiment</th>\n",
       "    </tr>\n",
       "  </thead>\n",
       "  <tbody>\n",
       "    <tr>\n",
       "      <th>0</th>\n",
       "      <td>.@wesley83 i have a 3g iphone. after 3 hrs twe...</td>\n",
       "      <td>Negative emotion</td>\n",
       "      <td>0</td>\n",
       "    </tr>\n",
       "    <tr>\n",
       "      <th>1</th>\n",
       "      <td>@jessedee know about @fludapp ? awesome ipad/i...</td>\n",
       "      <td>Positive emotion</td>\n",
       "      <td>1</td>\n",
       "    </tr>\n",
       "    <tr>\n",
       "      <th>2</th>\n",
       "      <td>@swonderlin can not wait for #ipad 2 also. the...</td>\n",
       "      <td>Positive emotion</td>\n",
       "      <td>1</td>\n",
       "    </tr>\n",
       "    <tr>\n",
       "      <th>3</th>\n",
       "      <td>@sxsw i hope this year's festival isn't as cra...</td>\n",
       "      <td>Negative emotion</td>\n",
       "      <td>0</td>\n",
       "    </tr>\n",
       "    <tr>\n",
       "      <th>4</th>\n",
       "      <td>@sxtxstate great stuff on fri #sxsw: marissa m...</td>\n",
       "      <td>Positive emotion</td>\n",
       "      <td>1</td>\n",
       "    </tr>\n",
       "    <tr>\n",
       "      <th>5</th>\n",
       "      <td>@teachntech00 new ipad apps for #speechtherapy...</td>\n",
       "      <td>No emotion toward brand or product</td>\n",
       "      <td>0</td>\n",
       "    </tr>\n",
       "    <tr>\n",
       "      <th>7</th>\n",
       "      <td>#sxsw is just starting, #ctia is around the co...</td>\n",
       "      <td>Positive emotion</td>\n",
       "      <td>1</td>\n",
       "    </tr>\n",
       "    <tr>\n",
       "      <th>8</th>\n",
       "      <td>beautifully smart and simple idea rt @madebyma...</td>\n",
       "      <td>Positive emotion</td>\n",
       "      <td>1</td>\n",
       "    </tr>\n",
       "    <tr>\n",
       "      <th>9</th>\n",
       "      <td>counting down the days to #sxsw plus strong ca...</td>\n",
       "      <td>Positive emotion</td>\n",
       "      <td>1</td>\n",
       "    </tr>\n",
       "    <tr>\n",
       "      <th>10</th>\n",
       "      <td>excited to meet the @samsungmobileus at #sxsw ...</td>\n",
       "      <td>Positive emotion</td>\n",
       "      <td>1</td>\n",
       "    </tr>\n",
       "  </tbody>\n",
       "</table>\n",
       "</div>"
      ],
      "text/plain": [
       "                                                tweet  \\\n",
       "0   .@wesley83 i have a 3g iphone. after 3 hrs twe...   \n",
       "1   @jessedee know about @fludapp ? awesome ipad/i...   \n",
       "2   @swonderlin can not wait for #ipad 2 also. the...   \n",
       "3   @sxsw i hope this year's festival isn't as cra...   \n",
       "4   @sxtxstate great stuff on fri #sxsw: marissa m...   \n",
       "5   @teachntech00 new ipad apps for #speechtherapy...   \n",
       "7   #sxsw is just starting, #ctia is around the co...   \n",
       "8   beautifully smart and simple idea rt @madebyma...   \n",
       "9   counting down the days to #sxsw plus strong ca...   \n",
       "10  excited to meet the @samsungmobileus at #sxsw ...   \n",
       "\n",
       "                               emotion  sentiment  \n",
       "0                     Negative emotion          0  \n",
       "1                     Positive emotion          1  \n",
       "2                     Positive emotion          1  \n",
       "3                     Negative emotion          0  \n",
       "4                     Positive emotion          1  \n",
       "5   No emotion toward brand or product          0  \n",
       "7                     Positive emotion          1  \n",
       "8                     Positive emotion          1  \n",
       "9                     Positive emotion          1  \n",
       "10                    Positive emotion          1  "
      ]
     },
     "execution_count": 7,
     "metadata": {},
     "output_type": "execute_result"
    }
   ],
   "source": [
    "rel_raw_df[\"tweet\"] = rel_raw_df[\"tweet\"].str.lower()\n",
    "rel_raw_df[:10]"
   ]
  },
  {
   "cell_type": "markdown",
   "id": "668a234f-36ab-403f-a958-dff75c2097b2",
   "metadata": {},
   "source": [
    "word_tokenize('hello i am mark')"
   ]
  },
  {
   "cell_type": "code",
   "execution_count": 8,
   "id": "64fb22bd-b9f5-4eae-8f84-72bf8fdab91d",
   "metadata": {},
   "outputs": [],
   "source": [
    "#9092 is a nonsensical symbolized tweet, drop it\n",
    "rel_raw_df= rel_raw_df.drop(9092)"
   ]
  },
  {
   "cell_type": "code",
   "execution_count": 9,
   "id": "0b447c71-b5d2-4309-a9ff-704c1e83c807",
   "metadata": {},
   "outputs": [
    {
     "data": {
      "text/html": [
       "<div>\n",
       "<style scoped>\n",
       "    .dataframe tbody tr th:only-of-type {\n",
       "        vertical-align: middle;\n",
       "    }\n",
       "\n",
       "    .dataframe tbody tr th {\n",
       "        vertical-align: top;\n",
       "    }\n",
       "\n",
       "    .dataframe thead th {\n",
       "        text-align: right;\n",
       "    }\n",
       "</style>\n",
       "<table border=\"1\" class=\"dataframe\">\n",
       "  <thead>\n",
       "    <tr style=\"text-align: right;\">\n",
       "      <th></th>\n",
       "      <th>tweet</th>\n",
       "      <th>emotion</th>\n",
       "      <th>sentiment</th>\n",
       "      <th>tweet_tokenized</th>\n",
       "    </tr>\n",
       "  </thead>\n",
       "  <tbody>\n",
       "    <tr>\n",
       "      <th>0</th>\n",
       "      <td>i have a 3g iphone. after 3 hrs tweeting at it...</td>\n",
       "      <td>Negative emotion</td>\n",
       "      <td>0</td>\n",
       "      <td>[i, have, a, iphone, after, hrs, tweeting, at,...</td>\n",
       "    </tr>\n",
       "    <tr>\n",
       "      <th>1</th>\n",
       "      <td>know about ? awesome ipad/iphone app that you'...</td>\n",
       "      <td>Positive emotion</td>\n",
       "      <td>1</td>\n",
       "      <td>[know, about, awesome, ipad, iphone, app, that...</td>\n",
       "    </tr>\n",
       "    <tr>\n",
       "      <th>2</th>\n",
       "      <td>can not wait for 2 also. they should sale them...</td>\n",
       "      <td>Positive emotion</td>\n",
       "      <td>1</td>\n",
       "      <td>[cant, wait, for, also, they, should, sale, th...</td>\n",
       "    </tr>\n",
       "    <tr>\n",
       "      <th>3</th>\n",
       "      <td>i hope this year's festival isn't as crashy as...</td>\n",
       "      <td>Negative emotion</td>\n",
       "      <td>0</td>\n",
       "      <td>[i, hope, this, years, festival, isnt, as, cra...</td>\n",
       "    </tr>\n",
       "    <tr>\n",
       "      <th>4</th>\n",
       "      <td>great stuff on fri marissa mayer (google), tim...</td>\n",
       "      <td>Positive emotion</td>\n",
       "      <td>1</td>\n",
       "      <td>[great, stuff, on, fri, marissa, mayer, google...</td>\n",
       "    </tr>\n",
       "    <tr>\n",
       "      <th>...</th>\n",
       "      <td>...</td>\n",
       "      <td>...</td>\n",
       "      <td>...</td>\n",
       "      <td>...</td>\n",
       "    </tr>\n",
       "    <tr>\n",
       "      <th>9087</th>\n",
       "      <td>yup, but i don't have a third app yet. i'm on ...</td>\n",
       "      <td>No emotion toward brand or product</td>\n",
       "      <td>0</td>\n",
       "      <td>[yup, but, i, dont, have, a, third, app, yet, ...</td>\n",
       "    </tr>\n",
       "    <tr>\n",
       "      <th>9088</th>\n",
       "      <td>ipad everywhere. {link}</td>\n",
       "      <td>Positive emotion</td>\n",
       "      <td>1</td>\n",
       "      <td>[ipad, everywhere, link]</td>\n",
       "    </tr>\n",
       "    <tr>\n",
       "      <th>9089</th>\n",
       "      <td>wave, buzz... rt we interrupt your regularly s...</td>\n",
       "      <td>No emotion toward brand or product</td>\n",
       "      <td>0</td>\n",
       "      <td>[wave, buzz, rt, we, interrupt, your, regularl...</td>\n",
       "    </tr>\n",
       "    <tr>\n",
       "      <th>9090</th>\n",
       "      <td>google's zeiger, a physician never reported po...</td>\n",
       "      <td>No emotion toward brand or product</td>\n",
       "      <td>0</td>\n",
       "      <td>[googles, zeiger, a, physician, never, reporte...</td>\n",
       "    </tr>\n",
       "    <tr>\n",
       "      <th>9091</th>\n",
       "      <td>some verizon iphone customers complained their...</td>\n",
       "      <td>No emotion toward brand or product</td>\n",
       "      <td>0</td>\n",
       "      <td>[some, verizon, iphone, customers, complained,...</td>\n",
       "    </tr>\n",
       "  </tbody>\n",
       "</table>\n",
       "<p>8913 rows × 4 columns</p>\n",
       "</div>"
      ],
      "text/plain": [
       "                                                  tweet  \\\n",
       "0     i have a 3g iphone. after 3 hrs tweeting at it...   \n",
       "1     know about ? awesome ipad/iphone app that you'...   \n",
       "2     can not wait for 2 also. they should sale them...   \n",
       "3     i hope this year's festival isn't as crashy as...   \n",
       "4     great stuff on fri marissa mayer (google), tim...   \n",
       "...                                                 ...   \n",
       "9087  yup, but i don't have a third app yet. i'm on ...   \n",
       "9088                            ipad everywhere. {link}   \n",
       "9089  wave, buzz... rt we interrupt your regularly s...   \n",
       "9090  google's zeiger, a physician never reported po...   \n",
       "9091  some verizon iphone customers complained their...   \n",
       "\n",
       "                                 emotion  sentiment  \\\n",
       "0                       Negative emotion          0   \n",
       "1                       Positive emotion          1   \n",
       "2                       Positive emotion          1   \n",
       "3                       Negative emotion          0   \n",
       "4                       Positive emotion          1   \n",
       "...                                  ...        ...   \n",
       "9087  No emotion toward brand or product          0   \n",
       "9088                    Positive emotion          1   \n",
       "9089  No emotion toward brand or product          0   \n",
       "9090  No emotion toward brand or product          0   \n",
       "9091  No emotion toward brand or product          0   \n",
       "\n",
       "                                        tweet_tokenized  \n",
       "0     [i, have, a, iphone, after, hrs, tweeting, at,...  \n",
       "1     [know, about, awesome, ipad, iphone, app, that...  \n",
       "2     [cant, wait, for, also, they, should, sale, th...  \n",
       "3     [i, hope, this, years, festival, isnt, as, cra...  \n",
       "4     [great, stuff, on, fri, marissa, mayer, google...  \n",
       "...                                                 ...  \n",
       "9087  [yup, but, i, dont, have, a, third, app, yet, ...  \n",
       "9088                           [ipad, everywhere, link]  \n",
       "9089  [wave, buzz, rt, we, interrupt, your, regularl...  \n",
       "9090  [googles, zeiger, a, physician, never, reporte...  \n",
       "9091  [some, verizon, iphone, customers, complained,...  \n",
       "\n",
       "[8913 rows x 4 columns]"
      ]
     },
     "execution_count": 9,
     "metadata": {},
     "output_type": "execute_result"
    }
   ],
   "source": [
    "#removing usernames\n",
    "rel_raw_df[\"tweet\"]= rel_raw_df[\"tweet\"].apply(lambda x : ' '.join(\n",
    "    [w for w in x.split() if '@' not in w]).strip())\n",
    "\n",
    "#removing hashtags\n",
    "rel_raw_df[\"tweet\"]= rel_raw_df[\"tweet\"].apply(lambda x : ' '.join(\n",
    "    [w for w in x.split() if '#' not in w]))\n",
    "\n",
    "#use ReGex to strip the tweets down to only what we want\n",
    "def strip_token(tweet):\n",
    "    tweet = re.sub(r'http[s]?://\\S+|www\\.\\S+', '', tweet) #remove all links form tweets\n",
    "    tweet = re.sub(r'&amp;', 'and', tweet) #convert all instances of '&amp' to 'and'\n",
    "    tweet = re.sub(r\"'\", \"\", tweet) #removes \" ' \" converting \"can't\" to \"cant\"\n",
    "    tweet = re.sub(r'_', ' ', tweet) #removes all '_' from tweets\n",
    "    tweet = re.sub(r'[^\\w\\s]', ' ', tweet) #removes all non word characters from tweets\n",
    "    tweet = re.sub(r'\\d+\\w*', '', tweet) #removes all numbers or character combinations that begin with numbers \n",
    "    tweet = re.sub(r'can not', \"cant\", tweet) #convert all instances of 'can not' to 'cant'\n",
    "    tweet = re.sub(r'will not', \"wont\", tweet) #convert all instances of 'will not' to 'wont'\n",
    "    tweet = re.sub(r'do not', \"dont\", tweet) #convert all instances of 'do not' to 'dont'\n",
    "    tweet = re.sub(r'\\b[^a-zA-Z]+', ' ', tweet) #should strip all non standard a-z characters left over \n",
    "    tokens = word_tokenize(tweet)\n",
    "    return tokens\n",
    "rel_raw_df['tweet_tokenized'] = rel_raw_df['tweet'].apply(strip_token)\n",
    "\n",
    "#preview dataset\n",
    "rel_raw_df"
   ]
  },
  {
   "cell_type": "markdown",
   "id": "543f3ca2-75d9-420a-94cc-36ac102c4610",
   "metadata": {},
   "source": [
    "#this column is just a test\n",
    "\n",
    "monkey=' _ the big_monkey / throws a yellow/bannana _/far'\n",
    "\n",
    "#use ReGex to strip the tweets down to only what we want\n",
    "def strip_token2(tweet):\n",
    "    tweet = re.sub(r'http[s]?://\\S+|www\\.\\S+', '', tweet) #remove all links form tweets\n",
    "    tweet = re.sub(r'&amp;', 'and', tweet) #convert all instances of '&amp' to 'and'\n",
    "    #tweet = re.sub(r'/', ' ', tweet) #removes all '/' from tweets\n",
    "    tweet = re.sub(r'_', ' ', tweet) #removes all '_' from tweets\n",
    "    tweet = re.sub(r'[^\\w\\s]', ' ', tweet) #removes all non word characters from tweets\n",
    "    tweet = re.sub(r'\\d+\\w*', '', tweet) #removes all numbers or character combinations that begin with numbers \n",
    "    tweet = re.sub(r'can not', \"cant\", tweet) #convert all instances of 'can not' to 'cant'\n",
    "    tweet = re.sub(r'will not', \"wont\", tweet) #convert all instances of 'will not' to 'wont'\n",
    "    tweet = re.sub(r'do not', \"dont\", tweet) #convert all instances of 'do not' to 'dont'\n",
    "    tokens = word_tokenize(tweet)\n",
    "    return tokens\n",
    "\n",
    "monkey2= strip_token2(monkey)\n",
    "\n",
    "print(monkey2)"
   ]
  },
  {
   "cell_type": "code",
   "execution_count": 10,
   "id": "dbed7a77-aa0f-428d-8b72-c0d12bd971ec",
   "metadata": {},
   "outputs": [
    {
     "data": {
      "text/html": [
       "<div>\n",
       "<style scoped>\n",
       "    .dataframe tbody tr th:only-of-type {\n",
       "        vertical-align: middle;\n",
       "    }\n",
       "\n",
       "    .dataframe tbody tr th {\n",
       "        vertical-align: top;\n",
       "    }\n",
       "\n",
       "    .dataframe thead th {\n",
       "        text-align: right;\n",
       "    }\n",
       "</style>\n",
       "<table border=\"1\" class=\"dataframe\">\n",
       "  <thead>\n",
       "    <tr style=\"text-align: right;\">\n",
       "      <th></th>\n",
       "      <th>tweet</th>\n",
       "      <th>emotion</th>\n",
       "      <th>sentiment</th>\n",
       "      <th>tweet_tokenized</th>\n",
       "      <th>tweet_len</th>\n",
       "    </tr>\n",
       "  </thead>\n",
       "  <tbody>\n",
       "    <tr>\n",
       "      <th>14</th>\n",
       "      <td>great ipad app from http://tinyurl.com/4nqv92l</td>\n",
       "      <td>Positive emotion</td>\n",
       "      <td>1</td>\n",
       "      <td>[great, ipad, app, from]</td>\n",
       "      <td>4</td>\n",
       "    </tr>\n",
       "    <tr>\n",
       "      <th>52</th>\n",
       "      <td>÷¼ what? ÷_ {link} ã_</td>\n",
       "      <td>No emotion toward brand or product</td>\n",
       "      <td>0</td>\n",
       "      <td>[what, link]</td>\n",
       "      <td>2</td>\n",
       "    </tr>\n",
       "    <tr>\n",
       "      <th>77</th>\n",
       "      <td>i worship {link}</td>\n",
       "      <td>No emotion toward brand or product</td>\n",
       "      <td>0</td>\n",
       "      <td>[i, worship, link]</td>\n",
       "      <td>3</td>\n",
       "    </tr>\n",
       "    <tr>\n",
       "      <th>85</th>\n",
       "      <td>stay tune showcase {link}</td>\n",
       "      <td>No emotion toward brand or product</td>\n",
       "      <td>0</td>\n",
       "      <td>[stay, tune, showcase, link]</td>\n",
       "      <td>4</td>\n",
       "    </tr>\n",
       "    <tr>\n",
       "      <th>133</th>\n",
       "      <td>follow lead {link}</td>\n",
       "      <td>No emotion toward brand or product</td>\n",
       "      <td>0</td>\n",
       "      <td>[follow, lead, link]</td>\n",
       "      <td>3</td>\n",
       "    </tr>\n",
       "    <tr>\n",
       "      <th>...</th>\n",
       "      <td>...</td>\n",
       "      <td>...</td>\n",
       "      <td>...</td>\n",
       "      <td>...</td>\n",
       "      <td>...</td>\n",
       "    </tr>\n",
       "    <tr>\n",
       "      <th>8885</th>\n",
       "      <td>well put. totally agree!</td>\n",
       "      <td>No emotion toward brand or product</td>\n",
       "      <td>0</td>\n",
       "      <td>[well, put, totally, agree]</td>\n",
       "      <td>4</td>\n",
       "    </tr>\n",
       "    <tr>\n",
       "      <th>8904</th>\n",
       "      <td>black or white ipad?</td>\n",
       "      <td>No emotion toward brand or product</td>\n",
       "      <td>0</td>\n",
       "      <td>[black, or, white, ipad]</td>\n",
       "      <td>4</td>\n",
       "    </tr>\n",
       "    <tr>\n",
       "      <th>8923</th>\n",
       "      <td>google arwords, arsense anyone?</td>\n",
       "      <td>No emotion toward brand or product</td>\n",
       "      <td>0</td>\n",
       "      <td>[google, arwords, arsense, anyone]</td>\n",
       "      <td>4</td>\n",
       "    </tr>\n",
       "    <tr>\n",
       "      <th>9031</th>\n",
       "      <td>... or maybe not: {link}</td>\n",
       "      <td>No emotion toward brand or product</td>\n",
       "      <td>0</td>\n",
       "      <td>[or, maybe, not, link]</td>\n",
       "      <td>4</td>\n",
       "    </tr>\n",
       "    <tr>\n",
       "      <th>9088</th>\n",
       "      <td>ipad everywhere. {link}</td>\n",
       "      <td>Positive emotion</td>\n",
       "      <td>1</td>\n",
       "      <td>[ipad, everywhere, link]</td>\n",
       "      <td>3</td>\n",
       "    </tr>\n",
       "  </tbody>\n",
       "</table>\n",
       "<p>86 rows × 5 columns</p>\n",
       "</div>"
      ],
      "text/plain": [
       "                                               tweet  \\\n",
       "14    great ipad app from http://tinyurl.com/4nqv92l   \n",
       "52                          ÷¼ what? ÷_ {link} ã_   \n",
       "77                                  i worship {link}   \n",
       "85                         stay tune showcase {link}   \n",
       "133                               follow lead {link}   \n",
       "...                                              ...   \n",
       "8885                        well put. totally agree!   \n",
       "8904                            black or white ipad?   \n",
       "8923                 google arwords, arsense anyone?   \n",
       "9031                        ... or maybe not: {link}   \n",
       "9088                         ipad everywhere. {link}   \n",
       "\n",
       "                                 emotion  sentiment  \\\n",
       "14                      Positive emotion          1   \n",
       "52    No emotion toward brand or product          0   \n",
       "77    No emotion toward brand or product          0   \n",
       "85    No emotion toward brand or product          0   \n",
       "133   No emotion toward brand or product          0   \n",
       "...                                  ...        ...   \n",
       "8885  No emotion toward brand or product          0   \n",
       "8904  No emotion toward brand or product          0   \n",
       "8923  No emotion toward brand or product          0   \n",
       "9031  No emotion toward brand or product          0   \n",
       "9088                    Positive emotion          1   \n",
       "\n",
       "                         tweet_tokenized  tweet_len  \n",
       "14              [great, ipad, app, from]          4  \n",
       "52                          [what, link]          2  \n",
       "77                    [i, worship, link]          3  \n",
       "85          [stay, tune, showcase, link]          4  \n",
       "133                 [follow, lead, link]          3  \n",
       "...                                  ...        ...  \n",
       "8885         [well, put, totally, agree]          4  \n",
       "8904            [black, or, white, ipad]          4  \n",
       "8923  [google, arwords, arsense, anyone]          4  \n",
       "9031              [or, maybe, not, link]          4  \n",
       "9088            [ipad, everywhere, link]          3  \n",
       "\n",
       "[86 rows x 5 columns]"
      ]
     },
     "execution_count": 10,
     "metadata": {},
     "output_type": "execute_result"
    }
   ],
   "source": [
    "#create a new column to show how long the tweets are, shorter \n",
    "rel_raw_df['tweet_len']= rel_raw_df.tweet_tokenized.apply(lambda x : len(x))\n",
    "#consider getting rid of all tweets that are less than 5 characters long\n",
    "rel_raw_df[rel_raw_df['tweet_len']<5]"
   ]
  },
  {
   "cell_type": "markdown",
   "id": "543438af-95c2-4e6a-9c2e-66ac785cb0db",
   "metadata": {},
   "source": [
    "stopwords_list= stopwords.words('english')\n",
    "stopwords_list = [word for word in stopwords_list if word not in ['not', 'can']]\n",
    "#possibly append words to the list of stop words\n",
    "#additional_stopwords= ['google', 'iphone', 'ipad', 'link', 'apple', 'rt', 'store', 'quot', 'austin', 'via', 'sxsw']\n",
    "#stopwords_list.append('additional_stopwords')\n",
    "\n",
    "def remove_stopwords(token_list):\n",
    "    list_stripped= [x for x in token_list if x not in stopwords_list]\n",
    "    return list_stripped\n",
    "\n",
    "rel_raw_df['tweet_tokenized_ns'] = rel_raw_df['tweet_tokenized'].apply(remove_stopwords)"
   ]
  },
  {
   "cell_type": "markdown",
   "id": "fe4e7991-52f2-49d6-b719-4571063b72b4",
   "metadata": {},
   "source": [
    "rel_raw_df[\"tweet_tokenized_ns\"]"
   ]
  },
  {
   "cell_type": "markdown",
   "id": "dd7fba4c-b2e6-47cc-8d36-d640131c331d",
   "metadata": {},
   "source": [
    "rel_raw_df[\"tweet_tokenized_ns\"][0]"
   ]
  },
  {
   "cell_type": "code",
   "execution_count": 11,
   "id": "d54bb32f-0aa3-4abc-b9f2-d0d0d5e61a76",
   "metadata": {},
   "outputs": [],
   "source": [
    "#lemmetize the tokens\n",
    "lemmatizer = WordNetLemmatizer()\n",
    "\n",
    "def lem_tokens(tokens):\n",
    "    return [lemmatizer.lemmatize(token) for token in tokens]\n",
    "\n",
    "rel_raw_df['tweet_lem'] = rel_raw_df['tweet_tokenized'].apply(lem_tokens)"
   ]
  },
  {
   "cell_type": "code",
   "execution_count": 12,
   "id": "eefd2ea9-9e48-4c73-b89b-ceb0a0168329",
   "metadata": {},
   "outputs": [],
   "source": [
    "#random undersample here "
   ]
  },
  {
   "cell_type": "code",
   "execution_count": 13,
   "id": "3f34058f-8d6b-4e99-922b-1338344ae894",
   "metadata": {},
   "outputs": [],
   "source": [
    "X= rel_raw_df['tweet_lem']\n",
    "y= rel_raw_df['sentiment']\n",
    "\n",
    "#Train split (remain is the remaining data)\n",
    "X_train, X_remain, y_train, y_remain= train_test_split(X, y, \n",
    "                                                   test_size= 0.2,  \n",
    "                                                   random_state= 24)\n",
    "\n",
    "#Val test split \n",
    "X_val, X_test, y_val, y_test= train_test_split(X_remain, y_remain,\n",
    "                                               test_size= 0.5, \n",
    "                                               random_state= 24)"
   ]
  },
  {
   "cell_type": "code",
   "execution_count": 14,
   "id": "95f0eac1-6aef-4ea0-bda0-ad1bb20cce6b",
   "metadata": {},
   "outputs": [
    {
     "data": {
      "image/png": "[encoded data removed]",
      "text/plain": [
       "<Figure size 1200x1200 with 2 Axes>"
      ]
     },
     "metadata": {},
     "output_type": "display_data"
    }
   ],
   "source": [
    "#check out the word distrobutions in X_train for each target class\n",
    "\n",
    "from collections import Counter\n",
    "\n",
    "color_palette = sns.color_palette('cividis', n_colors=38)\n",
    "\n",
    "fig, axes = plt.subplots(nrows=2, figsize=(12, 12)) \n",
    "\n",
    "plotted_words_and_colors = {}\n",
    "\n",
    "sentiment_classes = y_train.unique() \n",
    "for i, sentiment_class in enumerate(sentiment_classes):\n",
    "    sentiment_data = X_train[y_train == sentiment_class]\n",
    "    all_words_in_sentiment = [word for tokens in sentiment_data for word in tokens]\n",
    "    top_10 = Counter(all_words_in_sentiment).most_common(20)\n",
    "    \n",
    "    colors = []\n",
    "    \n",
    "    for word, _ in top_10:\n",
    "        if word not in plotted_words_and_colors:\n",
    "            new_color = color_palette.pop(0)\n",
    "            plotted_words_and_colors[word] = new_color\n",
    "        colors.append(plotted_words_and_colors[word])\n",
    "    \n",
    "    ax = axes[i]\n",
    "    words, counts = zip(*top_10)\n",
    "    ax.bar(words, counts, color=colors)\n",
    "    ax.set_title(f'Sentiment: {sentiment_class}') \n",
    "    ax.set_xticklabels(words, rotation=45, ha='right')\n",
    "\n",
    "fig.tight_layout() \n",
    "plt.show()"
   ]
  },
  {
   "cell_type": "code",
   "execution_count": 15,
   "id": "4a99040e-5a3c-4726-b8b8-3e53ec0c26d1",
   "metadata": {},
   "outputs": [
    {
     "data": {
      "text/plain": [
       "pandas.core.series.Series"
      ]
     },
     "execution_count": 15,
     "metadata": {},
     "output_type": "execute_result"
    }
   ],
   "source": [
    "type(X_train)"
   ]
  },
  {
   "cell_type": "code",
   "execution_count": 16,
   "id": "94f7b2c3-cf70-4c1a-89a9-9b0abe31bd51",
   "metadata": {},
   "outputs": [
    {
     "data": {
      "text/plain": [
       "0       [dense, una, vuelta, por, para, ver, la, gran,...\n",
       "1       [hey, folk, free, lunch, from, la, condesa, at...\n",
       "2       [the, countdown, to, ha, begun, will, be, ther...\n",
       "3       [rt, why, google, apple, ea, game, zynga, face...\n",
       "4       [the, line, wa, too, long, the, other, day, bu...\n",
       "                              ...                        \n",
       "4783    [rt, ill, be, at, the, apple, store, tonight, ...\n",
       "4784    [msft, panel, on, touch, interface, show, a, b...\n",
       "4785    [questioner, at, just, said, quot, thanks, and...\n",
       "4786    [rt, rt, yes, updated, iphone, app, ha, song, ...\n",
       "4787    [the, pressure, ahem, excuse, to, buy, mount, ...\n",
       "Length: 4788, dtype: object"
      ]
     },
     "execution_count": 16,
     "metadata": {},
     "output_type": "execute_result"
    }
   ],
   "source": [
    "rand_und = RandomUnderSampler(random_state=24)\n",
    "\n",
    "X_train_str = X_train.apply(' '.join) \n",
    "X_train_resampled, y_train_resampled = rand_und.fit_resample(X_train_str.values.reshape(-1, 1), y_train)\n",
    "X_train_resampled_tokens = pd.Series([sample[0].split(' ') for sample in X_train_resampled])\n",
    "X_train_resampled_tokens"
   ]
  },
  {
   "cell_type": "code",
   "execution_count": 17,
   "id": "6c0a51df-e4e7-4c62-a777-24756e685d5a",
   "metadata": {},
   "outputs": [
    {
     "data": {
      "image/png": "[encoded data removed]",
      "text/plain": [
       "<Figure size 1200x1200 with 2 Axes>"
      ]
     },
     "metadata": {},
     "output_type": "display_data"
    }
   ],
   "source": [
    "#check out the word distrobutions in X_train for each target class\n",
    "\n",
    "from collections import Counter\n",
    "\n",
    "color_palette = sns.color_palette('cividis', n_colors=38)\n",
    "\n",
    "fig, axes = plt.subplots(nrows=2, figsize=(12, 12)) \n",
    "\n",
    "plotted_words_and_colors = {}\n",
    "\n",
    "sentiment_classes = y_train.unique() \n",
    "for i, sentiment_class in enumerate(sentiment_classes):\n",
    "    sentiment_data = X_train_resampled_tokens[y_train_resampled == sentiment_class]\n",
    "    all_words_in_sentiment = [word for tokens in sentiment_data for word in tokens]\n",
    "    top_10 = Counter(all_words_in_sentiment).most_common(20)\n",
    "    \n",
    "    colors = []\n",
    "    \n",
    "    for word, _ in top_10:\n",
    "        if word not in plotted_words_and_colors:\n",
    "            new_color = color_palette.pop(0)\n",
    "            plotted_words_and_colors[word] = new_color\n",
    "        colors.append(plotted_words_and_colors[word])\n",
    "    \n",
    "    ax = axes[i]\n",
    "    words, counts = zip(*top_10)\n",
    "    ax.bar(words, counts, color=colors)\n",
    "    ax.set_title(f'Sentiment: {sentiment_class}') \n",
    "    ax.set_xticklabels(words, rotation=45, ha='right')\n",
    "\n",
    "fig.tight_layout() \n",
    "plt.show()"
   ]
  },
  {
   "cell_type": "code",
   "execution_count": 18,
   "id": "616a4754-621e-46ad-96c4-94ba031f628c",
   "metadata": {},
   "outputs": [],
   "source": [
    "# Join token lists into strings\n",
    "X_train_str = X_train.apply(' '.join)\n",
    "X_val_str = X_val.apply(' '.join)\n",
    "X_test_str = X_test.apply(' '.join)"
   ]
  },
  {
   "cell_type": "code",
   "execution_count": 19,
   "id": "81ccfb28-1003-4514-8226-e2e350b62c6a",
   "metadata": {},
   "outputs": [
    {
     "data": {
      "text/plain": [
       "7130"
      ]
     },
     "execution_count": 19,
     "metadata": {},
     "output_type": "execute_result"
    }
   ],
   "source": [
    "len(X_train_str)"
   ]
  },
  {
   "cell_type": "code",
   "execution_count": 20,
   "id": "425ba006-1bf2-4260-a5f6-880003fd35a1",
   "metadata": {},
   "outputs": [
    {
     "data": {
      "text/html": [
       "<style>#sk-container-id-1 {color: black;}#sk-container-id-1 pre{padding: 0;}#sk-container-id-1 div.sk-toggleable {background-color: white;}#sk-container-id-1 label.sk-toggleable__label {cursor: pointer;display: block;width: 100%;margin-bottom: 0;padding: 0.3em;box-sizing: border-box;text-align: center;}#sk-container-id-1 label.sk-toggleable__label-arrow:before {content: \"▸\";float: left;margin-right: 0.25em;color: #696969;}#sk-container-id-1 label.sk-toggleable__label-arrow:hover:before {color: black;}#sk-container-id-1 div.sk-estimator:hover label.sk-toggleable__label-arrow:before {color: black;}#sk-container-id-1 div.sk-toggleable__content {max-height: 0;max-width: 0;overflow: hidden;text-align: left;background-color: #f0f8ff;}#sk-container-id-1 div.sk-toggleable__content pre {margin: 0.2em;color: black;border-radius: 0.25em;background-color: #f0f8ff;}#sk-container-id-1 input.sk-toggleable__control:checked~div.sk-toggleable__content {max-height: 200px;max-width: 100%;overflow: auto;}#sk-container-id-1 input.sk-toggleable__control:checked~label.sk-toggleable__label-arrow:before {content: \"▾\";}#sk-container-id-1 div.sk-estimator input.sk-toggleable__control:checked~label.sk-toggleable__label {background-color: #d4ebff;}#sk-container-id-1 div.sk-label input.sk-toggleable__control:checked~label.sk-toggleable__label {background-color: #d4ebff;}#sk-container-id-1 input.sk-hidden--visually {border: 0;clip: rect(1px 1px 1px 1px);clip: rect(1px, 1px, 1px, 1px);height: 1px;margin: -1px;overflow: hidden;padding: 0;position: absolute;width: 1px;}#sk-container-id-1 div.sk-estimator {font-family: monospace;background-color: #f0f8ff;border: 1px dotted black;border-radius: 0.25em;box-sizing: border-box;margin-bottom: 0.5em;}#sk-container-id-1 div.sk-estimator:hover {background-color: #d4ebff;}#sk-container-id-1 div.sk-parallel-item::after {content: \"\";width: 100%;border-bottom: 1px solid gray;flex-grow: 1;}#sk-container-id-1 div.sk-label:hover label.sk-toggleable__label {background-color: #d4ebff;}#sk-container-id-1 div.sk-serial::before {content: \"\";position: absolute;border-left: 1px solid gray;box-sizing: border-box;top: 0;bottom: 0;left: 50%;z-index: 0;}#sk-container-id-1 div.sk-serial {display: flex;flex-direction: column;align-items: center;background-color: white;padding-right: 0.2em;padding-left: 0.2em;position: relative;}#sk-container-id-1 div.sk-item {position: relative;z-index: 1;}#sk-container-id-1 div.sk-parallel {display: flex;align-items: stretch;justify-content: center;background-color: white;position: relative;}#sk-container-id-1 div.sk-item::before, #sk-container-id-1 div.sk-parallel-item::before {content: \"\";position: absolute;border-left: 1px solid gray;box-sizing: border-box;top: 0;bottom: 0;left: 50%;z-index: -1;}#sk-container-id-1 div.sk-parallel-item {display: flex;flex-direction: column;z-index: 1;position: relative;background-color: white;}#sk-container-id-1 div.sk-parallel-item:first-child::after {align-self: flex-end;width: 50%;}#sk-container-id-1 div.sk-parallel-item:last-child::after {align-self: flex-start;width: 50%;}#sk-container-id-1 div.sk-parallel-item:only-child::after {width: 0;}#sk-container-id-1 div.sk-dashed-wrapped {border: 1px dashed gray;margin: 0 0.4em 0.5em 0.4em;box-sizing: border-box;padding-bottom: 0.4em;background-color: white;}#sk-container-id-1 div.sk-label label {font-family: monospace;font-weight: bold;display: inline-block;line-height: 1.2em;}#sk-container-id-1 div.sk-label-container {text-align: center;}#sk-container-id-1 div.sk-container {/* jupyter's `normalize.less` sets `[hidden] { display: none; }` but bootstrap.min.css set `[hidden] { display: none !important; }` so we also need the `!important` here to be able to override the default hidden behavior on the sphinx rendered scikit-learn.org. See: https://github.com/scikit-learn/scikit-learn/issues/21755 */display: inline-block !important;position: relative;}#sk-container-id-1 div.sk-text-repr-fallback {display: none;}</style><div id=\"sk-container-id-1\" class=\"sk-top-container\"><div class=\"sk-text-repr-fallback\"><pre>TfidfVectorizer(max_features=2000, min_df=0.0)</pre><b>In a Jupyter environment, please rerun this cell to show the HTML representation or trust the notebook. <br />On GitHub, the HTML representation is unable to render, please try loading this page with nbviewer.org.</b></div><div class=\"sk-container\" hidden><div class=\"sk-item\"><div class=\"sk-estimator sk-toggleable\"><input class=\"sk-toggleable__control sk-hidden--visually\" id=\"sk-estimator-id-1\" type=\"checkbox\" checked><label for=\"sk-estimator-id-1\" class=\"sk-toggleable__label sk-toggleable__label-arrow\">TfidfVectorizer</label><div class=\"sk-toggleable__content\"><pre>TfidfVectorizer(max_features=2000, min_df=0.0)</pre></div></div></div></div></div>"
      ],
      "text/plain": [
       "TfidfVectorizer(max_features=2000, min_df=0.0)"
      ]
     },
     "execution_count": 20,
     "metadata": {},
     "output_type": "execute_result"
    }
   ],
   "source": [
    "vector= TfidfVectorizer(max_features= 2000, ngram_range= (1,1), min_df= 0.0, max_df= 1.0)\n",
    "vector.fit(X_train_str)"
   ]
  },
  {
   "cell_type": "code",
   "execution_count": 21,
   "id": "4736cf98-2f09-4854-bb11-468db8d300fa",
   "metadata": {},
   "outputs": [],
   "source": [
    "#list(vector.get_feature_names_out())"
   ]
  },
  {
   "cell_type": "code",
   "execution_count": 22,
   "id": "eb53a194-6344-499d-a849-96b8af4e2208",
   "metadata": {},
   "outputs": [],
   "source": [
    "#vector= TfidfVectorizer(max_features= 2000, ngram_range= (1,1), min_df= .001, max_df= 1.0)\n",
    "#vector.fit(X_train_str.tolist())\n",
    "#list(vector.get_feature_names_out())"
   ]
  },
  {
   "cell_type": "code",
   "execution_count": 23,
   "id": "b50b227a-ec1a-402e-a108-49ee0e5a0d31",
   "metadata": {},
   "outputs": [],
   "source": [
    "#X_train_str[0]"
   ]
  },
  {
   "cell_type": "code",
   "execution_count": 24,
   "id": "eb8febbe-83a6-4032-b23b-8f664af3d8e0",
   "metadata": {},
   "outputs": [],
   "source": [
    "stopwords_list= stopwords.words('english')\n",
    "stopwords_list = [word for word in stopwords_list if word not in ['not', 'can']]\n",
    "#possibly append words to the list of stop words\n",
    "additional_stopwords= ['google', 'iphone', 'ipad', 'link', 'apple', 'rt', 'store', 'quot', 'austin', 'via', 'sxsw']\n",
    "stopwords_list2= stopwords_list + additional_stopwords"
   ]
  },
  {
   "cell_type": "code",
   "execution_count": 26,
   "id": "f37fdc0d-ed68-47f9-9f10-e3e2211fed97",
   "metadata": {},
   "outputs": [
    {
     "name": "stdout",
     "output_type": "stream",
     "text": [
      "Best Hyperparameters: {'tfidf__max_df': 0.85, 'tfidf__max_features': 4000, 'tfidf__min_df': 0.0, 'tfidf__ngram_range': (1, 2), 'tfidf__stop_words': 'english', 'tfidf__sublinear_tf': True, 'tfidf__use_idf': True}\n",
      "Best Train Cross-Validation Score: 0.7304\n",
      "Validation Set Accuracy: 0.7565\n"
     ]
    }
   ],
   "source": [
    "#run this on the standard X_train and y train\n",
    "\n",
    "pipeline1 = Pipeline([\n",
    "    ('tfidf', TfidfVectorizer()),\n",
    "    ('clf', LogisticRegression(random_state=24, \n",
    "                               C=1,\n",
    "                               class_weight=None,\n",
    "                               fit_intercept=True,\n",
    "                               solver='saga',\n",
    "                               tol=0.0001))])\n",
    "#make a parameter grid\n",
    "param_grid1 = {\n",
    "    'tfidf__max_features': [2000, 2500, 3000, 3500, 4000],\n",
    "    'tfidf__ngram_range': [(1, 1), (1,2), (2,2), (1,3), (3,3), (1,5), (5,5)],\n",
    "    'tfidf__min_df': [0.0, 0.1, 0.01, 0.001, 0.0001],\n",
    "    'tfidf__max_df': [0.85, 0.95, 1.0],\n",
    "    'tfidf__use_idf': [True, False],\n",
    "    'tfidf__stop_words': [stopwords_list2, stopwords_list, 'english', None],\n",
    "    'tfidf__sublinear_tf': [True, False]}\n",
    "\n",
    "    \n",
    "#run a grid search to find the most accurate version for logistic regression\n",
    "grid_search1 = GridSearchCV(\n",
    "    pipeline1,\n",
    "    param_grid1,\n",
    "    cv=5,\n",
    "    scoring='accuracy', \n",
    "    n_jobs=1,\n",
    "    verbose=0)\n",
    "\n",
    "# Fit the grid search to the training data\n",
    "grid_search1.fit(X_train_str, y_train)\n",
    "\n",
    "# Get the best train cross-validation score\n",
    "best_train_cv_score = grid_search1.best_score_\n",
    "\n",
    "# Get the best model found by grid search\n",
    "best_model = grid_search1.best_estimator_\n",
    "\n",
    "# Predict on the validation set\n",
    "y_val_pred = best_model.predict(X_val_str)\n",
    "\n",
    "# Evaluate performance (accuracy) on the validation set\n",
    "from sklearn.metrics import accuracy_score\n",
    "val_accuracy = accuracy_score(y_val, y_val_pred)\n",
    "\n",
    "# Get the best hyperparameters\n",
    "best_params = grid_search1.best_params_\n",
    "\n",
    "print(f\"Best Hyperparameters: {best_params}\")\n",
    "print(f\"Best Train Cross-Validation Score: {best_train_cv_score:.4f}\")\n",
    "print(f\"Validation Set Accuracy: {val_accuracy:.4f}\")"
   ]
  },
  {
   "cell_type": "code",
   "execution_count": 27,
   "id": "477d5c43-906c-440a-ba14-dccc5b0385c0",
   "metadata": {},
   "outputs": [
    {
     "data": {
      "text/plain": [
       "\"\\n\\nBest Hyperparameters: {'tfidf__max_df': 0.85, 'tfidf__max_features': 4000, 'tfidf__min_df': 0.0, 'tfidf__ngram_range': (1, 2), 'tfidf__stop_words': 'english', 'tfidf__sublinear_tf': True, 'tfidf__use_idf': True}\\nBest Train Cross-Validation Score: 0.7304\\nValidation Set Accuracy: 0.7565\\n\\n\\n\""
      ]
     },
     "execution_count": 27,
     "metadata": {},
     "output_type": "execute_result"
    }
   ],
   "source": [
    "\"\"\"\n",
    "\n",
    "Best Hyperparameters: {'tfidf__max_df': 0.85, 'tfidf__max_features': 4000, 'tfidf__min_df': 0.0, 'tfidf__ngram_range': (1, 2), 'tfidf__stop_words': 'english', 'tfidf__sublinear_tf': True, 'tfidf__use_idf': True}\n",
    "Best Train Cross-Validation Score: 0.7304\n",
    "Validation Set Accuracy: 0.7565\n",
    "\n",
    "\n",
    "\"\"\""
   ]
  },
  {
   "cell_type": "code",
   "execution_count": 32,
   "id": "8af0b66b-4a4a-4882-aac3-c530bf456998",
   "metadata": {},
   "outputs": [
    {
     "name": "stdout",
     "output_type": "stream",
     "text": [
      "Best Hyperparameters: {'tfidf__max_df': 1.0, 'tfidf__max_features': 3500, 'tfidf__min_df': 0.0, 'tfidf__ngram_range': (1, 2)}\n",
      "Best Train Cross-Validation Score: 0.6748\n",
      "Validation Set Accuracy: 0.6891\n"
     ]
    }
   ],
   "source": [
    "#run this on the random undersampled dataset\n",
    "#this seems to hurt things\n",
    "\n",
    "# Join token lists into strings\n",
    "X_train_str_ru = X_train_resampled_tokens.apply(' '.join)\n",
    "X_val_str = X_val.apply(' '.join)\n",
    "X_test_str = X_test.apply(' '.join)\n",
    "\n",
    "\n",
    "pipeline1 = Pipeline([\n",
    "    ('tfidf', TfidfVectorizer()),\n",
    "    ('clf', LogisticRegression(random_state=24, \n",
    "                               C=1,\n",
    "                               class_weight=None,\n",
    "                               fit_intercept=True,\n",
    "                               solver='saga',\n",
    "                               tol=0.0001))])\n",
    "#make a parameter grid\n",
    "param_grid1 = {\n",
    "    'tfidf__max_features': [2000, 2500, 3000, 3500],\n",
    "    'tfidf__ngram_range': [(1, 1), (1,2), (2,2), (1,3), (3,3), (1,5), (5,5)],\n",
    "    'tfidf__min_df': [0.0, 0.1, 0.01, 0.001, 0.0001, 0.00001],\n",
    "    'tfidf__max_df': [1.0]}\n",
    "\n",
    "#run a grid search to find the most accurate version for logistic regression\n",
    "grid_search1 = GridSearchCV(\n",
    "    pipeline1,\n",
    "    param_grid1,\n",
    "    cv=5,\n",
    "    scoring='accuracy', \n",
    "    n_jobs=1,\n",
    "    verbose=0)\n",
    "\n",
    "# Fit the grid search to the training data\n",
    "grid_search1.fit(X_train_str_ru, y_train_resampled)\n",
    "\n",
    "# Get the best train cross-validation score\n",
    "best_train_cv_score = grid_search1.best_score_\n",
    "\n",
    "# Get the best model found by grid search\n",
    "best_model = grid_search1.best_estimator_\n",
    "\n",
    "# Predict on the validation set\n",
    "y_val_pred = best_model.predict(X_val_str)\n",
    "\n",
    "# Evaluate performance (accuracy) on the validation set\n",
    "val_accuracy = accuracy_score(y_val, y_val_pred)\n",
    "\n",
    "# Get the best hyperparameters\n",
    "best_params = grid_search1.best_params_\n",
    "\n",
    "print(f\"Best Hyperparameters: {best_params}\")\n",
    "print(f\"Best Train Cross-Validation Score: {best_train_cv_score:.4f}\")\n",
    "print(f\"Validation Set Accuracy: {val_accuracy:.4f}\")"
   ]
  },
  {
   "cell_type": "code",
   "execution_count": null,
   "id": "e9a27aa0-6510-40b1-a8c3-732517a71214",
   "metadata": {},
   "outputs": [],
   "source": [
    "\"\"\"\n",
    "Best Hyperparameters: {'tfidf__max_df': 1.0, 'tfidf__max_features': 3500, 'tfidf__min_df': 0.0, 'tfidf__ngram_range': (1, 2)}\n",
    "Best Train Cross-Validation Score: 0.6748\n",
    "Validation Set Accuracy: 0.6891\n",
    "\n",
    "\"\"\""
   ]
  },
  {
   "cell_type": "code",
   "execution_count": 35,
   "id": "cdd8b6e5-61fe-44b0-a7c8-f0312a6733ba",
   "metadata": {},
   "outputs": [
    {
     "name": "stdout",
     "output_type": "stream",
     "text": [
      "None\n"
     ]
    }
   ],
   "source": [
    "print(stopwords_list2)"
   ]
  },
  {
   "cell_type": "code",
   "execution_count": 36,
   "id": "0ee8340a-ffa9-4a36-9c81-d336ae229b8d",
   "metadata": {},
   "outputs": [
    {
     "name": "stdout",
     "output_type": "stream",
     "text": [
      "Best Hyperparameters: {'tfidf__max_df': 1.0, 'tfidf__max_features': 3500, 'tfidf__min_df': 0.0, 'tfidf__ngram_range': (1, 3)}\n",
      "Best Train Cross-Validation Score: 0.7234\n",
      "Validation Set Accuracy: 0.7430\n"
     ]
    }
   ],
   "source": [
    "#run this on the adjusted stopword dataset\n",
    "\n",
    "stopwords_list= stopwords.words('english')\n",
    "stopwords_list = [word for word in stopwords_list if word not in ['not', 'can']]\n",
    "#possibly append words to the list of stop words\n",
    "additional_stopwords= ['google', 'iphone', 'ipad', 'link', 'apple', 'rt', 'store', 'quot', 'austin', 'via', 'sxsw']\n",
    "stopwords_list2= stopwords_list + additional_stopwords\n",
    "\n",
    "def remove_stopwords2(token_list):\n",
    "    list_stripped= [x for x in token_list if x not in stopwords_list2]\n",
    "    return list_stripped\n",
    "\n",
    "rel_raw_df['tweet_tokenized_ns2']= rel_raw_df['tweet_tokenized'].apply(remove_stopwords2)\n",
    "\n",
    "rel_raw_df['tweet_lem2'] = rel_raw_df['tweet_tokenized_ns2'].apply(lem_tokens)\n",
    "\n",
    "X= rel_raw_df['tweet_lem2']\n",
    "y= rel_raw_df['sentiment']\n",
    "\n",
    "#Train split (remain is the remaining data)\n",
    "X_train2, X_remain2, y_train, y_remain= train_test_split(X, y, \n",
    "                                                   test_size= 0.2,  \n",
    "                                                   random_state= 24)\n",
    "\n",
    "#Val test split \n",
    "X_val2, X_test2, y_val, y_test= train_test_split(X_remain2, y_remain,\n",
    "                                               test_size= 0.5, \n",
    "                                               random_state= 24)\n",
    "\n",
    "# Join token lists into strings\n",
    "X_train_str2= X_train2.apply(' '.join)\n",
    "X_val_str2= X_val2.apply(' '.join)\n",
    "X_test_str2= X_test2.apply(' '.join)\n",
    "\n",
    "\n",
    "pipeline1 = Pipeline([\n",
    "    ('tfidf', TfidfVectorizer()),\n",
    "    ('clf', LogisticRegression(random_state=24, \n",
    "                               C=1,\n",
    "                               class_weight=None,\n",
    "                               fit_intercept=True,\n",
    "                               solver='saga',\n",
    "                               tol=0.0001))])\n",
    "#make a parameter grid\n",
    "param_grid1 = {\n",
    "    'tfidf__max_features': [2000, 2500, 3000, 3500],\n",
    "    'tfidf__ngram_range': [(1, 1), (1,2), (2,2), (1,3), (3,3), (1,5), (5,5)],\n",
    "    'tfidf__min_df': [0.0, 0.1, 0.01, 0.001, 0.0001, 0.00001],\n",
    "    'tfidf__max_df': [1.0]}\n",
    "\n",
    "#run a grid search to find the most accurate version for logistic regression\n",
    "grid_search1 = GridSearchCV(\n",
    "    pipeline1,\n",
    "    param_grid1,\n",
    "    cv=5,\n",
    "    scoring='accuracy', \n",
    "    n_jobs=1,\n",
    "    verbose=0)\n",
    "\n",
    "# Fit the grid search to the training data\n",
    "grid_search1.fit(X_train_str2, y_train)\n",
    "\n",
    "# Get the best train cross-validation score\n",
    "best_train_cv_score = grid_search1.best_score_\n",
    "\n",
    "# Get the best model found by grid search\n",
    "best_model = grid_search1.best_estimator_\n",
    "\n",
    "# Predict on the validation set\n",
    "y_val_pred = best_model.predict(X_val_str2)\n",
    "\n",
    "# Evaluate performance (accuracy) on the validation set\n",
    "val_accuracy = accuracy_score(y_val, y_val_pred)\n",
    "\n",
    "# Get the best hyperparameters\n",
    "best_params = grid_search1.best_params_\n",
    "\n",
    "print(f\"Best Hyperparameters: {best_params}\")\n",
    "print(f\"Best Train Cross-Validation Score: {best_train_cv_score:.4f}\")\n",
    "print(f\"Validation Set Accuracy: {val_accuracy:.4f}\")"
   ]
  },
  {
   "cell_type": "code",
   "execution_count": 28,
   "id": "0c3742a6-1655-4b17-b51e-d1c015e3846f",
   "metadata": {},
   "outputs": [],
   "source": [
    "X_list_1= X_train_str[:100]"
   ]
  },
  {
   "cell_type": "code",
   "execution_count": 29,
   "id": "fd533d8e-2157-4050-815f-116da69372ce",
   "metadata": {},
   "outputs": [
    {
     "name": "stdout",
     "output_type": "stream",
     "text": [
      "Best Hyperparameters: {'tfidf__max_df': 0.8, 'tfidf__max_features': 3000, 'tfidf__min_df': 0.2, 'tfidf__ngram_range': (1, 2)}\n",
      "Best Train Cross-Validation Score: 0.6642\n",
      "Validation Set Accuracy: 0.6846\n"
     ]
    }
   ],
   "source": [
    "pipeline1 = Pipeline([\n",
    "    ('tfidf', TfidfVectorizer()),\n",
    "    ('clf', LogisticRegression(random_state=24, \n",
    "                               C=1,\n",
    "                               class_weight=None,\n",
    "                               fit_intercept=True,\n",
    "                               solver='saga',\n",
    "                               tol=0.0001))])\n",
    "#make a parameter grid\n",
    "param_grid1 = {\n",
    "    'tfidf__max_features': [3000],\n",
    "    'tfidf__ngram_range': [(1, 2)],\n",
    "    'tfidf__min_df': [0.2],\n",
    "    'tfidf__max_df': [0.8]}\n",
    "\n",
    "#run a grid search to find the most accurate version for logistic regression\n",
    "grid_search1 = GridSearchCV(\n",
    "    pipeline1,\n",
    "    param_grid1,\n",
    "    cv=5,\n",
    "    scoring='accuracy', \n",
    "    n_jobs=1,\n",
    "    verbose=0)\n",
    "\n",
    "grid_search1.fit(X_train_str, y_train)\n",
    "\n",
    "# Fit the grid search to the training data\n",
    "grid_search1.fit(X_train_str, y_train)\n",
    "\n",
    "# Get the best train cross-validation score\n",
    "best_train_cv_score = grid_search1.best_score_\n",
    "\n",
    "# Get the best model found by grid search\n",
    "best_model = grid_search1.best_estimator_\n",
    "\n",
    "# Predict on the validation set\n",
    "y_val_pred = best_model.predict(X_val_str)\n",
    "\n",
    "# Evaluate performance (accuracy) on the validation set\n",
    "from sklearn.metrics import accuracy_score\n",
    "val_accuracy = accuracy_score(y_val, y_val_pred)\n",
    "\n",
    "# Get the best hyperparameters\n",
    "best_params = grid_search1.best_params_\n",
    "\n",
    "print(f\"Best Hyperparameters: {best_params}\")\n",
    "print(f\"Best Train Cross-Validation Score: {best_train_cv_score:.4f}\")\n",
    "print(f\"Validation Set Accuracy: {val_accuracy:.4f}\")"
   ]
  },
  {
   "cell_type": "code",
   "execution_count": 30,
   "id": "2aaa88da-f711-4598-af65-d429f40069db",
   "metadata": {},
   "outputs": [],
   "source": [
    "X_list_2= X_train_str[:100]"
   ]
  },
  {
   "cell_type": "code",
   "execution_count": 31,
   "id": "b6bd4d1c-568a-4cb4-b89b-050bc002cbef",
   "metadata": {},
   "outputs": [
    {
     "data": {
      "text/plain": [
       "2915              opening popup shop downtown austin link\n",
       "6476    rt remember chime tweet experience central tim...\n",
       "6347     rt new app store inclds uberguide sponsored link\n",
       "8164                  sxsw first lecture phone turn stove\n",
       "8877    crowley growing foursquare competitor facebook...\n",
       "                              ...                        \n",
       "8805                          loving new iphone w channel\n",
       "959                        omgjk kiss ipad slap xoom link\n",
       "8864    crowd austin swarm ipad launch link via sadly ...\n",
       "3012    ahh wonderful news rt ipad available online or...\n",
       "332     long line apple pop store ipad great marketing...\n",
       "Name: tweet_lem, Length: 100, dtype: object"
      ]
     },
     "execution_count": 31,
     "metadata": {},
     "output_type": "execute_result"
    }
   ],
   "source": [
    "X_list_2[:100]"
   ]
  },
  {
   "cell_type": "code",
   "execution_count": 32,
   "id": "5717931b-d4b4-4afa-aadd-4f9313c1aa55",
   "metadata": {},
   "outputs": [
    {
     "data": {
      "text/plain": [
       "2915              opening popup shop downtown austin link\n",
       "6476    rt remember chime tweet experience central tim...\n",
       "6347     rt new app store inclds uberguide sponsored link\n",
       "8164                  sxsw first lecture phone turn stove\n",
       "8877    crowley growing foursquare competitor facebook...\n",
       "                              ...                        \n",
       "8805                          loving new iphone w channel\n",
       "959                        omgjk kiss ipad slap xoom link\n",
       "8864    crowd austin swarm ipad launch link via sadly ...\n",
       "3012    ahh wonderful news rt ipad available online or...\n",
       "332     long line apple pop store ipad great marketing...\n",
       "Name: tweet_lem, Length: 100, dtype: object"
      ]
     },
     "execution_count": 32,
     "metadata": {},
     "output_type": "execute_result"
    }
   ],
   "source": [
    "X_list_1[:100]"
   ]
  },
  {
   "cell_type": "code",
   "execution_count": null,
   "id": "328149ad-f0cf-41d2-bbd2-a8c2fc1e7246",
   "metadata": {},
   "outputs": [],
   "source": []
  }
 ],
 "metadata": {
  "kernelspec": {
   "display_name": "Python 3 (ipykernel)",
   "language": "python",
   "name": "python3"
  },
  "language_info": {
   "codemirror_mode": {
    "name": "ipython",
    "version": 3
   },
   "file_extension": ".py",
   "mimetype": "text/x-python",
   "name": "python",
   "nbconvert_exporter": "python",
   "pygments_lexer": "ipython3",
   "version": "3.8.19"
  }
 },
 "nbformat": 4,
 "nbformat_minor": 5
}
