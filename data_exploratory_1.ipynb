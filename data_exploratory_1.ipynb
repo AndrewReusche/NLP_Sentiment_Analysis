{
 "cells": [
  {
   "cell_type": "code",
   "execution_count": 60,
   "id": "210966c5-e919-40fe-8977-cf8767aaab09",
   "metadata": {},
   "outputs": [
    {
     "name": "stderr",
     "output_type": "stream",
     "text": [
      "[nltk_data] Downloading package wordnet to\n",
      "[nltk_data]     /Users/andrewreusche/nltk_data...\n",
      "[nltk_data]   Package wordnet is already up-to-date!\n"
     ]
    }
   ],
   "source": [
    "#import relevant libraries\n",
    "import pandas as pd\n",
    "pd.set_option('max_colwidth', 400)\n",
    "import numpy as np\n",
    "import re\n",
    "import matplotlib.pyplot as plt\n",
    "import seaborn as sns\n",
    "\n",
    "import nltk\n",
    "from nltk.tokenize import RegexpTokenizer, sent_tokenize, word_tokenize\n",
    "from nltk.corpus import stopwords\n",
    "nltk.download('stopwords', quiet=True)\n",
    "from nltk.stem import PorterStemmer, SnowballStemmer\n",
    "from nltk import FreqDist, pos_tag\n",
    "nltk.download('punkt', quiet=True)\n",
    "from nltk.stem import WordNetLemmatizer\n",
    "from nltk.corpus import wordnet\n",
    "nltk.download('wordnet')\n",
    "from nltk.sentiment.vader import SentimentIntensityAnalyzer\n",
    "\n",
    "\n",
    "from sklearn.model_selection import train_test_split, cross_val_score, GridSearchCV\n",
    "from sklearn.feature_extraction.text import TfidfVectorizer, CountVectorizer\n",
    "from sklearn.naive_bayes import MultinomialNB\n",
    "from sklearn.tree import DecisionTreeClassifier\n",
    "from sklearn.neighbors import KNeighborsClassifier\n",
    "from sklearn.cluster import KMeans\n",
    "from sklearn.metrics import accuracy_score, confusion_matrix, ConfusionMatrixDisplay \n",
    "from sklearn.metrics import silhouette_score\n",
    "from sklearn.pipeline import Pipeline\n",
    "from sklearn.impute import SimpleImputer\n",
    "from sklearn.preprocessing import StandardScaler"
   ]
  },
  {
   "cell_type": "code",
   "execution_count": 2,
   "id": "7601ece4-c272-41ff-879a-e9a38a118aa1",
   "metadata": {},
   "outputs": [
    {
     "data": {
      "text/plain": [
       "'\\npossible project order\\n\\ndefine problem \\ncollect data\\npreprocess data\\nexploratory data analysis\\nmodel selection (logistic, niave bayes, support vector machines, neural networks)\\ntrain model \\ntune model\\nmodel eval\\n'"
      ]
     },
     "execution_count": 2,
     "metadata": {},
     "output_type": "execute_result"
    }
   ],
   "source": [
    "\"\"\"\n",
    "possible project order\n",
    "\n",
    "define problem \n",
    "collect data\n",
    "preprocess data\n",
    "exploratory data analysis\n",
    "model selection (logistic, niave bayes, support vector machines, neural networks)\n",
    "train model \n",
    "tune model\n",
    "model eval\n",
    "\"\"\""
   ]
  },
  {
   "cell_type": "code",
   "execution_count": 3,
   "id": "e8daab59-2212-41b0-a3ce-fe04b0521730",
   "metadata": {},
   "outputs": [],
   "source": [
    "#thoughts: maybe lemmetize instead of stemming for higher accuracy"
   ]
  },
  {
   "cell_type": "code",
   "execution_count": 4,
   "id": "9cf60e36-b879-4c55-bfff-113f00cdac29",
   "metadata": {},
   "outputs": [],
   "source": [
    "df= pd.read_csv('data/judge-1377884607_tweet_product_company.csv', encoding='ISO-8859-1')"
   ]
  },
  {
   "cell_type": "code",
   "execution_count": 5,
   "id": "5923992f-83fa-415c-8ce2-733346621baf",
   "metadata": {},
   "outputs": [
    {
     "data": {
      "text/html": [
       "<div>\n",
       "<style scoped>\n",
       "    .dataframe tbody tr th:only-of-type {\n",
       "        vertical-align: middle;\n",
       "    }\n",
       "\n",
       "    .dataframe tbody tr th {\n",
       "        vertical-align: top;\n",
       "    }\n",
       "\n",
       "    .dataframe thead th {\n",
       "        text-align: right;\n",
       "    }\n",
       "</style>\n",
       "<table border=\"1\" class=\"dataframe\">\n",
       "  <thead>\n",
       "    <tr style=\"text-align: right;\">\n",
       "      <th></th>\n",
       "      <th>tweet_text</th>\n",
       "      <th>emotion_in_tweet_is_directed_at</th>\n",
       "      <th>is_there_an_emotion_directed_at_a_brand_or_product</th>\n",
       "    </tr>\n",
       "  </thead>\n",
       "  <tbody>\n",
       "    <tr>\n",
       "      <th>0</th>\n",
       "      <td>.@wesley83 I have a 3G iPhone. After 3 hrs tweeting at #RISE_Austin, it was dead!  I need to upgrade. Plugin stations at #SXSW.</td>\n",
       "      <td>iPhone</td>\n",
       "      <td>Negative emotion</td>\n",
       "    </tr>\n",
       "    <tr>\n",
       "      <th>1</th>\n",
       "      <td>@jessedee Know about @fludapp ? Awesome iPad/iPhone app that you'll likely appreciate for its design. Also, they're giving free Ts at #SXSW</td>\n",
       "      <td>iPad or iPhone App</td>\n",
       "      <td>Positive emotion</td>\n",
       "    </tr>\n",
       "    <tr>\n",
       "      <th>2</th>\n",
       "      <td>@swonderlin Can not wait for #iPad 2 also. They should sale them down at #SXSW.</td>\n",
       "      <td>iPad</td>\n",
       "      <td>Positive emotion</td>\n",
       "    </tr>\n",
       "    <tr>\n",
       "      <th>3</th>\n",
       "      <td>@sxsw I hope this year's festival isn't as crashy as this year's iPhone app. #sxsw</td>\n",
       "      <td>iPad or iPhone App</td>\n",
       "      <td>Negative emotion</td>\n",
       "    </tr>\n",
       "    <tr>\n",
       "      <th>4</th>\n",
       "      <td>@sxtxstate great stuff on Fri #SXSW: Marissa Mayer (Google), Tim O'Reilly (tech books/conferences) &amp;amp; Matt Mullenweg (Wordpress)</td>\n",
       "      <td>Google</td>\n",
       "      <td>Positive emotion</td>\n",
       "    </tr>\n",
       "  </tbody>\n",
       "</table>\n",
       "</div>"
      ],
      "text/plain": [
       "                                                                                                                                    tweet_text  \\\n",
       "0              .@wesley83 I have a 3G iPhone. After 3 hrs tweeting at #RISE_Austin, it was dead!  I need to upgrade. Plugin stations at #SXSW.   \n",
       "1  @jessedee Know about @fludapp ? Awesome iPad/iPhone app that you'll likely appreciate for its design. Also, they're giving free Ts at #SXSW   \n",
       "2                                                              @swonderlin Can not wait for #iPad 2 also. They should sale them down at #SXSW.   \n",
       "3                                                           @sxsw I hope this year's festival isn't as crashy as this year's iPhone app. #sxsw   \n",
       "4          @sxtxstate great stuff on Fri #SXSW: Marissa Mayer (Google), Tim O'Reilly (tech books/conferences) &amp; Matt Mullenweg (Wordpress)   \n",
       "\n",
       "  emotion_in_tweet_is_directed_at  \\\n",
       "0                          iPhone   \n",
       "1              iPad or iPhone App   \n",
       "2                            iPad   \n",
       "3              iPad or iPhone App   \n",
       "4                          Google   \n",
       "\n",
       "  is_there_an_emotion_directed_at_a_brand_or_product  \n",
       "0                                   Negative emotion  \n",
       "1                                   Positive emotion  \n",
       "2                                   Positive emotion  \n",
       "3                                   Negative emotion  \n",
       "4                                   Positive emotion  "
      ]
     },
     "execution_count": 5,
     "metadata": {},
     "output_type": "execute_result"
    }
   ],
   "source": [
    "df.head()"
   ]
  },
  {
   "cell_type": "code",
   "execution_count": 6,
   "id": "6060f0af-0423-4eef-b8c6-2eb0ce75f042",
   "metadata": {},
   "outputs": [
    {
     "name": "stdout",
     "output_type": "stream",
     "text": [
      "<class 'pandas.core.frame.DataFrame'>\n",
      "RangeIndex: 9093 entries, 0 to 9092\n",
      "Data columns (total 3 columns):\n",
      " #   Column                                              Non-Null Count  Dtype \n",
      "---  ------                                              --------------  ----- \n",
      " 0   tweet_text                                          9092 non-null   object\n",
      " 1   emotion_in_tweet_is_directed_at                     3291 non-null   object\n",
      " 2   is_there_an_emotion_directed_at_a_brand_or_product  9093 non-null   object\n",
      "dtypes: object(3)\n",
      "memory usage: 213.2+ KB\n"
     ]
    }
   ],
   "source": [
    "df.info()"
   ]
  },
  {
   "cell_type": "code",
   "execution_count": 7,
   "id": "cfe0d9a8-7498-497e-a061-e5052297f08b",
   "metadata": {},
   "outputs": [],
   "source": [
    "#there seems to be only one missing tweet from 9093 instances so we will just drop that.\n",
    "#the product category column is missing over 2/3 of the data so we will drop that as well"
   ]
  },
  {
   "cell_type": "code",
   "execution_count": 8,
   "id": "d3c4401a-57fd-4ac4-9fee-4a99205d66c3",
   "metadata": {},
   "outputs": [],
   "source": [
    "#create a new df with just the data we want\n",
    "raw_df= df[['tweet_text','is_there_an_emotion_directed_at_a_brand_or_product']]"
   ]
  },
  {
   "cell_type": "code",
   "execution_count": 9,
   "id": "f777ac87-3db7-414a-a531-8dc10a52e0e2",
   "metadata": {},
   "outputs": [
    {
     "data": {
      "text/html": [
       "<div>\n",
       "<style scoped>\n",
       "    .dataframe tbody tr th:only-of-type {\n",
       "        vertical-align: middle;\n",
       "    }\n",
       "\n",
       "    .dataframe tbody tr th {\n",
       "        vertical-align: top;\n",
       "    }\n",
       "\n",
       "    .dataframe thead th {\n",
       "        text-align: right;\n",
       "    }\n",
       "</style>\n",
       "<table border=\"1\" class=\"dataframe\">\n",
       "  <thead>\n",
       "    <tr style=\"text-align: right;\">\n",
       "      <th></th>\n",
       "      <th>tweet_text</th>\n",
       "      <th>is_there_an_emotion_directed_at_a_brand_or_product</th>\n",
       "    </tr>\n",
       "  </thead>\n",
       "  <tbody>\n",
       "    <tr>\n",
       "      <th>0</th>\n",
       "      <td>.@wesley83 I have a 3G iPhone. After 3 hrs tweeting at #RISE_Austin, it was dead!  I need to upgrade. Plugin stations at #SXSW.</td>\n",
       "      <td>Negative emotion</td>\n",
       "    </tr>\n",
       "    <tr>\n",
       "      <th>1</th>\n",
       "      <td>@jessedee Know about @fludapp ? Awesome iPad/iPhone app that you'll likely appreciate for its design. Also, they're giving free Ts at #SXSW</td>\n",
       "      <td>Positive emotion</td>\n",
       "    </tr>\n",
       "    <tr>\n",
       "      <th>2</th>\n",
       "      <td>@swonderlin Can not wait for #iPad 2 also. They should sale them down at #SXSW.</td>\n",
       "      <td>Positive emotion</td>\n",
       "    </tr>\n",
       "    <tr>\n",
       "      <th>3</th>\n",
       "      <td>@sxsw I hope this year's festival isn't as crashy as this year's iPhone app. #sxsw</td>\n",
       "      <td>Negative emotion</td>\n",
       "    </tr>\n",
       "    <tr>\n",
       "      <th>4</th>\n",
       "      <td>@sxtxstate great stuff on Fri #SXSW: Marissa Mayer (Google), Tim O'Reilly (tech books/conferences) &amp;amp; Matt Mullenweg (Wordpress)</td>\n",
       "      <td>Positive emotion</td>\n",
       "    </tr>\n",
       "  </tbody>\n",
       "</table>\n",
       "</div>"
      ],
      "text/plain": [
       "                                                                                                                                    tweet_text  \\\n",
       "0              .@wesley83 I have a 3G iPhone. After 3 hrs tweeting at #RISE_Austin, it was dead!  I need to upgrade. Plugin stations at #SXSW.   \n",
       "1  @jessedee Know about @fludapp ? Awesome iPad/iPhone app that you'll likely appreciate for its design. Also, they're giving free Ts at #SXSW   \n",
       "2                                                              @swonderlin Can not wait for #iPad 2 also. They should sale them down at #SXSW.   \n",
       "3                                                           @sxsw I hope this year's festival isn't as crashy as this year's iPhone app. #sxsw   \n",
       "4          @sxtxstate great stuff on Fri #SXSW: Marissa Mayer (Google), Tim O'Reilly (tech books/conferences) &amp; Matt Mullenweg (Wordpress)   \n",
       "\n",
       "  is_there_an_emotion_directed_at_a_brand_or_product  \n",
       "0                                   Negative emotion  \n",
       "1                                   Positive emotion  \n",
       "2                                   Positive emotion  \n",
       "3                                   Negative emotion  \n",
       "4                                   Positive emotion  "
      ]
     },
     "execution_count": 9,
     "metadata": {},
     "output_type": "execute_result"
    }
   ],
   "source": [
    "raw_df.head()"
   ]
  },
  {
   "cell_type": "code",
   "execution_count": 10,
   "id": "fc310f70-7022-4a83-8a8e-4ee563e81ec5",
   "metadata": {},
   "outputs": [
    {
     "name": "stdout",
     "output_type": "stream",
     "text": [
      "<class 'pandas.core.frame.DataFrame'>\n",
      "RangeIndex: 9093 entries, 0 to 9092\n",
      "Data columns (total 2 columns):\n",
      " #   Column                                              Non-Null Count  Dtype \n",
      "---  ------                                              --------------  ----- \n",
      " 0   tweet_text                                          9092 non-null   object\n",
      " 1   is_there_an_emotion_directed_at_a_brand_or_product  9093 non-null   object\n",
      "dtypes: object(2)\n",
      "memory usage: 142.2+ KB\n"
     ]
    }
   ],
   "source": [
    "raw_df.info()"
   ]
  },
  {
   "cell_type": "code",
   "execution_count": 11,
   "id": "740a0b25-f740-484e-8834-e3d8741ba69b",
   "metadata": {},
   "outputs": [],
   "source": [
    "raw_df= raw_df.dropna()"
   ]
  },
  {
   "cell_type": "code",
   "execution_count": 12,
   "id": "29174abd-dfda-42f8-a56d-689f2f9a79b9",
   "metadata": {},
   "outputs": [
    {
     "name": "stdout",
     "output_type": "stream",
     "text": [
      "<class 'pandas.core.frame.DataFrame'>\n",
      "Index: 9092 entries, 0 to 9092\n",
      "Data columns (total 2 columns):\n",
      " #   Column                                              Non-Null Count  Dtype \n",
      "---  ------                                              --------------  ----- \n",
      " 0   tweet_text                                          9092 non-null   object\n",
      " 1   is_there_an_emotion_directed_at_a_brand_or_product  9092 non-null   object\n",
      "dtypes: object(2)\n",
      "memory usage: 213.1+ KB\n"
     ]
    }
   ],
   "source": [
    "raw_df.info()"
   ]
  },
  {
   "cell_type": "code",
   "execution_count": 13,
   "id": "dab95d9a-7024-4bcc-a874-fa1bfd732092",
   "metadata": {},
   "outputs": [
    {
     "data": {
      "text/plain": [
       "0                  .@wesley83 I have a 3G iPhone. After 3 hrs tweeting at #RISE_Austin, it was dead!  I need to upgrade. Plugin stations at #SXSW.\n",
       "1      @jessedee Know about @fludapp ? Awesome iPad/iPhone app that you'll likely appreciate for its design. Also, they're giving free Ts at #SXSW\n",
       "2                                                                  @swonderlin Can not wait for #iPad 2 also. They should sale them down at #SXSW.\n",
       "3                                                               @sxsw I hope this year's festival isn't as crashy as this year's iPhone app. #sxsw\n",
       "4              @sxtxstate great stuff on Fri #SXSW: Marissa Mayer (Google), Tim O'Reilly (tech books/conferences) &amp; Matt Mullenweg (Wordpress)\n",
       "                                                                          ...                                                                     \n",
       "96                      Yai!!! RT @mention New #UberSocial for #iPhone now in the App Store includes UberGuide to #SXSW sponsored by (cont) {link}\n",
       "97                                           Yes!!! RT @mention hey @mention , i've got another gem for you --&gt; free @mention sxsw {link} #SXSW\n",
       "98                                                      Fast, Fun &amp; Future: @mention of Google presenting at #sxsw on search, local and mobile\n",
       "99                                  GSD&amp;M &amp; Google's Industry Party Tonight @mention - See u there! {link} #SXSW #Austin #Welivehere #GSDM\n",
       "100               New buzz? &quot;@mention Google to Launch Major New Social Network Called Circles, Possibly Today {link} rt @mention #sxsw&quot;\n",
       "Name: tweet_text, Length: 100, dtype: object"
      ]
     },
     "execution_count": 13,
     "metadata": {},
     "output_type": "execute_result"
    }
   ],
   "source": [
    "# I believe that all the tweets start with the twitter handle lets look\n",
    "raw_df['tweet_text'][:100]"
   ]
  },
  {
   "cell_type": "code",
   "execution_count": 14,
   "id": "b0e94c77-b378-4324-a766-ff34b12c5dae",
   "metadata": {},
   "outputs": [],
   "source": [
    "#this seems to be a false hypothesis, but the analysis might benefitting us from dropping the @names as part of the\n",
    "#stop words. They are just names and don't really hint at sentiment.\n"
   ]
  },
  {
   "cell_type": "code",
   "execution_count": 15,
   "id": "d938da97-ad90-4ec5-b88d-8cd2cf62128d",
   "metadata": {},
   "outputs": [
    {
     "name": "stdout",
     "output_type": "stream",
     "text": [
      "<class 'pandas.core.frame.DataFrame'>\n",
      "Index: 9070 entries, 0 to 9092\n",
      "Data columns (total 2 columns):\n",
      " #   Column                                              Non-Null Count  Dtype \n",
      "---  ------                                              --------------  ----- \n",
      " 0   tweet_text                                          9070 non-null   object\n",
      " 1   is_there_an_emotion_directed_at_a_brand_or_product  9070 non-null   object\n",
      "dtypes: object(2)\n",
      "memory usage: 212.6+ KB\n"
     ]
    }
   ],
   "source": [
    "#check for duplicates\n",
    "raw_df = raw_df.drop_duplicates(keep='first')\n",
    "raw_df.info()"
   ]
  },
  {
   "cell_type": "code",
   "execution_count": 16,
   "id": "633c2f8d-2c0e-4cb3-946e-5bdde3e0ea8d",
   "metadata": {},
   "outputs": [],
   "source": [
    "#it seems there were 22 duplicates, we removed them"
   ]
  },
  {
   "cell_type": "code",
   "execution_count": 17,
   "id": "16c52239-03f8-48b5-b02e-159dd141847c",
   "metadata": {},
   "outputs": [
    {
     "data": {
      "text/html": [
       "<div>\n",
       "<style scoped>\n",
       "    .dataframe tbody tr th:only-of-type {\n",
       "        vertical-align: middle;\n",
       "    }\n",
       "\n",
       "    .dataframe tbody tr th {\n",
       "        vertical-align: top;\n",
       "    }\n",
       "\n",
       "    .dataframe thead th {\n",
       "        text-align: right;\n",
       "    }\n",
       "</style>\n",
       "<table border=\"1\" class=\"dataframe\">\n",
       "  <thead>\n",
       "    <tr style=\"text-align: right;\">\n",
       "      <th></th>\n",
       "      <th>tweet</th>\n",
       "      <th>sentiment</th>\n",
       "    </tr>\n",
       "  </thead>\n",
       "  <tbody>\n",
       "    <tr>\n",
       "      <th>0</th>\n",
       "      <td>.@wesley83 I have a 3G iPhone. After 3 hrs tweeting at #RISE_Austin, it was dead!  I need to upgrade. Plugin stations at #SXSW.</td>\n",
       "      <td>Negative emotion</td>\n",
       "    </tr>\n",
       "    <tr>\n",
       "      <th>1</th>\n",
       "      <td>@jessedee Know about @fludapp ? Awesome iPad/iPhone app that you'll likely appreciate for its design. Also, they're giving free Ts at #SXSW</td>\n",
       "      <td>Positive emotion</td>\n",
       "    </tr>\n",
       "    <tr>\n",
       "      <th>2</th>\n",
       "      <td>@swonderlin Can not wait for #iPad 2 also. They should sale them down at #SXSW.</td>\n",
       "      <td>Positive emotion</td>\n",
       "    </tr>\n",
       "    <tr>\n",
       "      <th>3</th>\n",
       "      <td>@sxsw I hope this year's festival isn't as crashy as this year's iPhone app. #sxsw</td>\n",
       "      <td>Negative emotion</td>\n",
       "    </tr>\n",
       "    <tr>\n",
       "      <th>4</th>\n",
       "      <td>@sxtxstate great stuff on Fri #SXSW: Marissa Mayer (Google), Tim O'Reilly (tech books/conferences) &amp;amp; Matt Mullenweg (Wordpress)</td>\n",
       "      <td>Positive emotion</td>\n",
       "    </tr>\n",
       "  </tbody>\n",
       "</table>\n",
       "</div>"
      ],
      "text/plain": [
       "                                                                                                                                         tweet  \\\n",
       "0              .@wesley83 I have a 3G iPhone. After 3 hrs tweeting at #RISE_Austin, it was dead!  I need to upgrade. Plugin stations at #SXSW.   \n",
       "1  @jessedee Know about @fludapp ? Awesome iPad/iPhone app that you'll likely appreciate for its design. Also, they're giving free Ts at #SXSW   \n",
       "2                                                              @swonderlin Can not wait for #iPad 2 also. They should sale them down at #SXSW.   \n",
       "3                                                           @sxsw I hope this year's festival isn't as crashy as this year's iPhone app. #sxsw   \n",
       "4          @sxtxstate great stuff on Fri #SXSW: Marissa Mayer (Google), Tim O'Reilly (tech books/conferences) &amp; Matt Mullenweg (Wordpress)   \n",
       "\n",
       "          sentiment  \n",
       "0  Negative emotion  \n",
       "1  Positive emotion  \n",
       "2  Positive emotion  \n",
       "3  Negative emotion  \n",
       "4  Positive emotion  "
      ]
     },
     "execution_count": 17,
     "metadata": {},
     "output_type": "execute_result"
    }
   ],
   "source": [
    "#lets rename the columns to more convienient nmames\n",
    "raw_df = raw_df.rename(columns={'tweet_text': 'tweet', \n",
    "                                'is_there_an_emotion_directed_at_a_brand_or_product': 'sentiment'})\n",
    "raw_df.head()"
   ]
  },
  {
   "cell_type": "code",
   "execution_count": 18,
   "id": "a2e1a43b-5380-4ef0-9a03-b0767c599e8d",
   "metadata": {},
   "outputs": [
    {
     "data": {
      "text/plain": [
       "sentiment\n",
       "No emotion toward brand or product    5375\n",
       "Positive emotion                      2970\n",
       "Negative emotion                       569\n",
       "I can't tell                           156\n",
       "Name: count, dtype: int64"
      ]
     },
     "execution_count": 18,
     "metadata": {},
     "output_type": "execute_result"
    }
   ],
   "source": [
    "#lets check out the sentiment distribution to see if it is relatively ever or skewed\n",
    "raw_df['sentiment'].value_counts()"
   ]
  },
  {
   "cell_type": "code",
   "execution_count": 47,
   "id": "efc478a7-8ae0-4529-bbec-35452b5698b9",
   "metadata": {},
   "outputs": [
    {
     "data": {
      "text/plain": [
       "sentiment\n",
       "No emotion toward brand or product    0.592613\n",
       "Positive emotion                      0.327453\n",
       "Negative emotion                      0.062734\n",
       "I can't tell                          0.017200\n",
       "Name: proportion, dtype: float64"
      ]
     },
     "execution_count": 47,
     "metadata": {},
     "output_type": "execute_result"
    }
   ],
   "source": [
    "raw_df['sentiment'].value_counts(normalize= True)"
   ]
  },
  {
   "cell_type": "code",
   "execution_count": 19,
   "id": "008ebdfb-8993-4f98-9588-fbda0509bdd0",
   "metadata": {},
   "outputs": [
    {
     "data": {
      "text/plain": [
       "90                Thanks to @mention for publishing the news of @mention new medical Apps at the #sxswi conf. blog {link} #sxsw #sxswh\n",
       "102    ÛÏ@mention &quot;Apple has opened a pop-up store in Austin so the nerds in town for #SXSW can get their new iPads. {link} #wow\n",
       "237         Just what America needs. RT @mention Google to Launch Major New Social Network Called Circles, Possibly Today {link} #sxsw\n",
       "341                                                     The queue at the Apple Store in Austin is FOUR blocks long. Crazy stuff! #sxsw\n",
       "368                  Hope it's better than wave RT @mention Buzz is: Google's previewing a social networking platform at #SXSW: {link}\n",
       "Name: tweet, dtype: object"
      ]
     },
     "execution_count": 19,
     "metadata": {},
     "output_type": "execute_result"
    }
   ],
   "source": [
    "#lets see if we can shed any light on the \"I can't tell\" instances \n",
    "raw_df['tweet'][raw_df['sentiment'] == \"I can't tell\"].head()  "
   ]
  },
  {
   "cell_type": "code",
   "execution_count": 20,
   "id": "1433c6ce-3e58-49a0-9498-489d6f5d8f0d",
   "metadata": {},
   "outputs": [
    {
     "data": {
      "text/plain": [
       "sentiment\n",
       "No emotion toward brand or product    5375\n",
       "Positive emotion                      2970\n",
       "Negative emotion                       569\n",
       "Name: count, dtype: int64"
      ]
     },
     "execution_count": 20,
     "metadata": {},
     "output_type": "execute_result"
    }
   ],
   "source": [
    "#get rid of all instances of 'couldn't tell'\n",
    "rel_raw_df = raw_df[raw_df['sentiment'] != \"I can't tell\"]\n",
    "rel_raw_df['sentiment'].value_counts()"
   ]
  },
  {
   "cell_type": "code",
   "execution_count": 48,
   "id": "2a9ebf51-01aa-484a-bd32-d5bf55dbe2ed",
   "metadata": {},
   "outputs": [
    {
     "data": {
      "text/plain": [
       "sentiment\n",
       "No emotion toward brand or product    0.602984\n",
       "Positive emotion                      0.333184\n",
       "Negative emotion                      0.063832\n",
       "Name: proportion, dtype: float64"
      ]
     },
     "execution_count": 48,
     "metadata": {},
     "output_type": "execute_result"
    }
   ],
   "source": [
    "rel_raw_df['sentiment'].value_counts(normalize= True)"
   ]
  },
  {
   "cell_type": "code",
   "execution_count": 21,
   "id": "c0a26f58-ba76-4537-8212-64fd50bee476",
   "metadata": {},
   "outputs": [
    {
     "name": "stderr",
     "output_type": "stream",
     "text": [
      "/var/folders/p_/7g5qyc8d5zv5nfywm65yhpkc0000gn/T/ipykernel_50345/785506546.py:2: SettingWithCopyWarning: \n",
      "A value is trying to be set on a copy of a slice from a DataFrame.\n",
      "Try using .loc[row_indexer,col_indexer] = value instead\n",
      "\n",
      "See the caveats in the documentation: https://pandas.pydata.org/pandas-docs/stable/user_guide/indexing.html#returning-a-view-versus-a-copy\n",
      "  rel_raw_df[\"tweet\"] = rel_raw_df[\"tweet\"].str.lower()\n"
     ]
    },
    {
     "data": {
      "text/html": [
       "<div>\n",
       "<style scoped>\n",
       "    .dataframe tbody tr th:only-of-type {\n",
       "        vertical-align: middle;\n",
       "    }\n",
       "\n",
       "    .dataframe tbody tr th {\n",
       "        vertical-align: top;\n",
       "    }\n",
       "\n",
       "    .dataframe thead th {\n",
       "        text-align: right;\n",
       "    }\n",
       "</style>\n",
       "<table border=\"1\" class=\"dataframe\">\n",
       "  <thead>\n",
       "    <tr style=\"text-align: right;\">\n",
       "      <th></th>\n",
       "      <th>tweet</th>\n",
       "      <th>sentiment</th>\n",
       "    </tr>\n",
       "  </thead>\n",
       "  <tbody>\n",
       "    <tr>\n",
       "      <th>0</th>\n",
       "      <td>.@wesley83 i have a 3g iphone. after 3 hrs tweeting at #rise_austin, it was dead!  i need to upgrade. plugin stations at #sxsw.</td>\n",
       "      <td>Negative emotion</td>\n",
       "    </tr>\n",
       "    <tr>\n",
       "      <th>1</th>\n",
       "      <td>@jessedee know about @fludapp ? awesome ipad/iphone app that you'll likely appreciate for its design. also, they're giving free ts at #sxsw</td>\n",
       "      <td>Positive emotion</td>\n",
       "    </tr>\n",
       "    <tr>\n",
       "      <th>2</th>\n",
       "      <td>@swonderlin can not wait for #ipad 2 also. they should sale them down at #sxsw.</td>\n",
       "      <td>Positive emotion</td>\n",
       "    </tr>\n",
       "    <tr>\n",
       "      <th>3</th>\n",
       "      <td>@sxsw i hope this year's festival isn't as crashy as this year's iphone app. #sxsw</td>\n",
       "      <td>Negative emotion</td>\n",
       "    </tr>\n",
       "    <tr>\n",
       "      <th>4</th>\n",
       "      <td>@sxtxstate great stuff on fri #sxsw: marissa mayer (google), tim o'reilly (tech books/conferences) &amp;amp; matt mullenweg (wordpress)</td>\n",
       "      <td>Positive emotion</td>\n",
       "    </tr>\n",
       "    <tr>\n",
       "      <th>5</th>\n",
       "      <td>@teachntech00 new ipad apps for #speechtherapy and communication are showcased at the #sxsw conference http://ht.ly/49n4m #iear #edchat #asd</td>\n",
       "      <td>No emotion toward brand or product</td>\n",
       "    </tr>\n",
       "    <tr>\n",
       "      <th>7</th>\n",
       "      <td>#sxsw is just starting, #ctia is around the corner and #googleio is only a hop skip and a jump from there, good time to be an #android fan</td>\n",
       "      <td>Positive emotion</td>\n",
       "    </tr>\n",
       "    <tr>\n",
       "      <th>8</th>\n",
       "      <td>beautifully smart and simple idea rt @madebymany @thenextweb wrote about our #hollergram ipad app for #sxsw! http://bit.ly/ieavob</td>\n",
       "      <td>Positive emotion</td>\n",
       "    </tr>\n",
       "    <tr>\n",
       "      <th>9</th>\n",
       "      <td>counting down the days to #sxsw plus strong canadian dollar means stock up on apple gear</td>\n",
       "      <td>Positive emotion</td>\n",
       "    </tr>\n",
       "    <tr>\n",
       "      <th>10</th>\n",
       "      <td>excited to meet the @samsungmobileus at #sxsw so i can show them my sprint galaxy s still running android 2.1.   #fail</td>\n",
       "      <td>Positive emotion</td>\n",
       "    </tr>\n",
       "  </tbody>\n",
       "</table>\n",
       "</div>"
      ],
      "text/plain": [
       "                                                                                                                                           tweet  \\\n",
       "0                .@wesley83 i have a 3g iphone. after 3 hrs tweeting at #rise_austin, it was dead!  i need to upgrade. plugin stations at #sxsw.   \n",
       "1    @jessedee know about @fludapp ? awesome ipad/iphone app that you'll likely appreciate for its design. also, they're giving free ts at #sxsw   \n",
       "2                                                                @swonderlin can not wait for #ipad 2 also. they should sale them down at #sxsw.   \n",
       "3                                                             @sxsw i hope this year's festival isn't as crashy as this year's iphone app. #sxsw   \n",
       "4            @sxtxstate great stuff on fri #sxsw: marissa mayer (google), tim o'reilly (tech books/conferences) &amp; matt mullenweg (wordpress)   \n",
       "5   @teachntech00 new ipad apps for #speechtherapy and communication are showcased at the #sxsw conference http://ht.ly/49n4m #iear #edchat #asd   \n",
       "7     #sxsw is just starting, #ctia is around the corner and #googleio is only a hop skip and a jump from there, good time to be an #android fan   \n",
       "8              beautifully smart and simple idea rt @madebymany @thenextweb wrote about our #hollergram ipad app for #sxsw! http://bit.ly/ieavob   \n",
       "9                                                       counting down the days to #sxsw plus strong canadian dollar means stock up on apple gear   \n",
       "10                        excited to meet the @samsungmobileus at #sxsw so i can show them my sprint galaxy s still running android 2.1.   #fail   \n",
       "\n",
       "                             sentiment  \n",
       "0                     Negative emotion  \n",
       "1                     Positive emotion  \n",
       "2                     Positive emotion  \n",
       "3                     Negative emotion  \n",
       "4                     Positive emotion  \n",
       "5   No emotion toward brand or product  \n",
       "7                     Positive emotion  \n",
       "8                     Positive emotion  \n",
       "9                     Positive emotion  \n",
       "10                    Positive emotion  "
      ]
     },
     "execution_count": 21,
     "metadata": {},
     "output_type": "execute_result"
    }
   ],
   "source": [
    "#lower all the text strings\n",
    "rel_raw_df[\"tweet\"] = rel_raw_df[\"tweet\"].str.lower()\n",
    "rel_raw_df[:10]"
   ]
  },
  {
   "cell_type": "code",
   "execution_count": 22,
   "id": "fc3a765c-f84a-44be-9a6f-3fb6e116947c",
   "metadata": {},
   "outputs": [
    {
     "data": {
      "text/html": [
       "<div>\n",
       "<style scoped>\n",
       "    .dataframe tbody tr th:only-of-type {\n",
       "        vertical-align: middle;\n",
       "    }\n",
       "\n",
       "    .dataframe tbody tr th {\n",
       "        vertical-align: top;\n",
       "    }\n",
       "\n",
       "    .dataframe thead th {\n",
       "        text-align: right;\n",
       "    }\n",
       "</style>\n",
       "<table border=\"1\" class=\"dataframe\">\n",
       "  <thead>\n",
       "    <tr style=\"text-align: right;\">\n",
       "      <th></th>\n",
       "      <th>tweet</th>\n",
       "      <th>sentiment</th>\n",
       "    </tr>\n",
       "  </thead>\n",
       "  <tbody>\n",
       "    <tr>\n",
       "      <th>11</th>\n",
       "      <td>find &amp;amp; start impromptu parties at #sxsw with @hurricaneparty http://bit.ly/gvlrin i can't wait til the android app comes out.</td>\n",
       "      <td>Positive emotion</td>\n",
       "    </tr>\n",
       "    <tr>\n",
       "      <th>12</th>\n",
       "      <td>foursquare ups the game, just in time for #sxsw http://j.mp/grn7pk) - still prefer @gowalla by far, best looking android app to date.</td>\n",
       "      <td>Positive emotion</td>\n",
       "    </tr>\n",
       "    <tr>\n",
       "      <th>13</th>\n",
       "      <td>gotta love this #sxsw google calendar featuring top parties/ show cases to check out.  rt @hamsandwich via @ischafer =&amp;gt;http://bit.ly/axzwxb</td>\n",
       "      <td>Positive emotion</td>\n",
       "    </tr>\n",
       "    <tr>\n",
       "      <th>14</th>\n",
       "      <td>great #sxsw ipad app from @madebymany: http://tinyurl.com/4nqv92l</td>\n",
       "      <td>Positive emotion</td>\n",
       "    </tr>\n",
       "    <tr>\n",
       "      <th>15</th>\n",
       "      <td>haha, awesomely rad ipad app by @madebymany http://bit.ly/htdfim #hollergram #sxsw</td>\n",
       "      <td>Positive emotion</td>\n",
       "    </tr>\n",
       "    <tr>\n",
       "      <th>16</th>\n",
       "      <td>holler gram for ipad on the itunes app store -  http://t.co/kfn3f5q (via @marc_is_ken) #sxsw</td>\n",
       "      <td>No emotion toward brand or product</td>\n",
       "    </tr>\n",
       "    <tr>\n",
       "      <th>17</th>\n",
       "      <td>i just noticed dst is coming this weekend. how many iphone users will be an hour late at sxsw come sunday morning? #sxsw #iphone</td>\n",
       "      <td>Negative emotion</td>\n",
       "    </tr>\n",
       "    <tr>\n",
       "      <th>18</th>\n",
       "      <td>just added my #sxsw flights to @planely. matching people on planes/airports. also downloaded the @klm iphone app, nicely done.</td>\n",
       "      <td>Positive emotion</td>\n",
       "    </tr>\n",
       "    <tr>\n",
       "      <th>19</th>\n",
       "      <td>must have #sxsw app! rt @malbonster: lovely review from forbes for our sxsw ipad app holler gram - http://t.co/g4gzypv</td>\n",
       "      <td>Positive emotion</td>\n",
       "    </tr>\n",
       "    <tr>\n",
       "      <th>20</th>\n",
       "      <td>need to buy an ipad2 while i'm in austin at #sxsw. not sure if i'll need to q up at an austin apple store?</td>\n",
       "      <td>Positive emotion</td>\n",
       "    </tr>\n",
       "    <tr>\n",
       "      <th>21</th>\n",
       "      <td>oh. my. god. the #sxsw app for ipad is pure, unadulterated awesome. it's easier to browse events on ipad than on the website!!!</td>\n",
       "      <td>Positive emotion</td>\n",
       "    </tr>\n",
       "    <tr>\n",
       "      <th>22</th>\n",
       "      <td>okay, this is really it: yay new @foursquare for #android app!!!!11 kthxbai. #sxsw</td>\n",
       "      <td>Positive emotion</td>\n",
       "    </tr>\n",
       "    <tr>\n",
       "      <th>23</th>\n",
       "      <td>photo: just installed the #sxsw iphone app, which is really nice! http://tumblr.com/x6t1pi6av7</td>\n",
       "      <td>Positive emotion</td>\n",
       "    </tr>\n",
       "    <tr>\n",
       "      <th>24</th>\n",
       "      <td>really enjoying the changes in gowalla 3.0 for android! looking forward to seeing what else they &amp;amp; foursquare have up their sleeves at #sxsw</td>\n",
       "      <td>Positive emotion</td>\n",
       "    </tr>\n",
       "    <tr>\n",
       "      <th>25</th>\n",
       "      <td>rt @laurieshook: i'm looking forward to the #smcdallas pre #sxsw party wed., and hoping i'll win an #ipad resulting from my shameless promotion.  #chevysmc</td>\n",
       "      <td>Positive emotion</td>\n",
       "    </tr>\n",
       "  </tbody>\n",
       "</table>\n",
       "</div>"
      ],
      "text/plain": [
       "                                                                                                                                                          tweet  \\\n",
       "11                            find &amp; start impromptu parties at #sxsw with @hurricaneparty http://bit.ly/gvlrin i can't wait til the android app comes out.   \n",
       "12                        foursquare ups the game, just in time for #sxsw http://j.mp/grn7pk) - still prefer @gowalla by far, best looking android app to date.   \n",
       "13               gotta love this #sxsw google calendar featuring top parties/ show cases to check out.  rt @hamsandwich via @ischafer =&gt;http://bit.ly/axzwxb   \n",
       "14                                                                                            great #sxsw ipad app from @madebymany: http://tinyurl.com/4nqv92l   \n",
       "15                                                                           haha, awesomely rad ipad app by @madebymany http://bit.ly/htdfim #hollergram #sxsw   \n",
       "16                                                                 holler gram for ipad on the itunes app store -  http://t.co/kfn3f5q (via @marc_is_ken) #sxsw   \n",
       "17                             i just noticed dst is coming this weekend. how many iphone users will be an hour late at sxsw come sunday morning? #sxsw #iphone   \n",
       "18                               just added my #sxsw flights to @planely. matching people on planes/airports. also downloaded the @klm iphone app, nicely done.   \n",
       "19                                       must have #sxsw app! rt @malbonster: lovely review from forbes for our sxsw ipad app holler gram - http://t.co/g4gzypv   \n",
       "20                                                   need to buy an ipad2 while i'm in austin at #sxsw. not sure if i'll need to q up at an austin apple store?   \n",
       "21                              oh. my. god. the #sxsw app for ipad is pure, unadulterated awesome. it's easier to browse events on ipad than on the website!!!   \n",
       "22                                                                           okay, this is really it: yay new @foursquare for #android app!!!!11 kthxbai. #sxsw   \n",
       "23                                                               photo: just installed the #sxsw iphone app, which is really nice! http://tumblr.com/x6t1pi6av7   \n",
       "24             really enjoying the changes in gowalla 3.0 for android! looking forward to seeing what else they &amp; foursquare have up their sleeves at #sxsw   \n",
       "25  rt @laurieshook: i'm looking forward to the #smcdallas pre #sxsw party wed., and hoping i'll win an #ipad resulting from my shameless promotion.  #chevysmc   \n",
       "\n",
       "                             sentiment  \n",
       "11                    Positive emotion  \n",
       "12                    Positive emotion  \n",
       "13                    Positive emotion  \n",
       "14                    Positive emotion  \n",
       "15                    Positive emotion  \n",
       "16  No emotion toward brand or product  \n",
       "17                    Negative emotion  \n",
       "18                    Positive emotion  \n",
       "19                    Positive emotion  \n",
       "20                    Positive emotion  \n",
       "21                    Positive emotion  \n",
       "22                    Positive emotion  \n",
       "23                    Positive emotion  \n",
       "24                    Positive emotion  \n",
       "25                    Positive emotion  "
      ]
     },
     "execution_count": 22,
     "metadata": {},
     "output_type": "execute_result"
    }
   ],
   "source": [
    "rel_raw_df[10:25]"
   ]
  },
  {
   "cell_type": "code",
   "execution_count": 23,
   "id": "a946ae82-b7e2-40f0-90f0-d2860950f51b",
   "metadata": {},
   "outputs": [],
   "source": [
    "#what I still need to do\n",
    "#get rid of all the # and . and other that I don't want\n",
    "#lemmetize the words"
   ]
  },
  {
   "cell_type": "code",
   "execution_count": 24,
   "id": "d462e5c4-94e8-4a4b-acb9-37ffb44b7aff",
   "metadata": {},
   "outputs": [],
   "source": [
    "#find the optimal regular expression (regex) pattern pattern \n",
    "#I am opting to get rid of URL's because I am trying to find sentiment not platform or item and links are hardly a mood descriptor\n",
    "#for the same reason I would like to get rid of the # in front of words so the 'hate' is not seen as different from '#hate'"
   ]
  },
  {
   "cell_type": "code",
   "execution_count": 25,
   "id": "4fc043c4-84d2-4344-ab1a-218c4f108c20",
   "metadata": {},
   "outputs": [],
   "source": [
    "#current regular expression pattern r'(@\\w+|#\\w+|http\\S+|\\w+|\\d+)'\n",
    "#v2 remove general urls: r'(@\\w+|#\\w+|\\w+|\\d+)(?!\\S*http\\S+)'\n",
    "#unsure wether to keep/ remove, or modify @'s\n",
    "#v3 removes the @ from @name to just be name: r'(@?[\\w]+|#\\w+|\\w+|\\d+)(?!\\S*http\\S+)' \n",
    "#v4 get rid of # before words : r'(@?[\\w]+|#?[\\w]+|\\w+|\\d+)(?!\\S*http\\S+)' this may help or hurt\n",
    "#v5: r'(@?[\\w]+|#?[\\w]+|\\w+|\\d+)(?!\\S*http\\S+)'\n",
    "#v6 r'[@#]?\\w+(?!\\S*http\\S+)'\n",
    "#v7 r'[@#]?(\\w+)' #mostly works but some errors\n",
    "#v8 r'http[s]?://\\S+|www\\.\\S+|[@#]?\\w+' #gets rid of links but shows @ and #\n",
    "#v9 r'(?:(?:https?://|www)\\S+)|(?:#(\\w+))|(?:@(\\w+))|(\\w+|\\S)' #technically does both but outputs multiple spaces around the token\n",
    "#v10 r'(?<!\\S)(?:[@#])?(\\w+)(?!\\S*[://])' #closest thing i have so far, experiencing some error when . is in front of @\n",
    "#v11 r'(?<!\\S)(?:\\.?[@#])?(\\w+)(?!\\S*[://])' this seems to do everything I need, doesn't do (word) or &word\n",
    "#v12  r'(?<!\\S)(?:\\.?[@#])?(\\w+)(?![^\\s()]*[://])' didn't do anything better or worse \n",
    "#v13   r'(?<![\\w:.])(?:\\.?[@#])?(\\w+)' this successfully gets rid of the (word) / &word problem but doesn't get rid of links anymore\n",
    "#v14   r'(?:http[s]?://\\S+|www\\.\\S+)|(?<![\\w:.])(?:\\.?[@#])?(\\w+)' this seems to be the catch all for @ # () & and links \n",
    "#the only problem is that the link leaves a '' so we will need to drop that in the bag of words "
   ]
  },
  {
   "cell_type": "code",
   "execution_count": 50,
   "id": "05de5501-ffe3-479f-8604-b9a47e6e29ad",
   "metadata": {},
   "outputs": [],
   "source": [
    "#define the token extraction pattern\n",
    "token_pattern=  r'(?:http[s]?://\\S+|www\\.\\S+)|(?<![\\w:.])(?:\\.?[@#])?(\\w+)'\n",
    "\"\"\"\n",
    "(?:http[s]?://\\S+|www\\.\\S+) makes sure any urls that start with hhtp, https, or www are all passed over\n",
    "(?<![\\w:.]) a negative lookbehind to make sure the current potential token being looked at is not part of a larger token?\n",
    "(?:\\.?[@#])?  skips over any \".\", \"@\", or \"#\" that may be in front of a word\n",
    "(\\w+) sucks up any words with 1 or more letters in a row \n",
    "\"\"\"\n",
    "tokenizer= RegexpTokenizer(token_pattern)"
   ]
  },
  {
   "cell_type": "code",
   "execution_count": 27,
   "id": "d3989179-94ad-4ee4-8538-e4ee7460523e",
   "metadata": {},
   "outputs": [
    {
     "data": {
      "text/plain": [
       "'@teachntech00 new ipad apps for #speechtherapy and communication are showcased at the #sxsw conference http://ht.ly/49n4m #iear #edchat #asd'"
      ]
     },
     "execution_count": 27,
     "metadata": {},
     "output_type": "execute_result"
    }
   ],
   "source": [
    "#grab a sample\n",
    "samp1= rel_raw_df['tweet'][5]\n",
    "samp1"
   ]
  },
  {
   "cell_type": "code",
   "execution_count": 28,
   "id": "6fbbdfbb-e66a-4e30-b458-92ae2262c0d6",
   "metadata": {},
   "outputs": [
    {
     "data": {
      "text/plain": [
       "['@teachntech00',\n",
       " 'new',\n",
       " 'ipad',\n",
       " 'apps',\n",
       " 'for',\n",
       " '#speechtherapy',\n",
       " 'and',\n",
       " 'communication',\n",
       " 'are',\n",
       " 'showcased',\n",
       " 'at',\n",
       " 'the',\n",
       " '#sxsw',\n",
       " 'conference',\n",
       " 'http://ht.ly/49n4m',\n",
       " '#iear',\n",
       " '#edchat',\n",
       " '#asd']"
      ]
     },
     "execution_count": 28,
     "metadata": {},
     "output_type": "execute_result"
    }
   ],
   "source": [
    "samp1.split()"
   ]
  },
  {
   "cell_type": "code",
   "execution_count": 29,
   "id": "23f35827-9a0e-420c-a93c-bb5472e416a6",
   "metadata": {},
   "outputs": [
    {
     "data": {
      "text/plain": [
       "['teachntech00',\n",
       " 'new',\n",
       " 'ipad',\n",
       " 'apps',\n",
       " 'for',\n",
       " 'speechtherapy',\n",
       " 'and',\n",
       " 'communication',\n",
       " 'are',\n",
       " 'showcased',\n",
       " 'at',\n",
       " 'the',\n",
       " 'sxsw',\n",
       " 'conference',\n",
       " '',\n",
       " 'iear',\n",
       " 'edchat',\n",
       " 'asd']"
      ]
     },
     "execution_count": 29,
     "metadata": {},
     "output_type": "execute_result"
    }
   ],
   "source": [
    "tokenizer.tokenize(samp1)"
   ]
  },
  {
   "cell_type": "code",
   "execution_count": 30,
   "id": "95957a99-c37c-4bb2-9706-9567c041296d",
   "metadata": {},
   "outputs": [
    {
     "data": {
      "text/plain": [
       "'excited to meet the @samsungmobileus at #sxsw so i can show them my sprint galaxy s still running android 2.1.   #fail'"
      ]
     },
     "execution_count": 30,
     "metadata": {},
     "output_type": "execute_result"
    }
   ],
   "source": [
    "samp2= rel_raw_df['tweet'][10]\n",
    "samp2"
   ]
  },
  {
   "cell_type": "code",
   "execution_count": 31,
   "id": "0aebb68e-beb8-4a8f-9ade-dea8a60fe450",
   "metadata": {},
   "outputs": [
    {
     "data": {
      "text/plain": [
       "['excited',\n",
       " 'to',\n",
       " 'meet',\n",
       " 'the',\n",
       " '@samsungmobileus',\n",
       " 'at',\n",
       " '#sxsw',\n",
       " 'so',\n",
       " 'i',\n",
       " 'can',\n",
       " 'show',\n",
       " 'them',\n",
       " 'my',\n",
       " 'sprint',\n",
       " 'galaxy',\n",
       " 's',\n",
       " 'still',\n",
       " 'running',\n",
       " 'android',\n",
       " '2.1.',\n",
       " '#fail']"
      ]
     },
     "execution_count": 31,
     "metadata": {},
     "output_type": "execute_result"
    }
   ],
   "source": [
    "samp2.split()"
   ]
  },
  {
   "cell_type": "code",
   "execution_count": 32,
   "id": "8dc32225-10c9-4dae-a594-0a39082be53f",
   "metadata": {},
   "outputs": [
    {
     "data": {
      "text/plain": [
       "['excited',\n",
       " 'to',\n",
       " 'meet',\n",
       " 'the',\n",
       " 'samsungmobileus',\n",
       " 'at',\n",
       " 'sxsw',\n",
       " 'so',\n",
       " 'i',\n",
       " 'can',\n",
       " 'show',\n",
       " 'them',\n",
       " 'my',\n",
       " 'sprint',\n",
       " 'galaxy',\n",
       " 's',\n",
       " 'still',\n",
       " 'running',\n",
       " 'android',\n",
       " '2',\n",
       " 'fail']"
      ]
     },
     "execution_count": 32,
     "metadata": {},
     "output_type": "execute_result"
    }
   ],
   "source": [
    "tokenizer.tokenize(samp2)"
   ]
  },
  {
   "cell_type": "code",
   "execution_count": 33,
   "id": "5daca524-5f8b-43a1-afe3-2cf991cd1bfb",
   "metadata": {},
   "outputs": [
    {
     "data": {
      "text/plain": [
       "'.@wesley83 i have a 3g iphone. after 3 hrs tweeting at #rise_austin, it was dead!  i need to upgrade. plugin stations at #sxsw.'"
      ]
     },
     "execution_count": 33,
     "metadata": {},
     "output_type": "execute_result"
    }
   ],
   "source": [
    "samp3= rel_raw_df['tweet'][0]\n",
    "samp3"
   ]
  },
  {
   "cell_type": "code",
   "execution_count": 34,
   "id": "d80f1b8d-233f-45d1-bce3-98c156bd8df7",
   "metadata": {},
   "outputs": [
    {
     "data": {
      "text/plain": [
       "['.@wesley83',\n",
       " 'i',\n",
       " 'have',\n",
       " 'a',\n",
       " '3g',\n",
       " 'iphone.',\n",
       " 'after',\n",
       " '3',\n",
       " 'hrs',\n",
       " 'tweeting',\n",
       " 'at',\n",
       " '#rise_austin,',\n",
       " 'it',\n",
       " 'was',\n",
       " 'dead!',\n",
       " 'i',\n",
       " 'need',\n",
       " 'to',\n",
       " 'upgrade.',\n",
       " 'plugin',\n",
       " 'stations',\n",
       " 'at',\n",
       " '#sxsw.']"
      ]
     },
     "execution_count": 34,
     "metadata": {},
     "output_type": "execute_result"
    }
   ],
   "source": [
    "samp3.split()"
   ]
  },
  {
   "cell_type": "code",
   "execution_count": 35,
   "id": "b490ce38-f1b0-4839-bd7b-3a39b09c957f",
   "metadata": {},
   "outputs": [
    {
     "data": {
      "text/plain": [
       "['wesley83',\n",
       " 'i',\n",
       " 'have',\n",
       " 'a',\n",
       " '3g',\n",
       " 'iphone',\n",
       " 'after',\n",
       " '3',\n",
       " 'hrs',\n",
       " 'tweeting',\n",
       " 'at',\n",
       " 'rise_austin',\n",
       " 'it',\n",
       " 'was',\n",
       " 'dead',\n",
       " 'i',\n",
       " 'need',\n",
       " 'to',\n",
       " 'upgrade',\n",
       " 'plugin',\n",
       " 'stations',\n",
       " 'at',\n",
       " 'sxsw']"
      ]
     },
     "execution_count": 35,
     "metadata": {},
     "output_type": "execute_result"
    }
   ],
   "source": [
    "tokenizer.tokenize(samp3)"
   ]
  },
  {
   "cell_type": "code",
   "execution_count": 36,
   "id": "44836191-6fb0-4627-8148-da8cd0760a3b",
   "metadata": {},
   "outputs": [],
   "source": [
    "#lets test this pattern on some other strings \n"
   ]
  },
  {
   "cell_type": "code",
   "execution_count": 37,
   "id": "b37c7dca-2b6c-4afa-bd2b-bb32306148f0",
   "metadata": {},
   "outputs": [
    {
     "data": {
      "text/plain": [
       "\"@sxtxstate great stuff on fri #sxsw: marissa mayer (google), tim o'reilly (tech books/conferences) &amp; matt mullenweg (wordpress)\""
      ]
     },
     "execution_count": 37,
     "metadata": {},
     "output_type": "execute_result"
    }
   ],
   "source": [
    "samp4= rel_raw_df['tweet'][4]\n",
    "samp4"
   ]
  },
  {
   "cell_type": "code",
   "execution_count": 38,
   "id": "f5449655-e4dd-4abd-8009-fcb746febf2d",
   "metadata": {},
   "outputs": [
    {
     "data": {
      "text/plain": [
       "['sxtxstate',\n",
       " 'great',\n",
       " 'stuff',\n",
       " 'on',\n",
       " 'fri',\n",
       " 'sxsw',\n",
       " 'marissa',\n",
       " 'mayer',\n",
       " 'google',\n",
       " 'tim',\n",
       " 'o',\n",
       " 'reilly',\n",
       " 'tech',\n",
       " 'books',\n",
       " 'conferences',\n",
       " 'amp',\n",
       " 'matt',\n",
       " 'mullenweg',\n",
       " 'wordpress']"
      ]
     },
     "execution_count": 38,
     "metadata": {},
     "output_type": "execute_result"
    }
   ],
   "source": [
    "tokenizer.tokenize(samp4)"
   ]
  },
  {
   "cell_type": "code",
   "execution_count": 39,
   "id": "6e08d5df-b946-4709-ac2c-97b3ac3f0a34",
   "metadata": {},
   "outputs": [
    {
     "data": {
      "text/plain": [
       "'okay, this is really it: yay new @foursquare for #android app!!!!11 kthxbai. #sxsw'"
      ]
     },
     "execution_count": 39,
     "metadata": {},
     "output_type": "execute_result"
    }
   ],
   "source": [
    "samp5= rel_raw_df['tweet'][22]\n",
    "samp5"
   ]
  },
  {
   "cell_type": "code",
   "execution_count": 40,
   "id": "6a9e4625-aa52-4020-99c0-b8e0554b14df",
   "metadata": {},
   "outputs": [
    {
     "data": {
      "text/plain": [
       "['okay',\n",
       " 'this',\n",
       " 'is',\n",
       " 'really',\n",
       " 'it',\n",
       " 'yay',\n",
       " 'new',\n",
       " 'foursquare',\n",
       " 'for',\n",
       " 'android',\n",
       " 'app',\n",
       " '11',\n",
       " 'kthxbai',\n",
       " 'sxsw']"
      ]
     },
     "execution_count": 40,
     "metadata": {},
     "output_type": "execute_result"
    }
   ],
   "source": [
    "tokenizer.tokenize(samp5)"
   ]
  },
  {
   "cell_type": "code",
   "execution_count": 41,
   "id": "5a44eb6e-c1f3-4014-94ed-4b53d576b081",
   "metadata": {
    "scrolled": true
   },
   "outputs": [
    {
     "name": "stderr",
     "output_type": "stream",
     "text": [
      "/var/folders/p_/7g5qyc8d5zv5nfywm65yhpkc0000gn/T/ipykernel_50345/3090715720.py:2: SettingWithCopyWarning: \n",
      "A value is trying to be set on a copy of a slice from a DataFrame.\n",
      "Try using .loc[row_indexer,col_indexer] = value instead\n",
      "\n",
      "See the caveats in the documentation: https://pandas.pydata.org/pandas-docs/stable/user_guide/indexing.html#returning-a-view-versus-a-copy\n",
      "  rel_raw_df[\"tweet_tokenized\"] = rel_raw_df[\"tweet\"].apply(tokenizer.tokenize)\n"
     ]
    },
    {
     "data": {
      "text/html": [
       "<div>\n",
       "<style scoped>\n",
       "    .dataframe tbody tr th:only-of-type {\n",
       "        vertical-align: middle;\n",
       "    }\n",
       "\n",
       "    .dataframe tbody tr th {\n",
       "        vertical-align: top;\n",
       "    }\n",
       "\n",
       "    .dataframe thead th {\n",
       "        text-align: right;\n",
       "    }\n",
       "</style>\n",
       "<table border=\"1\" class=\"dataframe\">\n",
       "  <thead>\n",
       "    <tr style=\"text-align: right;\">\n",
       "      <th></th>\n",
       "      <th>tweet</th>\n",
       "      <th>sentiment</th>\n",
       "      <th>tweet_tokenized</th>\n",
       "    </tr>\n",
       "  </thead>\n",
       "  <tbody>\n",
       "    <tr>\n",
       "      <th>0</th>\n",
       "      <td>.@wesley83 i have a 3g iphone. after 3 hrs tweeting at #rise_austin, it was dead!  i need to upgrade. plugin stations at #sxsw.</td>\n",
       "      <td>Negative emotion</td>\n",
       "      <td>[wesley83, i, have, a, 3g, iphone, after, 3, hrs, tweeting, at, rise_austin, it, was, dead, i, need, to, upgrade, plugin, stations, at, sxsw]</td>\n",
       "    </tr>\n",
       "    <tr>\n",
       "      <th>1</th>\n",
       "      <td>@jessedee know about @fludapp ? awesome ipad/iphone app that you'll likely appreciate for its design. also, they're giving free ts at #sxsw</td>\n",
       "      <td>Positive emotion</td>\n",
       "      <td>[jessedee, know, about, fludapp, awesome, ipad, iphone, app, that, you, ll, likely, appreciate, for, its, design, also, they, re, giving, free, ts, at, sxsw]</td>\n",
       "    </tr>\n",
       "    <tr>\n",
       "      <th>2</th>\n",
       "      <td>@swonderlin can not wait for #ipad 2 also. they should sale them down at #sxsw.</td>\n",
       "      <td>Positive emotion</td>\n",
       "      <td>[swonderlin, can, not, wait, for, ipad, 2, also, they, should, sale, them, down, at, sxsw]</td>\n",
       "    </tr>\n",
       "    <tr>\n",
       "      <th>3</th>\n",
       "      <td>@sxsw i hope this year's festival isn't as crashy as this year's iphone app. #sxsw</td>\n",
       "      <td>Negative emotion</td>\n",
       "      <td>[sxsw, i, hope, this, year, s, festival, isn, t, as, crashy, as, this, year, s, iphone, app, sxsw]</td>\n",
       "    </tr>\n",
       "    <tr>\n",
       "      <th>4</th>\n",
       "      <td>@sxtxstate great stuff on fri #sxsw: marissa mayer (google), tim o'reilly (tech books/conferences) &amp;amp; matt mullenweg (wordpress)</td>\n",
       "      <td>Positive emotion</td>\n",
       "      <td>[sxtxstate, great, stuff, on, fri, sxsw, marissa, mayer, google, tim, o, reilly, tech, books, conferences, amp, matt, mullenweg, wordpress]</td>\n",
       "    </tr>\n",
       "  </tbody>\n",
       "</table>\n",
       "</div>"
      ],
      "text/plain": [
       "                                                                                                                                         tweet  \\\n",
       "0              .@wesley83 i have a 3g iphone. after 3 hrs tweeting at #rise_austin, it was dead!  i need to upgrade. plugin stations at #sxsw.   \n",
       "1  @jessedee know about @fludapp ? awesome ipad/iphone app that you'll likely appreciate for its design. also, they're giving free ts at #sxsw   \n",
       "2                                                              @swonderlin can not wait for #ipad 2 also. they should sale them down at #sxsw.   \n",
       "3                                                           @sxsw i hope this year's festival isn't as crashy as this year's iphone app. #sxsw   \n",
       "4          @sxtxstate great stuff on fri #sxsw: marissa mayer (google), tim o'reilly (tech books/conferences) &amp; matt mullenweg (wordpress)   \n",
       "\n",
       "          sentiment  \\\n",
       "0  Negative emotion   \n",
       "1  Positive emotion   \n",
       "2  Positive emotion   \n",
       "3  Negative emotion   \n",
       "4  Positive emotion   \n",
       "\n",
       "                                                                                                                                                 tweet_tokenized  \n",
       "0                  [wesley83, i, have, a, 3g, iphone, after, 3, hrs, tweeting, at, rise_austin, it, was, dead, i, need, to, upgrade, plugin, stations, at, sxsw]  \n",
       "1  [jessedee, know, about, fludapp, awesome, ipad, iphone, app, that, you, ll, likely, appreciate, for, its, design, also, they, re, giving, free, ts, at, sxsw]  \n",
       "2                                                                     [swonderlin, can, not, wait, for, ipad, 2, also, they, should, sale, them, down, at, sxsw]  \n",
       "3                                                             [sxsw, i, hope, this, year, s, festival, isn, t, as, crashy, as, this, year, s, iphone, app, sxsw]  \n",
       "4                    [sxtxstate, great, stuff, on, fri, sxsw, marissa, mayer, google, tim, o, reilly, tech, books, conferences, amp, matt, mullenweg, wordpress]  "
      ]
     },
     "execution_count": 41,
     "metadata": {},
     "output_type": "execute_result"
    }
   ],
   "source": [
    "#tokenize the full dataset now \n",
    "rel_raw_df[\"tweet_tokenized\"] = rel_raw_df[\"tweet\"].apply(tokenizer.tokenize)\n",
    "rel_raw_df.head()"
   ]
  },
  {
   "cell_type": "code",
   "execution_count": 42,
   "id": "609df342-ec2e-4031-860a-4206281faba6",
   "metadata": {},
   "outputs": [
    {
     "name": "stdout",
     "output_type": "stream",
     "text": [
      "previous tokens\n",
      "0                    [wesley83, i, have, a, 3g, iphone, after, 3, hrs, tweeting, at, rise_austin, it, was, dead, i, need, to, upgrade, plugin, stations, at, sxsw]\n",
      "1    [jessedee, know, about, fludapp, awesome, ipad, iphone, app, that, you, ll, likely, appreciate, for, its, design, also, they, re, giving, free, ts, at, sxsw]\n",
      "2                                                                       [swonderlin, can, not, wait, for, ipad, 2, also, they, should, sale, them, down, at, sxsw]\n",
      "3                                                               [sxsw, i, hope, this, year, s, festival, isn, t, as, crashy, as, this, year, s, iphone, app, sxsw]\n",
      "4                      [sxtxstate, great, stuff, on, fri, sxsw, marissa, mayer, google, tim, o, reilly, tech, books, conferences, amp, matt, mullenweg, wordpress]\n",
      "Name: tweet_tokenized, dtype: object\n",
      "\n",
      "ns tokens\n",
      "0                                      [wesley83, 3g, iphone, 3, hrs, tweeting, rise_austin, dead, need, upgrade, plugin, stations, sxsw]\n",
      "1                         [jessedee, know, fludapp, awesome, ipad, iphone, app, likely, appreciate, design, also, giving, free, ts, sxsw]\n",
      "2                                                                                           [swonderlin, wait, ipad, 2, also, sale, sxsw]\n",
      "3                                                                           [sxsw, hope, year, festival, crashy, year, iphone, app, sxsw]\n",
      "4    [sxtxstate, great, stuff, fri, sxsw, marissa, mayer, google, tim, reilly, tech, books, conferences, amp, matt, mullenweg, wordpress]\n",
      "Name: tweet_tokenized_ns, dtype: object\n"
     ]
    },
    {
     "name": "stderr",
     "output_type": "stream",
     "text": [
      "/var/folders/p_/7g5qyc8d5zv5nfywm65yhpkc0000gn/T/ipykernel_50345/2527271126.py:8: SettingWithCopyWarning: \n",
      "A value is trying to be set on a copy of a slice from a DataFrame.\n",
      "Try using .loc[row_indexer,col_indexer] = value instead\n",
      "\n",
      "See the caveats in the documentation: https://pandas.pydata.org/pandas-docs/stable/user_guide/indexing.html#returning-a-view-versus-a-copy\n",
      "  rel_raw_df[\"tweet_tokenized_ns\"] = rel_raw_df[\"tweet_tokenized\"].apply(remove_stopwords)\n"
     ]
    }
   ],
   "source": [
    "#remove the stop words\n",
    "stopwords_list= stopwords.words('english')\n",
    "\n",
    "def remove_stopwords(token_list):\n",
    "    list_stripped= [x for x in token_list if x not in stopwords_list]\n",
    "    return list_stripped\n",
    "\n",
    "rel_raw_df[\"tweet_tokenized_ns\"] = rel_raw_df[\"tweet_tokenized\"].apply(remove_stopwords)\n",
    "\n",
    "print('previous tokens')\n",
    "print(rel_raw_df[\"tweet_tokenized\"].head())\n",
    "print()\n",
    "print('ns tokens')\n",
    "print(rel_raw_df[\"tweet_tokenized_ns\"].head())"
   ]
  },
  {
   "cell_type": "code",
   "execution_count": 43,
   "id": "3aabc3e4-e856-43ef-b733-c25f9c43aea4",
   "metadata": {},
   "outputs": [
    {
     "name": "stdout",
     "output_type": "stream",
     "text": [
      "ns tokens\n",
      "0                                      [wesley83, 3g, iphone, 3, hrs, tweeting, rise_austin, dead, need, upgrade, plugin, stations, sxsw]\n",
      "1                         [jessedee, know, fludapp, awesome, ipad, iphone, app, likely, appreciate, design, also, giving, free, ts, sxsw]\n",
      "2                                                                                           [swonderlin, wait, ipad, 2, also, sale, sxsw]\n",
      "3                                                                           [sxsw, hope, year, festival, crashy, year, iphone, app, sxsw]\n",
      "4    [sxtxstate, great, stuff, fri, sxsw, marissa, mayer, google, tim, reilly, tech, books, conferences, amp, matt, mullenweg, wordpress]\n",
      "Name: tweet_tokenized_ns, dtype: object\n",
      "\n",
      "lem tokens\n",
      "0                                      [wesley83, 3g, iphone, 3, hr, tweeting, rise_austin, dead, need, upgrade, plugin, station, sxsw]\n",
      "1                        [jessedee, know, fludapp, awesome, ipad, iphone, app, likely, appreciate, design, also, giving, free, t, sxsw]\n",
      "2                                                                                         [swonderlin, wait, ipad, 2, also, sale, sxsw]\n",
      "3                                                                         [sxsw, hope, year, festival, crashy, year, iphone, app, sxsw]\n",
      "4    [sxtxstate, great, stuff, fri, sxsw, marissa, mayer, google, tim, reilly, tech, book, conference, amp, matt, mullenweg, wordpress]\n",
      "Name: tweet_lem, dtype: object\n"
     ]
    },
    {
     "name": "stderr",
     "output_type": "stream",
     "text": [
      "/var/folders/p_/7g5qyc8d5zv5nfywm65yhpkc0000gn/T/ipykernel_50345/2582844597.py:7: SettingWithCopyWarning: \n",
      "A value is trying to be set on a copy of a slice from a DataFrame.\n",
      "Try using .loc[row_indexer,col_indexer] = value instead\n",
      "\n",
      "See the caveats in the documentation: https://pandas.pydata.org/pandas-docs/stable/user_guide/indexing.html#returning-a-view-versus-a-copy\n",
      "  rel_raw_df[\"tweet_lem\"] = rel_raw_df[\"tweet_tokenized_ns\"].apply(lem_tokens)\n"
     ]
    }
   ],
   "source": [
    "#lemmetize the tokens\n",
    "lemmatizer = WordNetLemmatizer()\n",
    "\n",
    "def lem_tokens(tokens):\n",
    "    return [lemmatizer.lemmatize(token) for token in tokens]\n",
    "\n",
    "rel_raw_df[\"tweet_lem\"] = rel_raw_df[\"tweet_tokenized_ns\"].apply(lem_tokens)\n",
    "\n",
    "print('ns tokens')\n",
    "print(rel_raw_df[\"tweet_tokenized_ns\"].head())\n",
    "print()\n",
    "print('lem tokens')\n",
    "print(rel_raw_df[\"tweet_lem\"].head())"
   ]
  },
  {
   "cell_type": "code",
   "execution_count": 44,
   "id": "a507f9ed-571a-4875-bbf1-6fa5c556301d",
   "metadata": {},
   "outputs": [
    {
     "data": {
      "text/plain": [
       "0       False\n",
       "1       False\n",
       "2        True\n",
       "3        True\n",
       "4       False\n",
       "        ...  \n",
       "9088     True\n",
       "9089    False\n",
       "9090    False\n",
       "9091    False\n",
       "9092    False\n",
       "Length: 8914, dtype: bool"
      ]
     },
     "execution_count": 44,
     "metadata": {},
     "output_type": "execute_result"
    }
   ],
   "source": [
    "#check to see if anthing was changed, it was \n",
    "rel_raw_df[\"tweet_lem\"]==rel_raw_df[\"tweet_tokenized_ns\"]"
   ]
  },
  {
   "cell_type": "code",
   "execution_count": 45,
   "id": "a01b5294-a27c-4882-8369-06edabe2fc29",
   "metadata": {},
   "outputs": [],
   "source": [
    "#train val test split"
   ]
  },
  {
   "cell_type": "code",
   "execution_count": 49,
   "id": "f3ddf9a4-a575-4e27-ac70-f4cb5b8b4c29",
   "metadata": {},
   "outputs": [
    {
     "data": {
      "text/plain": [
       "sentiment\n",
       "No emotion toward brand or product    0.602984\n",
       "Positive emotion                      0.333184\n",
       "Negative emotion                      0.063832\n",
       "Name: proportion, dtype: float64"
      ]
     },
     "execution_count": 49,
     "metadata": {},
     "output_type": "execute_result"
    }
   ],
   "source": [
    "rel_raw_df['sentiment'].value_counts(normalize= True)"
   ]
  },
  {
   "cell_type": "code",
   "execution_count": 63,
   "id": "ff06b69f-ffb6-4927-bb7d-9275028d9da2",
   "metadata": {},
   "outputs": [],
   "source": [
    "#do a stratified validation split"
   ]
  },
  {
   "cell_type": "code",
   "execution_count": 64,
   "id": "d48dc680-015d-4216-b46f-a68f2ef8e9dd",
   "metadata": {},
   "outputs": [
    {
     "data": {
      "text/html": [
       "<div>\n",
       "<style scoped>\n",
       "    .dataframe tbody tr th:only-of-type {\n",
       "        vertical-align: middle;\n",
       "    }\n",
       "\n",
       "    .dataframe tbody tr th {\n",
       "        vertical-align: top;\n",
       "    }\n",
       "\n",
       "    .dataframe thead th {\n",
       "        text-align: right;\n",
       "    }\n",
       "</style>\n",
       "<table border=\"1\" class=\"dataframe\">\n",
       "  <thead>\n",
       "    <tr style=\"text-align: right;\">\n",
       "      <th></th>\n",
       "      <th>tweet</th>\n",
       "      <th>sentiment</th>\n",
       "      <th>tweet_tokenized</th>\n",
       "      <th>tweet_tokenized_ns</th>\n",
       "      <th>tweet_lem</th>\n",
       "    </tr>\n",
       "  </thead>\n",
       "  <tbody>\n",
       "    <tr>\n",
       "      <th>0</th>\n",
       "      <td>.@wesley83 i have a 3g iphone. after 3 hrs tweeting at #rise_austin, it was dead!  i need to upgrade. plugin stations at #sxsw.</td>\n",
       "      <td>Negative emotion</td>\n",
       "      <td>[wesley83, i, have, a, 3g, iphone, after, 3, hrs, tweeting, at, rise_austin, it, was, dead, i, need, to, upgrade, plugin, stations, at, sxsw]</td>\n",
       "      <td>[wesley83, 3g, iphone, 3, hrs, tweeting, rise_austin, dead, need, upgrade, plugin, stations, sxsw]</td>\n",
       "      <td>[wesley83, 3g, iphone, 3, hr, tweeting, rise_austin, dead, need, upgrade, plugin, station, sxsw]</td>\n",
       "    </tr>\n",
       "    <tr>\n",
       "      <th>1</th>\n",
       "      <td>@jessedee know about @fludapp ? awesome ipad/iphone app that you'll likely appreciate for its design. also, they're giving free ts at #sxsw</td>\n",
       "      <td>Positive emotion</td>\n",
       "      <td>[jessedee, know, about, fludapp, awesome, ipad, iphone, app, that, you, ll, likely, appreciate, for, its, design, also, they, re, giving, free, ts, at, sxsw]</td>\n",
       "      <td>[jessedee, know, fludapp, awesome, ipad, iphone, app, likely, appreciate, design, also, giving, free, ts, sxsw]</td>\n",
       "      <td>[jessedee, know, fludapp, awesome, ipad, iphone, app, likely, appreciate, design, also, giving, free, t, sxsw]</td>\n",
       "    </tr>\n",
       "    <tr>\n",
       "      <th>2</th>\n",
       "      <td>@swonderlin can not wait for #ipad 2 also. they should sale them down at #sxsw.</td>\n",
       "      <td>Positive emotion</td>\n",
       "      <td>[swonderlin, can, not, wait, for, ipad, 2, also, they, should, sale, them, down, at, sxsw]</td>\n",
       "      <td>[swonderlin, wait, ipad, 2, also, sale, sxsw]</td>\n",
       "      <td>[swonderlin, wait, ipad, 2, also, sale, sxsw]</td>\n",
       "    </tr>\n",
       "    <tr>\n",
       "      <th>3</th>\n",
       "      <td>@sxsw i hope this year's festival isn't as crashy as this year's iphone app. #sxsw</td>\n",
       "      <td>Negative emotion</td>\n",
       "      <td>[sxsw, i, hope, this, year, s, festival, isn, t, as, crashy, as, this, year, s, iphone, app, sxsw]</td>\n",
       "      <td>[sxsw, hope, year, festival, crashy, year, iphone, app, sxsw]</td>\n",
       "      <td>[sxsw, hope, year, festival, crashy, year, iphone, app, sxsw]</td>\n",
       "    </tr>\n",
       "    <tr>\n",
       "      <th>4</th>\n",
       "      <td>@sxtxstate great stuff on fri #sxsw: marissa mayer (google), tim o'reilly (tech books/conferences) &amp;amp; matt mullenweg (wordpress)</td>\n",
       "      <td>Positive emotion</td>\n",
       "      <td>[sxtxstate, great, stuff, on, fri, sxsw, marissa, mayer, google, tim, o, reilly, tech, books, conferences, amp, matt, mullenweg, wordpress]</td>\n",
       "      <td>[sxtxstate, great, stuff, fri, sxsw, marissa, mayer, google, tim, reilly, tech, books, conferences, amp, matt, mullenweg, wordpress]</td>\n",
       "      <td>[sxtxstate, great, stuff, fri, sxsw, marissa, mayer, google, tim, reilly, tech, book, conference, amp, matt, mullenweg, wordpress]</td>\n",
       "    </tr>\n",
       "  </tbody>\n",
       "</table>\n",
       "</div>"
      ],
      "text/plain": [
       "                                                                                                                                         tweet  \\\n",
       "0              .@wesley83 i have a 3g iphone. after 3 hrs tweeting at #rise_austin, it was dead!  i need to upgrade. plugin stations at #sxsw.   \n",
       "1  @jessedee know about @fludapp ? awesome ipad/iphone app that you'll likely appreciate for its design. also, they're giving free ts at #sxsw   \n",
       "2                                                              @swonderlin can not wait for #ipad 2 also. they should sale them down at #sxsw.   \n",
       "3                                                           @sxsw i hope this year's festival isn't as crashy as this year's iphone app. #sxsw   \n",
       "4          @sxtxstate great stuff on fri #sxsw: marissa mayer (google), tim o'reilly (tech books/conferences) &amp; matt mullenweg (wordpress)   \n",
       "\n",
       "          sentiment  \\\n",
       "0  Negative emotion   \n",
       "1  Positive emotion   \n",
       "2  Positive emotion   \n",
       "3  Negative emotion   \n",
       "4  Positive emotion   \n",
       "\n",
       "                                                                                                                                                 tweet_tokenized  \\\n",
       "0                  [wesley83, i, have, a, 3g, iphone, after, 3, hrs, tweeting, at, rise_austin, it, was, dead, i, need, to, upgrade, plugin, stations, at, sxsw]   \n",
       "1  [jessedee, know, about, fludapp, awesome, ipad, iphone, app, that, you, ll, likely, appreciate, for, its, design, also, they, re, giving, free, ts, at, sxsw]   \n",
       "2                                                                     [swonderlin, can, not, wait, for, ipad, 2, also, they, should, sale, them, down, at, sxsw]   \n",
       "3                                                             [sxsw, i, hope, this, year, s, festival, isn, t, as, crashy, as, this, year, s, iphone, app, sxsw]   \n",
       "4                    [sxtxstate, great, stuff, on, fri, sxsw, marissa, mayer, google, tim, o, reilly, tech, books, conferences, amp, matt, mullenweg, wordpress]   \n",
       "\n",
       "                                                                                                                     tweet_tokenized_ns  \\\n",
       "0                                    [wesley83, 3g, iphone, 3, hrs, tweeting, rise_austin, dead, need, upgrade, plugin, stations, sxsw]   \n",
       "1                       [jessedee, know, fludapp, awesome, ipad, iphone, app, likely, appreciate, design, also, giving, free, ts, sxsw]   \n",
       "2                                                                                         [swonderlin, wait, ipad, 2, also, sale, sxsw]   \n",
       "3                                                                         [sxsw, hope, year, festival, crashy, year, iphone, app, sxsw]   \n",
       "4  [sxtxstate, great, stuff, fri, sxsw, marissa, mayer, google, tim, reilly, tech, books, conferences, amp, matt, mullenweg, wordpress]   \n",
       "\n",
       "                                                                                                                            tweet_lem  \n",
       "0                                    [wesley83, 3g, iphone, 3, hr, tweeting, rise_austin, dead, need, upgrade, plugin, station, sxsw]  \n",
       "1                      [jessedee, know, fludapp, awesome, ipad, iphone, app, likely, appreciate, design, also, giving, free, t, sxsw]  \n",
       "2                                                                                       [swonderlin, wait, ipad, 2, also, sale, sxsw]  \n",
       "3                                                                       [sxsw, hope, year, festival, crashy, year, iphone, app, sxsw]  \n",
       "4  [sxtxstate, great, stuff, fri, sxsw, marissa, mayer, google, tim, reilly, tech, book, conference, amp, matt, mullenweg, wordpress]  "
      ]
     },
     "execution_count": 64,
     "metadata": {},
     "output_type": "execute_result"
    }
   ],
   "source": [
    "rel_raw_df.head()"
   ]
  },
  {
   "cell_type": "code",
   "execution_count": 66,
   "id": "7282b375-ea3c-46cd-bb06-a480ec3e9851",
   "metadata": {},
   "outputs": [
    {
     "name": "stderr",
     "output_type": "stream",
     "text": [
      "/var/folders/p_/7g5qyc8d5zv5nfywm65yhpkc0000gn/T/ipykernel_50345/3461673320.py:6: SettingWithCopyWarning: \n",
      "A value is trying to be set on a copy of a slice from a DataFrame.\n",
      "Try using .loc[row_indexer,col_indexer] = value instead\n",
      "\n",
      "See the caveats in the documentation: https://pandas.pydata.org/pandas-docs/stable/user_guide/indexing.html#returning-a-view-versus-a-copy\n",
      "  rel_raw_df['sentiment_num'] = rel_raw_df['sentiment'].map(sentiment_map)\n"
     ]
    },
    {
     "data": {
      "text/html": [
       "<div>\n",
       "<style scoped>\n",
       "    .dataframe tbody tr th:only-of-type {\n",
       "        vertical-align: middle;\n",
       "    }\n",
       "\n",
       "    .dataframe tbody tr th {\n",
       "        vertical-align: top;\n",
       "    }\n",
       "\n",
       "    .dataframe thead th {\n",
       "        text-align: right;\n",
       "    }\n",
       "</style>\n",
       "<table border=\"1\" class=\"dataframe\">\n",
       "  <thead>\n",
       "    <tr style=\"text-align: right;\">\n",
       "      <th></th>\n",
       "      <th>tweet</th>\n",
       "      <th>sentiment</th>\n",
       "      <th>tweet_tokenized</th>\n",
       "      <th>tweet_tokenized_ns</th>\n",
       "      <th>tweet_lem</th>\n",
       "      <th>sentiment_num</th>\n",
       "    </tr>\n",
       "  </thead>\n",
       "  <tbody>\n",
       "    <tr>\n",
       "      <th>0</th>\n",
       "      <td>.@wesley83 i have a 3g iphone. after 3 hrs tweeting at #rise_austin, it was dead!  i need to upgrade. plugin stations at #sxsw.</td>\n",
       "      <td>Negative emotion</td>\n",
       "      <td>[wesley83, i, have, a, 3g, iphone, after, 3, hrs, tweeting, at, rise_austin, it, was, dead, i, need, to, upgrade, plugin, stations, at, sxsw]</td>\n",
       "      <td>[wesley83, 3g, iphone, 3, hrs, tweeting, rise_austin, dead, need, upgrade, plugin, stations, sxsw]</td>\n",
       "      <td>[wesley83, 3g, iphone, 3, hr, tweeting, rise_austin, dead, need, upgrade, plugin, station, sxsw]</td>\n",
       "      <td>2</td>\n",
       "    </tr>\n",
       "    <tr>\n",
       "      <th>1</th>\n",
       "      <td>@jessedee know about @fludapp ? awesome ipad/iphone app that you'll likely appreciate for its design. also, they're giving free ts at #sxsw</td>\n",
       "      <td>Positive emotion</td>\n",
       "      <td>[jessedee, know, about, fludapp, awesome, ipad, iphone, app, that, you, ll, likely, appreciate, for, its, design, also, they, re, giving, free, ts, at, sxsw]</td>\n",
       "      <td>[jessedee, know, fludapp, awesome, ipad, iphone, app, likely, appreciate, design, also, giving, free, ts, sxsw]</td>\n",
       "      <td>[jessedee, know, fludapp, awesome, ipad, iphone, app, likely, appreciate, design, also, giving, free, t, sxsw]</td>\n",
       "      <td>1</td>\n",
       "    </tr>\n",
       "    <tr>\n",
       "      <th>2</th>\n",
       "      <td>@swonderlin can not wait for #ipad 2 also. they should sale them down at #sxsw.</td>\n",
       "      <td>Positive emotion</td>\n",
       "      <td>[swonderlin, can, not, wait, for, ipad, 2, also, they, should, sale, them, down, at, sxsw]</td>\n",
       "      <td>[swonderlin, wait, ipad, 2, also, sale, sxsw]</td>\n",
       "      <td>[swonderlin, wait, ipad, 2, also, sale, sxsw]</td>\n",
       "      <td>1</td>\n",
       "    </tr>\n",
       "    <tr>\n",
       "      <th>3</th>\n",
       "      <td>@sxsw i hope this year's festival isn't as crashy as this year's iphone app. #sxsw</td>\n",
       "      <td>Negative emotion</td>\n",
       "      <td>[sxsw, i, hope, this, year, s, festival, isn, t, as, crashy, as, this, year, s, iphone, app, sxsw]</td>\n",
       "      <td>[sxsw, hope, year, festival, crashy, year, iphone, app, sxsw]</td>\n",
       "      <td>[sxsw, hope, year, festival, crashy, year, iphone, app, sxsw]</td>\n",
       "      <td>2</td>\n",
       "    </tr>\n",
       "    <tr>\n",
       "      <th>4</th>\n",
       "      <td>@sxtxstate great stuff on fri #sxsw: marissa mayer (google), tim o'reilly (tech books/conferences) &amp;amp; matt mullenweg (wordpress)</td>\n",
       "      <td>Positive emotion</td>\n",
       "      <td>[sxtxstate, great, stuff, on, fri, sxsw, marissa, mayer, google, tim, o, reilly, tech, books, conferences, amp, matt, mullenweg, wordpress]</td>\n",
       "      <td>[sxtxstate, great, stuff, fri, sxsw, marissa, mayer, google, tim, reilly, tech, books, conferences, amp, matt, mullenweg, wordpress]</td>\n",
       "      <td>[sxtxstate, great, stuff, fri, sxsw, marissa, mayer, google, tim, reilly, tech, book, conference, amp, matt, mullenweg, wordpress]</td>\n",
       "      <td>1</td>\n",
       "    </tr>\n",
       "  </tbody>\n",
       "</table>\n",
       "</div>"
      ],
      "text/plain": [
       "                                                                                                                                         tweet  \\\n",
       "0              .@wesley83 i have a 3g iphone. after 3 hrs tweeting at #rise_austin, it was dead!  i need to upgrade. plugin stations at #sxsw.   \n",
       "1  @jessedee know about @fludapp ? awesome ipad/iphone app that you'll likely appreciate for its design. also, they're giving free ts at #sxsw   \n",
       "2                                                              @swonderlin can not wait for #ipad 2 also. they should sale them down at #sxsw.   \n",
       "3                                                           @sxsw i hope this year's festival isn't as crashy as this year's iphone app. #sxsw   \n",
       "4          @sxtxstate great stuff on fri #sxsw: marissa mayer (google), tim o'reilly (tech books/conferences) &amp; matt mullenweg (wordpress)   \n",
       "\n",
       "          sentiment  \\\n",
       "0  Negative emotion   \n",
       "1  Positive emotion   \n",
       "2  Positive emotion   \n",
       "3  Negative emotion   \n",
       "4  Positive emotion   \n",
       "\n",
       "                                                                                                                                                 tweet_tokenized  \\\n",
       "0                  [wesley83, i, have, a, 3g, iphone, after, 3, hrs, tweeting, at, rise_austin, it, was, dead, i, need, to, upgrade, plugin, stations, at, sxsw]   \n",
       "1  [jessedee, know, about, fludapp, awesome, ipad, iphone, app, that, you, ll, likely, appreciate, for, its, design, also, they, re, giving, free, ts, at, sxsw]   \n",
       "2                                                                     [swonderlin, can, not, wait, for, ipad, 2, also, they, should, sale, them, down, at, sxsw]   \n",
       "3                                                             [sxsw, i, hope, this, year, s, festival, isn, t, as, crashy, as, this, year, s, iphone, app, sxsw]   \n",
       "4                    [sxtxstate, great, stuff, on, fri, sxsw, marissa, mayer, google, tim, o, reilly, tech, books, conferences, amp, matt, mullenweg, wordpress]   \n",
       "\n",
       "                                                                                                                     tweet_tokenized_ns  \\\n",
       "0                                    [wesley83, 3g, iphone, 3, hrs, tweeting, rise_austin, dead, need, upgrade, plugin, stations, sxsw]   \n",
       "1                       [jessedee, know, fludapp, awesome, ipad, iphone, app, likely, appreciate, design, also, giving, free, ts, sxsw]   \n",
       "2                                                                                         [swonderlin, wait, ipad, 2, also, sale, sxsw]   \n",
       "3                                                                         [sxsw, hope, year, festival, crashy, year, iphone, app, sxsw]   \n",
       "4  [sxtxstate, great, stuff, fri, sxsw, marissa, mayer, google, tim, reilly, tech, books, conferences, amp, matt, mullenweg, wordpress]   \n",
       "\n",
       "                                                                                                                            tweet_lem  \\\n",
       "0                                    [wesley83, 3g, iphone, 3, hr, tweeting, rise_austin, dead, need, upgrade, plugin, station, sxsw]   \n",
       "1                      [jessedee, know, fludapp, awesome, ipad, iphone, app, likely, appreciate, design, also, giving, free, t, sxsw]   \n",
       "2                                                                                       [swonderlin, wait, ipad, 2, also, sale, sxsw]   \n",
       "3                                                                       [sxsw, hope, year, festival, crashy, year, iphone, app, sxsw]   \n",
       "4  [sxtxstate, great, stuff, fri, sxsw, marissa, mayer, google, tim, reilly, tech, book, conference, amp, matt, mullenweg, wordpress]   \n",
       "\n",
       "   sentiment_num  \n",
       "0              2  \n",
       "1              1  \n",
       "2              1  \n",
       "3              2  \n",
       "4              1  "
      ]
     },
     "execution_count": 66,
     "metadata": {},
     "output_type": "execute_result"
    }
   ],
   "source": [
    "#make a new df column that associates sentiment with a number\n",
    "sentiment_map = {'No emotion toward brand or product': 0,\n",
    "    'Positive emotion': 1,\n",
    "    'Negative emotion': 2}\n",
    "\n",
    "rel_raw_df['sentiment_num'] = rel_raw_df['sentiment'].map(sentiment_map)\n",
    "\n",
    "rel_raw_df.head()"
   ]
  },
  {
   "cell_type": "code",
   "execution_count": 67,
   "id": "c658a281-35f4-49d6-abac-e770460c3568",
   "metadata": {},
   "outputs": [],
   "source": [
    "#set x and y \n",
    "X= rel_raw_df['tweet_lem']\n",
    "y= rel_raw_df['sentiment_num']"
   ]
  },
  {
   "cell_type": "code",
   "execution_count": 74,
   "id": "484938be-de3f-4766-9b5a-232a2d0248fa",
   "metadata": {},
   "outputs": [],
   "source": [
    "#stratified train and test split to maintain the same target distrobution ratios\n",
    "#i want 80% training data, 10% validation data, and 10% test data \n",
    "\n",
    "#Train split (remain is the remaining data)\n",
    "X_train, X_remain, y_train, y_remain= train_test_split(X, y, \n",
    "                                                   test_size= 0.2, \n",
    "                                                   stratify= y, \n",
    "                                                   random_state= 24)\n",
    "\n",
    "#Val test split \n",
    "X_val, X_test, y_val, y_test= train_test_split(X_remain, y_remain,\n",
    "                                               test_size= 0.5,\n",
    "                                               stratify= y_remain, \n",
    "                                               random_state= 24)"
   ]
  },
  {
   "cell_type": "code",
   "execution_count": 75,
   "id": "8f4fff2d-c5c4-440f-8b1a-225e9df39bff",
   "metadata": {},
   "outputs": [
    {
     "data": {
      "text/plain": [
       "1513                 [omarg, rumor, apple, opening, temporary, store, downtown, austin, sxsw, ipad, 2, launch, link]\n",
       "6726                                                          [rt, mention, ipad, 2, take, sxsw, video, link, sxswi]\n",
       "9057     [mention, guy, amp, give, ipad, win, quot, mention, cbs, scvngr, launch, spy, game, sxsw, link, sxsw, quot]\n",
       "6815    [rt, mention, toptweets, rt, mention, rumor, apple, opening, temporary, store, downtown, austin, sxsw, link]\n",
       "6733                             [rt, mention, apple, pop, store, line, finally, dwindled, time, check, ipad2, sxsw]\n",
       "Name: tweet_lem, dtype: object"
      ]
     },
     "execution_count": 75,
     "metadata": {},
     "output_type": "execute_result"
    }
   ],
   "source": [
    "X_train.head()"
   ]
  },
  {
   "cell_type": "code",
   "execution_count": 80,
   "id": "3f0e7b5d-8774-4470-ac25-4200b2b3480c",
   "metadata": {},
   "outputs": [
    {
     "name": "stderr",
     "output_type": "stream",
     "text": [
      "/var/folders/p_/7g5qyc8d5zv5nfywm65yhpkc0000gn/T/ipykernel_50345/2372018249.py:29: UserWarning: FixedFormatter should only be used together with FixedLocator\n",
      "  ax.set_xticklabels(words, rotation=45, ha='right')\n"
     ]
    },
    {
     "data": {
      "image/png": "[encoded data removed]",
      "text/plain": [
       "<Figure size 1200x1200 with 3 Axes>"
      ]
     },
     "metadata": {},
     "output_type": "display_data"
    }
   ],
   "source": [
    "#check out the word distrobutions in X_train for each target class\n",
    "\n",
    "from collections import Counter\n",
    "\n",
    "color_palette = sns.color_palette('cividis', n_colors=38)\n",
    "\n",
    "fig, axes = plt.subplots(nrows=3, figsize=(12, 12)) \n",
    "\n",
    "plotted_words_and_colors = {}\n",
    "\n",
    "sentiment_classes = y_train.unique() \n",
    "for i, sentiment_class in enumerate(sentiment_classes):\n",
    "    sentiment_data = X_train[y_train == sentiment_class]\n",
    "    all_words_in_sentiment = [word for tokens in sentiment_data for word in tokens]\n",
    "    top_10 = Counter(all_words_in_sentiment).most_common(20)\n",
    "    \n",
    "    colors = []\n",
    "    \n",
    "    for word, _ in top_10:\n",
    "        if word not in plotted_words_and_colors:\n",
    "            new_color = color_palette.pop(0)\n",
    "            plotted_words_and_colors[word] = new_color\n",
    "        colors.append(plotted_words_and_colors[word])\n",
    "    \n",
    "    ax = axes[i]\n",
    "    words, counts = zip(*top_10)\n",
    "    ax.bar(words, counts, color=colors)\n",
    "    ax.set_title(f'Sentiment: {sentiment_class}') \n",
    "    ax.set_xticklabels(words, rotation=45, ha='right')\n",
    "\n",
    "fig.tight_layout() \n",
    "plt.show()"
   ]
  },
  {
   "cell_type": "code",
   "execution_count": null,
   "id": "35a900cc-2ec8-4b49-83c8-274f58d4afce",
   "metadata": {},
   "outputs": [],
   "source": [
    "#it looks like we have a bunch of overlapping words that don't really have much to do with sentiment. \n",
    "#lets add them to our stop word list and get rid of them\n"
   ]
  },
  {
   "cell_type": "code",
   "execution_count": 81,
   "id": "5cda947c-a6fd-42ef-8769-acb7b9fdeabd",
   "metadata": {},
   "outputs": [
    {
     "data": {
      "text/plain": [
       "['',\n",
       " 'new',\n",
       " 'ipad',\n",
       " 'apps',\n",
       " 'for',\n",
       " '',\n",
       " 'and',\n",
       " 'communication',\n",
       " 'are',\n",
       " 'showcased',\n",
       " 'at',\n",
       " 'the',\n",
       " '',\n",
       " 'conference',\n",
       " '',\n",
       " '',\n",
       " '',\n",
       " '']"
      ]
     },
     "execution_count": 81,
     "metadata": {},
     "output_type": "execute_result"
    }
   ],
   "source": [
    "#what if we get rid of all the @'s, numbers, and #'s in the tokenization \n",
    "##define the token extraction pattern\n",
    "token_pattern2=  r'(?:http[s]?://\\S+|www\\.\\S+|[@#]\\w+|\\b\\d+\\w*\\b)|(?<![\\w:.])(\\b[a-zA-Z]+\\b)'\n",
    "\"\"\"\n",
    " \n",
    "\"\"\"\n",
    "tokenizer2= RegexpTokenizer(token_pattern2)\n",
    "tokenizer2.tokenize(samp1)"
   ]
  },
  {
   "cell_type": "code",
   "execution_count": 82,
   "id": "4a811b10-b2ec-4a2b-9c41-6b4764fd4564",
   "metadata": {},
   "outputs": [
    {
     "data": {
      "text/plain": [
       "'@teachntech00 new ipad apps for #speechtherapy and communication are showcased at the #sxsw conference http://ht.ly/49n4m #iear #edchat #asd'"
      ]
     },
     "execution_count": 82,
     "metadata": {},
     "output_type": "execute_result"
    }
   ],
   "source": [
    "samp1"
   ]
  },
  {
   "cell_type": "code",
   "execution_count": 83,
   "id": "9de64657-f5b9-4cd0-895c-5d99e02188f2",
   "metadata": {},
   "outputs": [
    {
     "data": {
      "text/plain": [
       "['excited',\n",
       " 'to',\n",
       " 'meet',\n",
       " 'the',\n",
       " '',\n",
       " 'at',\n",
       " '',\n",
       " 'so',\n",
       " 'i',\n",
       " 'can',\n",
       " 'show',\n",
       " 'them',\n",
       " 'my',\n",
       " 'sprint',\n",
       " 'galaxy',\n",
       " 's',\n",
       " 'still',\n",
       " 'running',\n",
       " 'android',\n",
       " '',\n",
       " '',\n",
       " '']"
      ]
     },
     "execution_count": 83,
     "metadata": {},
     "output_type": "execute_result"
    }
   ],
   "source": [
    "tokenizer2.tokenize(samp2)"
   ]
  },
  {
   "cell_type": "code",
   "execution_count": 84,
   "id": "e21cc65b-8d2b-4040-844a-074f02e3b492",
   "metadata": {},
   "outputs": [
    {
     "data": {
      "text/plain": [
       "'excited to meet the @samsungmobileus at #sxsw so i can show them my sprint galaxy s still running android 2.1.   #fail'"
      ]
     },
     "execution_count": 84,
     "metadata": {},
     "output_type": "execute_result"
    }
   ],
   "source": [
    "samp2"
   ]
  },
  {
   "cell_type": "code",
   "execution_count": 85,
   "id": "e65e2798-e23b-4b5c-bca4-ab86f536bb40",
   "metadata": {},
   "outputs": [
    {
     "name": "stderr",
     "output_type": "stream",
     "text": [
      "/var/folders/p_/7g5qyc8d5zv5nfywm65yhpkc0000gn/T/ipykernel_50345/3613001294.py:2: SettingWithCopyWarning: \n",
      "A value is trying to be set on a copy of a slice from a DataFrame.\n",
      "Try using .loc[row_indexer,col_indexer] = value instead\n",
      "\n",
      "See the caveats in the documentation: https://pandas.pydata.org/pandas-docs/stable/user_guide/indexing.html#returning-a-view-versus-a-copy\n",
      "  rel_raw_df[\"tweet_tokenized2\"] = rel_raw_df[\"tweet\"].apply(tokenizer2.tokenize)\n"
     ]
    },
    {
     "data": {
      "text/html": [
       "<div>\n",
       "<style scoped>\n",
       "    .dataframe tbody tr th:only-of-type {\n",
       "        vertical-align: middle;\n",
       "    }\n",
       "\n",
       "    .dataframe tbody tr th {\n",
       "        vertical-align: top;\n",
       "    }\n",
       "\n",
       "    .dataframe thead th {\n",
       "        text-align: right;\n",
       "    }\n",
       "</style>\n",
       "<table border=\"1\" class=\"dataframe\">\n",
       "  <thead>\n",
       "    <tr style=\"text-align: right;\">\n",
       "      <th></th>\n",
       "      <th>tweet</th>\n",
       "      <th>sentiment</th>\n",
       "      <th>tweet_tokenized</th>\n",
       "      <th>tweet_tokenized_ns</th>\n",
       "      <th>tweet_lem</th>\n",
       "      <th>sentiment_num</th>\n",
       "      <th>tweet_tokenized2</th>\n",
       "    </tr>\n",
       "  </thead>\n",
       "  <tbody>\n",
       "    <tr>\n",
       "      <th>0</th>\n",
       "      <td>.@wesley83 i have a 3g iphone. after 3 hrs tweeting at #rise_austin, it was dead!  i need to upgrade. plugin stations at #sxsw.</td>\n",
       "      <td>Negative emotion</td>\n",
       "      <td>[wesley83, i, have, a, 3g, iphone, after, 3, hrs, tweeting, at, rise_austin, it, was, dead, i, need, to, upgrade, plugin, stations, at, sxsw]</td>\n",
       "      <td>[wesley83, 3g, iphone, 3, hrs, tweeting, rise_austin, dead, need, upgrade, plugin, stations, sxsw]</td>\n",
       "      <td>[wesley83, 3g, iphone, 3, hr, tweeting, rise_austin, dead, need, upgrade, plugin, station, sxsw]</td>\n",
       "      <td>2</td>\n",
       "      <td>[, i, have, a, , iphone, after, , hrs, tweeting, at, , it, was, dead, i, need, to, upgrade, plugin, stations, at, ]</td>\n",
       "    </tr>\n",
       "    <tr>\n",
       "      <th>1</th>\n",
       "      <td>@jessedee know about @fludapp ? awesome ipad/iphone app that you'll likely appreciate for its design. also, they're giving free ts at #sxsw</td>\n",
       "      <td>Positive emotion</td>\n",
       "      <td>[jessedee, know, about, fludapp, awesome, ipad, iphone, app, that, you, ll, likely, appreciate, for, its, design, also, they, re, giving, free, ts, at, sxsw]</td>\n",
       "      <td>[jessedee, know, fludapp, awesome, ipad, iphone, app, likely, appreciate, design, also, giving, free, ts, sxsw]</td>\n",
       "      <td>[jessedee, know, fludapp, awesome, ipad, iphone, app, likely, appreciate, design, also, giving, free, t, sxsw]</td>\n",
       "      <td>1</td>\n",
       "      <td>[, know, about, , awesome, ipad, iphone, app, that, you, ll, likely, appreciate, for, its, design, also, they, re, giving, free, ts, at, ]</td>\n",
       "    </tr>\n",
       "    <tr>\n",
       "      <th>2</th>\n",
       "      <td>@swonderlin can not wait for #ipad 2 also. they should sale them down at #sxsw.</td>\n",
       "      <td>Positive emotion</td>\n",
       "      <td>[swonderlin, can, not, wait, for, ipad, 2, also, they, should, sale, them, down, at, sxsw]</td>\n",
       "      <td>[swonderlin, wait, ipad, 2, also, sale, sxsw]</td>\n",
       "      <td>[swonderlin, wait, ipad, 2, also, sale, sxsw]</td>\n",
       "      <td>1</td>\n",
       "      <td>[, can, not, wait, for, , , also, they, should, sale, them, down, at, ]</td>\n",
       "    </tr>\n",
       "    <tr>\n",
       "      <th>3</th>\n",
       "      <td>@sxsw i hope this year's festival isn't as crashy as this year's iphone app. #sxsw</td>\n",
       "      <td>Negative emotion</td>\n",
       "      <td>[sxsw, i, hope, this, year, s, festival, isn, t, as, crashy, as, this, year, s, iphone, app, sxsw]</td>\n",
       "      <td>[sxsw, hope, year, festival, crashy, year, iphone, app, sxsw]</td>\n",
       "      <td>[sxsw, hope, year, festival, crashy, year, iphone, app, sxsw]</td>\n",
       "      <td>2</td>\n",
       "      <td>[, i, hope, this, year, s, festival, isn, t, as, crashy, as, this, year, s, iphone, app, ]</td>\n",
       "    </tr>\n",
       "    <tr>\n",
       "      <th>4</th>\n",
       "      <td>@sxtxstate great stuff on fri #sxsw: marissa mayer (google), tim o'reilly (tech books/conferences) &amp;amp; matt mullenweg (wordpress)</td>\n",
       "      <td>Positive emotion</td>\n",
       "      <td>[sxtxstate, great, stuff, on, fri, sxsw, marissa, mayer, google, tim, o, reilly, tech, books, conferences, amp, matt, mullenweg, wordpress]</td>\n",
       "      <td>[sxtxstate, great, stuff, fri, sxsw, marissa, mayer, google, tim, reilly, tech, books, conferences, amp, matt, mullenweg, wordpress]</td>\n",
       "      <td>[sxtxstate, great, stuff, fri, sxsw, marissa, mayer, google, tim, reilly, tech, book, conference, amp, matt, mullenweg, wordpress]</td>\n",
       "      <td>1</td>\n",
       "      <td>[, great, stuff, on, fri, , marissa, mayer, google, tim, o, reilly, tech, books, conferences, amp, matt, mullenweg, wordpress]</td>\n",
       "    </tr>\n",
       "  </tbody>\n",
       "</table>\n",
       "</div>"
      ],
      "text/plain": [
       "                                                                                                                                         tweet  \\\n",
       "0              .@wesley83 i have a 3g iphone. after 3 hrs tweeting at #rise_austin, it was dead!  i need to upgrade. plugin stations at #sxsw.   \n",
       "1  @jessedee know about @fludapp ? awesome ipad/iphone app that you'll likely appreciate for its design. also, they're giving free ts at #sxsw   \n",
       "2                                                              @swonderlin can not wait for #ipad 2 also. they should sale them down at #sxsw.   \n",
       "3                                                           @sxsw i hope this year's festival isn't as crashy as this year's iphone app. #sxsw   \n",
       "4          @sxtxstate great stuff on fri #sxsw: marissa mayer (google), tim o'reilly (tech books/conferences) &amp; matt mullenweg (wordpress)   \n",
       "\n",
       "          sentiment  \\\n",
       "0  Negative emotion   \n",
       "1  Positive emotion   \n",
       "2  Positive emotion   \n",
       "3  Negative emotion   \n",
       "4  Positive emotion   \n",
       "\n",
       "                                                                                                                                                 tweet_tokenized  \\\n",
       "0                  [wesley83, i, have, a, 3g, iphone, after, 3, hrs, tweeting, at, rise_austin, it, was, dead, i, need, to, upgrade, plugin, stations, at, sxsw]   \n",
       "1  [jessedee, know, about, fludapp, awesome, ipad, iphone, app, that, you, ll, likely, appreciate, for, its, design, also, they, re, giving, free, ts, at, sxsw]   \n",
       "2                                                                     [swonderlin, can, not, wait, for, ipad, 2, also, they, should, sale, them, down, at, sxsw]   \n",
       "3                                                             [sxsw, i, hope, this, year, s, festival, isn, t, as, crashy, as, this, year, s, iphone, app, sxsw]   \n",
       "4                    [sxtxstate, great, stuff, on, fri, sxsw, marissa, mayer, google, tim, o, reilly, tech, books, conferences, amp, matt, mullenweg, wordpress]   \n",
       "\n",
       "                                                                                                                     tweet_tokenized_ns  \\\n",
       "0                                    [wesley83, 3g, iphone, 3, hrs, tweeting, rise_austin, dead, need, upgrade, plugin, stations, sxsw]   \n",
       "1                       [jessedee, know, fludapp, awesome, ipad, iphone, app, likely, appreciate, design, also, giving, free, ts, sxsw]   \n",
       "2                                                                                         [swonderlin, wait, ipad, 2, also, sale, sxsw]   \n",
       "3                                                                         [sxsw, hope, year, festival, crashy, year, iphone, app, sxsw]   \n",
       "4  [sxtxstate, great, stuff, fri, sxsw, marissa, mayer, google, tim, reilly, tech, books, conferences, amp, matt, mullenweg, wordpress]   \n",
       "\n",
       "                                                                                                                            tweet_lem  \\\n",
       "0                                    [wesley83, 3g, iphone, 3, hr, tweeting, rise_austin, dead, need, upgrade, plugin, station, sxsw]   \n",
       "1                      [jessedee, know, fludapp, awesome, ipad, iphone, app, likely, appreciate, design, also, giving, free, t, sxsw]   \n",
       "2                                                                                       [swonderlin, wait, ipad, 2, also, sale, sxsw]   \n",
       "3                                                                       [sxsw, hope, year, festival, crashy, year, iphone, app, sxsw]   \n",
       "4  [sxtxstate, great, stuff, fri, sxsw, marissa, mayer, google, tim, reilly, tech, book, conference, amp, matt, mullenweg, wordpress]   \n",
       "\n",
       "   sentiment_num  \\\n",
       "0              2   \n",
       "1              1   \n",
       "2              1   \n",
       "3              2   \n",
       "4              1   \n",
       "\n",
       "                                                                                                                             tweet_tokenized2  \n",
       "0                         [, i, have, a, , iphone, after, , hrs, tweeting, at, , it, was, dead, i, need, to, upgrade, plugin, stations, at, ]  \n",
       "1  [, know, about, , awesome, ipad, iphone, app, that, you, ll, likely, appreciate, for, its, design, also, they, re, giving, free, ts, at, ]  \n",
       "2                                                                     [, can, not, wait, for, , , also, they, should, sale, them, down, at, ]  \n",
       "3                                                  [, i, hope, this, year, s, festival, isn, t, as, crashy, as, this, year, s, iphone, app, ]  \n",
       "4              [, great, stuff, on, fri, , marissa, mayer, google, tim, o, reilly, tech, books, conferences, amp, matt, mullenweg, wordpress]  "
      ]
     },
     "execution_count": 85,
     "metadata": {},
     "output_type": "execute_result"
    }
   ],
   "source": [
    "#tokenize the full dataset now \n",
    "rel_raw_df[\"tweet_tokenized2\"] = rel_raw_df[\"tweet\"].apply(tokenizer2.tokenize)\n",
    "rel_raw_df.head()"
   ]
  },
  {
   "cell_type": "code",
   "execution_count": 87,
   "id": "e4940ae3-ae92-4af9-9f90-c499a51e8b60",
   "metadata": {},
   "outputs": [
    {
     "name": "stderr",
     "output_type": "stream",
     "text": [
      "/var/folders/p_/7g5qyc8d5zv5nfywm65yhpkc0000gn/T/ipykernel_50345/3197391644.py:1: SettingWithCopyWarning: \n",
      "A value is trying to be set on a copy of a slice from a DataFrame.\n",
      "Try using .loc[row_indexer,col_indexer] = value instead\n",
      "\n",
      "See the caveats in the documentation: https://pandas.pydata.org/pandas-docs/stable/user_guide/indexing.html#returning-a-view-versus-a-copy\n",
      "  rel_raw_df[\"tweet_tokenized_ns2\"] = rel_raw_df[\"tweet_tokenized2\"].apply(remove_stopwords)\n",
      "/var/folders/p_/7g5qyc8d5zv5nfywm65yhpkc0000gn/T/ipykernel_50345/3197391644.py:2: SettingWithCopyWarning: \n",
      "A value is trying to be set on a copy of a slice from a DataFrame.\n",
      "Try using .loc[row_indexer,col_indexer] = value instead\n",
      "\n",
      "See the caveats in the documentation: https://pandas.pydata.org/pandas-docs/stable/user_guide/indexing.html#returning-a-view-versus-a-copy\n",
      "  rel_raw_df[\"tweet_lem2\"] = rel_raw_df[\"tweet_tokenized_ns2\"].apply(lem_tokens)\n"
     ]
    }
   ],
   "source": [
    "rel_raw_df[\"tweet_tokenized_ns2\"] = rel_raw_df[\"tweet_tokenized2\"].apply(remove_stopwords)\n",
    "rel_raw_df[\"tweet_lem2\"] = rel_raw_df[\"tweet_tokenized_ns2\"].apply(lem_tokens)"
   ]
  },
  {
   "cell_type": "code",
   "execution_count": 89,
   "id": "7cb79567-a535-4fdb-8e8c-8b214c5752db",
   "metadata": {},
   "outputs": [],
   "source": [
    "#set x and y \n",
    "X2= rel_raw_df['tweet_lem2']\n",
    "y2= rel_raw_df['sentiment_num']\n",
    "\n",
    "#Train split (remain is the remaining data)\n",
    "X_train2, X_remain2, y_train, y_remain= train_test_split(X2, y2, \n",
    "                                                   test_size= 0.2, \n",
    "                                                   stratify= y, \n",
    "                                                   random_state= 24)\n",
    "\n",
    "#Val test split \n",
    "X_val2, X_test2, y_val, y_test= train_test_split(X_remain2, y_remain,\n",
    "                                               test_size= 0.5,\n",
    "                                               stratify= y_remain, \n",
    "                                               random_state= 24)"
   ]
  },
  {
   "cell_type": "code",
   "execution_count": 90,
   "id": "257e6562-b680-450a-8a95-ef3906a7794d",
   "metadata": {},
   "outputs": [
    {
     "name": "stderr",
     "output_type": "stream",
     "text": [
      "/var/folders/p_/7g5qyc8d5zv5nfywm65yhpkc0000gn/T/ipykernel_50345/2280644904.py:25: UserWarning: FixedFormatter should only be used together with FixedLocator\n",
      "  ax.set_xticklabels(words, rotation=45, ha='right')\n"
     ]
    },
    {
     "data": {
      "image/png": "[encoded data removed]",
      "text/plain": [
       "<Figure size 1200x1200 with 3 Axes>"
      ]
     },
     "metadata": {},
     "output_type": "display_data"
    }
   ],
   "source": [
    "color_palette = sns.color_palette('cividis', n_colors=38)\n",
    "\n",
    "fig, axes = plt.subplots(nrows=3, figsize=(12, 12)) \n",
    "\n",
    "plotted_words_and_colors = {}\n",
    "\n",
    "sentiment_classes = y_train.unique() \n",
    "for i, sentiment_class in enumerate(sentiment_classes):\n",
    "    sentiment_data = X_train2[y_train == sentiment_class]\n",
    "    all_words_in_sentiment = [word for tokens in sentiment_data for word in tokens]\n",
    "    top_10 = Counter(all_words_in_sentiment).most_common(20)\n",
    "    \n",
    "    colors = []\n",
    "    \n",
    "    for word, _ in top_10:\n",
    "        if word not in plotted_words_and_colors:\n",
    "            new_color = color_palette.pop(0)\n",
    "            plotted_words_and_colors[word] = new_color\n",
    "        colors.append(plotted_words_and_colors[word])\n",
    "    \n",
    "    ax = axes[i]\n",
    "    words, counts = zip(*top_10)\n",
    "    ax.bar(words, counts, color=colors)\n",
    "    ax.set_title(f'Sentiment: {sentiment_class}') \n",
    "    ax.set_xticklabels(words, rotation=45, ha='right')\n",
    "\n",
    "fig.tight_layout() \n",
    "plt.show()"
   ]
  },
  {
   "cell_type": "code",
   "execution_count": 91,
   "id": "57f12209-e418-49f0-9988-e05923653d9f",
   "metadata": {},
   "outputs": [],
   "source": [
    "#what if we only kept words that were verbs or adjectives"
   ]
  },
  {
   "cell_type": "code",
   "execution_count": null,
   "id": "32e0d553-e220-4509-bc4f-8719c5041bfa",
   "metadata": {},
   "outputs": [],
   "source": []
  }
 ],
 "metadata": {
  "kernelspec": {
   "display_name": "Python 3 (ipykernel)",
   "language": "python",
   "name": "python3"
  },
  "language_info": {
   "codemirror_mode": {
    "name": "ipython",
    "version": 3
   },
   "file_extension": ".py",
   "mimetype": "text/x-python",
   "name": "python",
   "nbconvert_exporter": "python",
   "pygments_lexer": "ipython3",
   "version": "3.8.19"
  }
 },
 "nbformat": 4,
 "nbformat_minor": 5
}
