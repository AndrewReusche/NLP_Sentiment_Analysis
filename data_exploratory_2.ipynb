{
 "cells": [
  {
   "cell_type": "code",
   "execution_count": 102,
   "id": "6320ad04-4ce9-4ff4-a024-6fd8fce87aa4",
   "metadata": {},
   "outputs": [
    {
     "name": "stderr",
     "output_type": "stream",
     "text": [
      "[nltk_data] Downloading package wordnet to\n",
      "[nltk_data]     /Users/andrewreusche/nltk_data...\n",
      "[nltk_data]   Package wordnet is already up-to-date!\n"
     ]
    }
   ],
   "source": [
    "#import relevant libraries\n",
    "import warnings\n",
    "warnings.filterwarnings('ignore')\n",
    "\n",
    "import pandas as pd\n",
    "pd.set_option('max_colwidth', 400)\n",
    "import numpy as np\n",
    "import re\n",
    "import matplotlib.pyplot as plt\n",
    "import seaborn as sns\n",
    "\n",
    "from imblearn.under_sampling import RandomUnderSampler\n",
    "from imblearn.pipeline import Pipeline as ImbPipeline\n",
    "from imblearn.over_sampling import SMOTE\n",
    "\n",
    "import nltk\n",
    "from nltk.tokenize import RegexpTokenizer, sent_tokenize, word_tokenize\n",
    "from nltk.corpus import stopwords\n",
    "nltk.download('stopwords', quiet=True)\n",
    "from nltk.stem import PorterStemmer, SnowballStemmer\n",
    "from nltk import FreqDist, pos_tag\n",
    "nltk.download('punkt', quiet=True)\n",
    "from nltk.stem import WordNetLemmatizer\n",
    "from nltk.corpus import wordnet\n",
    "nltk.download('wordnet')\n",
    "from nltk.sentiment.vader import SentimentIntensityAnalyzer\n",
    "\n",
    "\n",
    "from sklearn.model_selection import train_test_split, cross_val_score, GridSearchCV\n",
    "from sklearn.feature_extraction.text import TfidfVectorizer, CountVectorizer\n",
    "from sklearn.naive_bayes import MultinomialNB\n",
    "from sklearn.linear_model import LogisticRegression\n",
    "from sklearn.tree import DecisionTreeClassifier\n",
    "from sklearn.neighbors import KNeighborsClassifier\n",
    "from sklearn.cluster import KMeans\n",
    "from sklearn.metrics import accuracy_score, confusion_matrix, ConfusionMatrixDisplay \n",
    "from sklearn.metrics import silhouette_score\n",
    "from sklearn.pipeline import Pipeline\n",
    "from sklearn.impute import SimpleImputer\n",
    "from sklearn.preprocessing import StandardScaler\n",
    "from sklearn.svm import LinearSVC\n",
    "from sklearn.ensemble import RandomForestClassifier, GradientBoostingClassifier\n",
    "import xgboost as xgb\n",
    "from xgboost import XGBClassifier\n"
   ]
  },
  {
   "cell_type": "code",
   "execution_count": 2,
   "id": "ab24dceb-8317-412f-b785-1e62f4753808",
   "metadata": {},
   "outputs": [],
   "source": [
    "xgb_regressor = xgb.XGBRegressor()"
   ]
  },
  {
   "cell_type": "code",
   "execution_count": 3,
   "id": "97675525-036a-4950-9f65-227d9051cbd9",
   "metadata": {},
   "outputs": [],
   "source": [
    "df= pd.read_csv('data/judge-1377884607_tweet_product_company.csv', encoding='ISO-8859-1')"
   ]
  },
  {
   "cell_type": "code",
   "execution_count": 4,
   "id": "a877cbed-d5bf-4808-8be9-e499b716ebcc",
   "metadata": {},
   "outputs": [
    {
     "data": {
      "text/html": [
       "<div>\n",
       "<style scoped>\n",
       "    .dataframe tbody tr th:only-of-type {\n",
       "        vertical-align: middle;\n",
       "    }\n",
       "\n",
       "    .dataframe tbody tr th {\n",
       "        vertical-align: top;\n",
       "    }\n",
       "\n",
       "    .dataframe thead th {\n",
       "        text-align: right;\n",
       "    }\n",
       "</style>\n",
       "<table border=\"1\" class=\"dataframe\">\n",
       "  <thead>\n",
       "    <tr style=\"text-align: right;\">\n",
       "      <th></th>\n",
       "      <th>tweet_text</th>\n",
       "      <th>emotion_in_tweet_is_directed_at</th>\n",
       "      <th>is_there_an_emotion_directed_at_a_brand_or_product</th>\n",
       "    </tr>\n",
       "  </thead>\n",
       "  <tbody>\n",
       "    <tr>\n",
       "      <th>0</th>\n",
       "      <td>.@wesley83 I have a 3G iPhone. After 3 hrs tweeting at #RISE_Austin, it was dead!  I need to upgrade. Plugin stations at #SXSW.</td>\n",
       "      <td>iPhone</td>\n",
       "      <td>Negative emotion</td>\n",
       "    </tr>\n",
       "    <tr>\n",
       "      <th>1</th>\n",
       "      <td>@jessedee Know about @fludapp ? Awesome iPad/iPhone app that you'll likely appreciate for its design. Also, they're giving free Ts at #SXSW</td>\n",
       "      <td>iPad or iPhone App</td>\n",
       "      <td>Positive emotion</td>\n",
       "    </tr>\n",
       "    <tr>\n",
       "      <th>2</th>\n",
       "      <td>@swonderlin Can not wait for #iPad 2 also. They should sale them down at #SXSW.</td>\n",
       "      <td>iPad</td>\n",
       "      <td>Positive emotion</td>\n",
       "    </tr>\n",
       "    <tr>\n",
       "      <th>3</th>\n",
       "      <td>@sxsw I hope this year's festival isn't as crashy as this year's iPhone app. #sxsw</td>\n",
       "      <td>iPad or iPhone App</td>\n",
       "      <td>Negative emotion</td>\n",
       "    </tr>\n",
       "    <tr>\n",
       "      <th>4</th>\n",
       "      <td>@sxtxstate great stuff on Fri #SXSW: Marissa Mayer (Google), Tim O'Reilly (tech books/conferences) &amp;amp; Matt Mullenweg (Wordpress)</td>\n",
       "      <td>Google</td>\n",
       "      <td>Positive emotion</td>\n",
       "    </tr>\n",
       "  </tbody>\n",
       "</table>\n",
       "</div>"
      ],
      "text/plain": [
       "                                                                                                                                    tweet_text  \\\n",
       "0              .@wesley83 I have a 3G iPhone. After 3 hrs tweeting at #RISE_Austin, it was dead!  I need to upgrade. Plugin stations at #SXSW.   \n",
       "1  @jessedee Know about @fludapp ? Awesome iPad/iPhone app that you'll likely appreciate for its design. Also, they're giving free Ts at #SXSW   \n",
       "2                                                              @swonderlin Can not wait for #iPad 2 also. They should sale them down at #SXSW.   \n",
       "3                                                           @sxsw I hope this year's festival isn't as crashy as this year's iPhone app. #sxsw   \n",
       "4          @sxtxstate great stuff on Fri #SXSW: Marissa Mayer (Google), Tim O'Reilly (tech books/conferences) &amp; Matt Mullenweg (Wordpress)   \n",
       "\n",
       "  emotion_in_tweet_is_directed_at  \\\n",
       "0                          iPhone   \n",
       "1              iPad or iPhone App   \n",
       "2                            iPad   \n",
       "3              iPad or iPhone App   \n",
       "4                          Google   \n",
       "\n",
       "  is_there_an_emotion_directed_at_a_brand_or_product  \n",
       "0                                   Negative emotion  \n",
       "1                                   Positive emotion  \n",
       "2                                   Positive emotion  \n",
       "3                                   Negative emotion  \n",
       "4                                   Positive emotion  "
      ]
     },
     "execution_count": 4,
     "metadata": {},
     "output_type": "execute_result"
    }
   ],
   "source": [
    "df.head()"
   ]
  },
  {
   "cell_type": "code",
   "execution_count": 5,
   "id": "4e901c53-5830-448e-af7a-2cb6f8e52958",
   "metadata": {},
   "outputs": [
    {
     "name": "stdout",
     "output_type": "stream",
     "text": [
      "<class 'pandas.core.frame.DataFrame'>\n",
      "RangeIndex: 9093 entries, 0 to 9092\n",
      "Data columns (total 3 columns):\n",
      " #   Column                                              Non-Null Count  Dtype \n",
      "---  ------                                              --------------  ----- \n",
      " 0   tweet_text                                          9092 non-null   object\n",
      " 1   emotion_in_tweet_is_directed_at                     3291 non-null   object\n",
      " 2   is_there_an_emotion_directed_at_a_brand_or_product  9093 non-null   object\n",
      "dtypes: object(3)\n",
      "memory usage: 213.2+ KB\n"
     ]
    }
   ],
   "source": [
    "df.info()"
   ]
  },
  {
   "cell_type": "code",
   "execution_count": 6,
   "id": "a3aeacc1-f0fe-4b39-b26c-b667c258a5cd",
   "metadata": {},
   "outputs": [],
   "source": [
    "#create a new df with just the data we want\n",
    "raw_df= df[['tweet_text','is_there_an_emotion_directed_at_a_brand_or_product']]"
   ]
  },
  {
   "cell_type": "code",
   "execution_count": 7,
   "id": "a4215d72-616a-4223-abfa-95e9def4af00",
   "metadata": {},
   "outputs": [
    {
     "data": {
      "text/html": [
       "<div>\n",
       "<style scoped>\n",
       "    .dataframe tbody tr th:only-of-type {\n",
       "        vertical-align: middle;\n",
       "    }\n",
       "\n",
       "    .dataframe tbody tr th {\n",
       "        vertical-align: top;\n",
       "    }\n",
       "\n",
       "    .dataframe thead th {\n",
       "        text-align: right;\n",
       "    }\n",
       "</style>\n",
       "<table border=\"1\" class=\"dataframe\">\n",
       "  <thead>\n",
       "    <tr style=\"text-align: right;\">\n",
       "      <th></th>\n",
       "      <th>tweet_text</th>\n",
       "      <th>is_there_an_emotion_directed_at_a_brand_or_product</th>\n",
       "    </tr>\n",
       "  </thead>\n",
       "  <tbody>\n",
       "    <tr>\n",
       "      <th>0</th>\n",
       "      <td>.@wesley83 I have a 3G iPhone. After 3 hrs tweeting at #RISE_Austin, it was dead!  I need to upgrade. Plugin stations at #SXSW.</td>\n",
       "      <td>Negative emotion</td>\n",
       "    </tr>\n",
       "    <tr>\n",
       "      <th>1</th>\n",
       "      <td>@jessedee Know about @fludapp ? Awesome iPad/iPhone app that you'll likely appreciate for its design. Also, they're giving free Ts at #SXSW</td>\n",
       "      <td>Positive emotion</td>\n",
       "    </tr>\n",
       "    <tr>\n",
       "      <th>2</th>\n",
       "      <td>@swonderlin Can not wait for #iPad 2 also. They should sale them down at #SXSW.</td>\n",
       "      <td>Positive emotion</td>\n",
       "    </tr>\n",
       "    <tr>\n",
       "      <th>3</th>\n",
       "      <td>@sxsw I hope this year's festival isn't as crashy as this year's iPhone app. #sxsw</td>\n",
       "      <td>Negative emotion</td>\n",
       "    </tr>\n",
       "    <tr>\n",
       "      <th>4</th>\n",
       "      <td>@sxtxstate great stuff on Fri #SXSW: Marissa Mayer (Google), Tim O'Reilly (tech books/conferences) &amp;amp; Matt Mullenweg (Wordpress)</td>\n",
       "      <td>Positive emotion</td>\n",
       "    </tr>\n",
       "  </tbody>\n",
       "</table>\n",
       "</div>"
      ],
      "text/plain": [
       "                                                                                                                                    tweet_text  \\\n",
       "0              .@wesley83 I have a 3G iPhone. After 3 hrs tweeting at #RISE_Austin, it was dead!  I need to upgrade. Plugin stations at #SXSW.   \n",
       "1  @jessedee Know about @fludapp ? Awesome iPad/iPhone app that you'll likely appreciate for its design. Also, they're giving free Ts at #SXSW   \n",
       "2                                                              @swonderlin Can not wait for #iPad 2 also. They should sale them down at #SXSW.   \n",
       "3                                                           @sxsw I hope this year's festival isn't as crashy as this year's iPhone app. #sxsw   \n",
       "4          @sxtxstate great stuff on Fri #SXSW: Marissa Mayer (Google), Tim O'Reilly (tech books/conferences) &amp; Matt Mullenweg (Wordpress)   \n",
       "\n",
       "  is_there_an_emotion_directed_at_a_brand_or_product  \n",
       "0                                   Negative emotion  \n",
       "1                                   Positive emotion  \n",
       "2                                   Positive emotion  \n",
       "3                                   Negative emotion  \n",
       "4                                   Positive emotion  "
      ]
     },
     "execution_count": 7,
     "metadata": {},
     "output_type": "execute_result"
    }
   ],
   "source": [
    "raw_df.head()"
   ]
  },
  {
   "cell_type": "code",
   "execution_count": 8,
   "id": "55ae5916-644f-4f29-9050-433584456483",
   "metadata": {},
   "outputs": [
    {
     "name": "stdout",
     "output_type": "stream",
     "text": [
      "<class 'pandas.core.frame.DataFrame'>\n",
      "RangeIndex: 9093 entries, 0 to 9092\n",
      "Data columns (total 2 columns):\n",
      " #   Column                                              Non-Null Count  Dtype \n",
      "---  ------                                              --------------  ----- \n",
      " 0   tweet_text                                          9092 non-null   object\n",
      " 1   is_there_an_emotion_directed_at_a_brand_or_product  9093 non-null   object\n",
      "dtypes: object(2)\n",
      "memory usage: 142.2+ KB\n"
     ]
    }
   ],
   "source": [
    "raw_df.info()"
   ]
  },
  {
   "cell_type": "code",
   "execution_count": 9,
   "id": "5d5aa640-baa3-4040-becf-b44852c5df85",
   "metadata": {},
   "outputs": [],
   "source": [
    "raw_df= raw_df.dropna()"
   ]
  },
  {
   "cell_type": "code",
   "execution_count": 10,
   "id": "29ed5f59-66b1-4abe-b340-f3587424820c",
   "metadata": {},
   "outputs": [
    {
     "name": "stdout",
     "output_type": "stream",
     "text": [
      "<class 'pandas.core.frame.DataFrame'>\n",
      "Index: 9092 entries, 0 to 9092\n",
      "Data columns (total 2 columns):\n",
      " #   Column                                              Non-Null Count  Dtype \n",
      "---  ------                                              --------------  ----- \n",
      " 0   tweet_text                                          9092 non-null   object\n",
      " 1   is_there_an_emotion_directed_at_a_brand_or_product  9092 non-null   object\n",
      "dtypes: object(2)\n",
      "memory usage: 213.1+ KB\n"
     ]
    }
   ],
   "source": [
    "raw_df.info()"
   ]
  },
  {
   "cell_type": "code",
   "execution_count": 11,
   "id": "f8927375-cd74-489a-ae39-b09409986676",
   "metadata": {},
   "outputs": [
    {
     "name": "stdout",
     "output_type": "stream",
     "text": [
      "<class 'pandas.core.frame.DataFrame'>\n",
      "Index: 9070 entries, 0 to 9092\n",
      "Data columns (total 2 columns):\n",
      " #   Column                                              Non-Null Count  Dtype \n",
      "---  ------                                              --------------  ----- \n",
      " 0   tweet_text                                          9070 non-null   object\n",
      " 1   is_there_an_emotion_directed_at_a_brand_or_product  9070 non-null   object\n",
      "dtypes: object(2)\n",
      "memory usage: 212.6+ KB\n"
     ]
    }
   ],
   "source": [
    "raw_df = raw_df.drop_duplicates(keep='first')\n",
    "raw_df.info()"
   ]
  },
  {
   "cell_type": "code",
   "execution_count": 12,
   "id": "4a18280a-6529-4e3b-aa86-751b255f8014",
   "metadata": {},
   "outputs": [
    {
     "data": {
      "text/html": [
       "<div>\n",
       "<style scoped>\n",
       "    .dataframe tbody tr th:only-of-type {\n",
       "        vertical-align: middle;\n",
       "    }\n",
       "\n",
       "    .dataframe tbody tr th {\n",
       "        vertical-align: top;\n",
       "    }\n",
       "\n",
       "    .dataframe thead th {\n",
       "        text-align: right;\n",
       "    }\n",
       "</style>\n",
       "<table border=\"1\" class=\"dataframe\">\n",
       "  <thead>\n",
       "    <tr style=\"text-align: right;\">\n",
       "      <th></th>\n",
       "      <th>tweet</th>\n",
       "      <th>emotion</th>\n",
       "    </tr>\n",
       "  </thead>\n",
       "  <tbody>\n",
       "    <tr>\n",
       "      <th>0</th>\n",
       "      <td>.@wesley83 I have a 3G iPhone. After 3 hrs tweeting at #RISE_Austin, it was dead!  I need to upgrade. Plugin stations at #SXSW.</td>\n",
       "      <td>Negative emotion</td>\n",
       "    </tr>\n",
       "    <tr>\n",
       "      <th>1</th>\n",
       "      <td>@jessedee Know about @fludapp ? Awesome iPad/iPhone app that you'll likely appreciate for its design. Also, they're giving free Ts at #SXSW</td>\n",
       "      <td>Positive emotion</td>\n",
       "    </tr>\n",
       "    <tr>\n",
       "      <th>2</th>\n",
       "      <td>@swonderlin Can not wait for #iPad 2 also. They should sale them down at #SXSW.</td>\n",
       "      <td>Positive emotion</td>\n",
       "    </tr>\n",
       "    <tr>\n",
       "      <th>3</th>\n",
       "      <td>@sxsw I hope this year's festival isn't as crashy as this year's iPhone app. #sxsw</td>\n",
       "      <td>Negative emotion</td>\n",
       "    </tr>\n",
       "    <tr>\n",
       "      <th>4</th>\n",
       "      <td>@sxtxstate great stuff on Fri #SXSW: Marissa Mayer (Google), Tim O'Reilly (tech books/conferences) &amp;amp; Matt Mullenweg (Wordpress)</td>\n",
       "      <td>Positive emotion</td>\n",
       "    </tr>\n",
       "  </tbody>\n",
       "</table>\n",
       "</div>"
      ],
      "text/plain": [
       "                                                                                                                                         tweet  \\\n",
       "0              .@wesley83 I have a 3G iPhone. After 3 hrs tweeting at #RISE_Austin, it was dead!  I need to upgrade. Plugin stations at #SXSW.   \n",
       "1  @jessedee Know about @fludapp ? Awesome iPad/iPhone app that you'll likely appreciate for its design. Also, they're giving free Ts at #SXSW   \n",
       "2                                                              @swonderlin Can not wait for #iPad 2 also. They should sale them down at #SXSW.   \n",
       "3                                                           @sxsw I hope this year's festival isn't as crashy as this year's iPhone app. #sxsw   \n",
       "4          @sxtxstate great stuff on Fri #SXSW: Marissa Mayer (Google), Tim O'Reilly (tech books/conferences) &amp; Matt Mullenweg (Wordpress)   \n",
       "\n",
       "            emotion  \n",
       "0  Negative emotion  \n",
       "1  Positive emotion  \n",
       "2  Positive emotion  \n",
       "3  Negative emotion  \n",
       "4  Positive emotion  "
      ]
     },
     "execution_count": 12,
     "metadata": {},
     "output_type": "execute_result"
    }
   ],
   "source": [
    "#lets rename the columns to more convienient nmames\n",
    "raw_df = raw_df.rename(columns={'tweet_text': 'tweet', \n",
    "                                'is_there_an_emotion_directed_at_a_brand_or_product': 'emotion'})\n",
    "raw_df.head()"
   ]
  },
  {
   "cell_type": "code",
   "execution_count": 13,
   "id": "6e75047e-ef47-4c4b-9525-f468ac2b9e5b",
   "metadata": {},
   "outputs": [
    {
     "data": {
      "text/plain": [
       "emotion\n",
       "No emotion toward brand or product    5375\n",
       "Positive emotion                      2970\n",
       "Negative emotion                       569\n",
       "I can't tell                           156\n",
       "Name: count, dtype: int64"
      ]
     },
     "execution_count": 13,
     "metadata": {},
     "output_type": "execute_result"
    }
   ],
   "source": [
    "#lets check out the sentiment distribution to see if it is relatively ever or skewed\n",
    "raw_df['emotion'].value_counts()"
   ]
  },
  {
   "cell_type": "code",
   "execution_count": 14,
   "id": "2342127c-f5b0-4c9f-9e33-0f934f35e4d4",
   "metadata": {},
   "outputs": [
    {
     "data": {
      "text/plain": [
       "emotion\n",
       "No emotion toward brand or product    0.592613\n",
       "Positive emotion                      0.327453\n",
       "Negative emotion                      0.062734\n",
       "I can't tell                          0.017200\n",
       "Name: proportion, dtype: float64"
      ]
     },
     "execution_count": 14,
     "metadata": {},
     "output_type": "execute_result"
    }
   ],
   "source": [
    "raw_df['emotion'].value_counts(normalize= True)"
   ]
  },
  {
   "cell_type": "code",
   "execution_count": 15,
   "id": "fa60c797-9b1a-424a-88c3-8e2afb1fc5a4",
   "metadata": {},
   "outputs": [
    {
     "data": {
      "text/plain": [
       "emotion\n",
       "No emotion toward brand or product    5375\n",
       "Positive emotion                      2970\n",
       "Negative emotion                       569\n",
       "Name: count, dtype: int64"
      ]
     },
     "execution_count": 15,
     "metadata": {},
     "output_type": "execute_result"
    }
   ],
   "source": [
    "#get rid of all instances of 'couldn't tell'\n",
    "rel_raw_df = raw_df[raw_df['emotion'] != \"I can't tell\"]\n",
    "rel_raw_df['emotion'].value_counts()"
   ]
  },
  {
   "cell_type": "code",
   "execution_count": 16,
   "id": "7041af8a-7fa9-4eb2-9718-c3e447957414",
   "metadata": {},
   "outputs": [
    {
     "data": {
      "text/plain": [
       "emotion\n",
       "No emotion toward brand or product    0.602984\n",
       "Positive emotion                      0.333184\n",
       "Negative emotion                      0.063832\n",
       "Name: proportion, dtype: float64"
      ]
     },
     "execution_count": 16,
     "metadata": {},
     "output_type": "execute_result"
    }
   ],
   "source": [
    "rel_raw_df['emotion'].value_counts(normalize= True)"
   ]
  },
  {
   "cell_type": "code",
   "execution_count": 17,
   "id": "bcc1384a-09bb-4531-92e1-0294da659ca4",
   "metadata": {},
   "outputs": [
    {
     "data": {
      "text/html": [
       "<div>\n",
       "<style scoped>\n",
       "    .dataframe tbody tr th:only-of-type {\n",
       "        vertical-align: middle;\n",
       "    }\n",
       "\n",
       "    .dataframe tbody tr th {\n",
       "        vertical-align: top;\n",
       "    }\n",
       "\n",
       "    .dataframe thead th {\n",
       "        text-align: right;\n",
       "    }\n",
       "</style>\n",
       "<table border=\"1\" class=\"dataframe\">\n",
       "  <thead>\n",
       "    <tr style=\"text-align: right;\">\n",
       "      <th></th>\n",
       "      <th>tweet</th>\n",
       "      <th>emotion</th>\n",
       "    </tr>\n",
       "  </thead>\n",
       "  <tbody>\n",
       "    <tr>\n",
       "      <th>0</th>\n",
       "      <td>.@wesley83 i have a 3g iphone. after 3 hrs tweeting at #rise_austin, it was dead!  i need to upgrade. plugin stations at #sxsw.</td>\n",
       "      <td>Negative emotion</td>\n",
       "    </tr>\n",
       "    <tr>\n",
       "      <th>1</th>\n",
       "      <td>@jessedee know about @fludapp ? awesome ipad/iphone app that you'll likely appreciate for its design. also, they're giving free ts at #sxsw</td>\n",
       "      <td>Positive emotion</td>\n",
       "    </tr>\n",
       "    <tr>\n",
       "      <th>2</th>\n",
       "      <td>@swonderlin can not wait for #ipad 2 also. they should sale them down at #sxsw.</td>\n",
       "      <td>Positive emotion</td>\n",
       "    </tr>\n",
       "    <tr>\n",
       "      <th>3</th>\n",
       "      <td>@sxsw i hope this year's festival isn't as crashy as this year's iphone app. #sxsw</td>\n",
       "      <td>Negative emotion</td>\n",
       "    </tr>\n",
       "    <tr>\n",
       "      <th>4</th>\n",
       "      <td>@sxtxstate great stuff on fri #sxsw: marissa mayer (google), tim o'reilly (tech books/conferences) &amp;amp; matt mullenweg (wordpress)</td>\n",
       "      <td>Positive emotion</td>\n",
       "    </tr>\n",
       "    <tr>\n",
       "      <th>5</th>\n",
       "      <td>@teachntech00 new ipad apps for #speechtherapy and communication are showcased at the #sxsw conference http://ht.ly/49n4m #iear #edchat #asd</td>\n",
       "      <td>No emotion toward brand or product</td>\n",
       "    </tr>\n",
       "    <tr>\n",
       "      <th>7</th>\n",
       "      <td>#sxsw is just starting, #ctia is around the corner and #googleio is only a hop skip and a jump from there, good time to be an #android fan</td>\n",
       "      <td>Positive emotion</td>\n",
       "    </tr>\n",
       "    <tr>\n",
       "      <th>8</th>\n",
       "      <td>beautifully smart and simple idea rt @madebymany @thenextweb wrote about our #hollergram ipad app for #sxsw! http://bit.ly/ieavob</td>\n",
       "      <td>Positive emotion</td>\n",
       "    </tr>\n",
       "    <tr>\n",
       "      <th>9</th>\n",
       "      <td>counting down the days to #sxsw plus strong canadian dollar means stock up on apple gear</td>\n",
       "      <td>Positive emotion</td>\n",
       "    </tr>\n",
       "    <tr>\n",
       "      <th>10</th>\n",
       "      <td>excited to meet the @samsungmobileus at #sxsw so i can show them my sprint galaxy s still running android 2.1.   #fail</td>\n",
       "      <td>Positive emotion</td>\n",
       "    </tr>\n",
       "  </tbody>\n",
       "</table>\n",
       "</div>"
      ],
      "text/plain": [
       "                                                                                                                                           tweet  \\\n",
       "0                .@wesley83 i have a 3g iphone. after 3 hrs tweeting at #rise_austin, it was dead!  i need to upgrade. plugin stations at #sxsw.   \n",
       "1    @jessedee know about @fludapp ? awesome ipad/iphone app that you'll likely appreciate for its design. also, they're giving free ts at #sxsw   \n",
       "2                                                                @swonderlin can not wait for #ipad 2 also. they should sale them down at #sxsw.   \n",
       "3                                                             @sxsw i hope this year's festival isn't as crashy as this year's iphone app. #sxsw   \n",
       "4            @sxtxstate great stuff on fri #sxsw: marissa mayer (google), tim o'reilly (tech books/conferences) &amp; matt mullenweg (wordpress)   \n",
       "5   @teachntech00 new ipad apps for #speechtherapy and communication are showcased at the #sxsw conference http://ht.ly/49n4m #iear #edchat #asd   \n",
       "7     #sxsw is just starting, #ctia is around the corner and #googleio is only a hop skip and a jump from there, good time to be an #android fan   \n",
       "8              beautifully smart and simple idea rt @madebymany @thenextweb wrote about our #hollergram ipad app for #sxsw! http://bit.ly/ieavob   \n",
       "9                                                       counting down the days to #sxsw plus strong canadian dollar means stock up on apple gear   \n",
       "10                        excited to meet the @samsungmobileus at #sxsw so i can show them my sprint galaxy s still running android 2.1.   #fail   \n",
       "\n",
       "                               emotion  \n",
       "0                     Negative emotion  \n",
       "1                     Positive emotion  \n",
       "2                     Positive emotion  \n",
       "3                     Negative emotion  \n",
       "4                     Positive emotion  \n",
       "5   No emotion toward brand or product  \n",
       "7                     Positive emotion  \n",
       "8                     Positive emotion  \n",
       "9                     Positive emotion  \n",
       "10                    Positive emotion  "
      ]
     },
     "execution_count": 17,
     "metadata": {},
     "output_type": "execute_result"
    }
   ],
   "source": [
    "#lower all the text strings\n",
    "rel_raw_df[\"tweet\"] = rel_raw_df[\"tweet\"].str.lower()\n",
    "rel_raw_df[:10]"
   ]
  },
  {
   "cell_type": "code",
   "execution_count": 18,
   "id": "a38edcff-00c2-4301-b020-0ef45fd83dba",
   "metadata": {},
   "outputs": [
    {
     "data": {
      "text/html": [
       "<div>\n",
       "<style scoped>\n",
       "    .dataframe tbody tr th:only-of-type {\n",
       "        vertical-align: middle;\n",
       "    }\n",
       "\n",
       "    .dataframe tbody tr th {\n",
       "        vertical-align: top;\n",
       "    }\n",
       "\n",
       "    .dataframe thead th {\n",
       "        text-align: right;\n",
       "    }\n",
       "</style>\n",
       "<table border=\"1\" class=\"dataframe\">\n",
       "  <thead>\n",
       "    <tr style=\"text-align: right;\">\n",
       "      <th></th>\n",
       "      <th>tweet</th>\n",
       "      <th>emotion</th>\n",
       "      <th>sentiment</th>\n",
       "    </tr>\n",
       "  </thead>\n",
       "  <tbody>\n",
       "    <tr>\n",
       "      <th>0</th>\n",
       "      <td>.@wesley83 i have a 3g iphone. after 3 hrs tweeting at #rise_austin, it was dead!  i need to upgrade. plugin stations at #sxsw.</td>\n",
       "      <td>Negative emotion</td>\n",
       "      <td>0</td>\n",
       "    </tr>\n",
       "    <tr>\n",
       "      <th>1</th>\n",
       "      <td>@jessedee know about @fludapp ? awesome ipad/iphone app that you'll likely appreciate for its design. also, they're giving free ts at #sxsw</td>\n",
       "      <td>Positive emotion</td>\n",
       "      <td>1</td>\n",
       "    </tr>\n",
       "    <tr>\n",
       "      <th>2</th>\n",
       "      <td>@swonderlin can not wait for #ipad 2 also. they should sale them down at #sxsw.</td>\n",
       "      <td>Positive emotion</td>\n",
       "      <td>1</td>\n",
       "    </tr>\n",
       "    <tr>\n",
       "      <th>3</th>\n",
       "      <td>@sxsw i hope this year's festival isn't as crashy as this year's iphone app. #sxsw</td>\n",
       "      <td>Negative emotion</td>\n",
       "      <td>0</td>\n",
       "    </tr>\n",
       "    <tr>\n",
       "      <th>4</th>\n",
       "      <td>@sxtxstate great stuff on fri #sxsw: marissa mayer (google), tim o'reilly (tech books/conferences) &amp;amp; matt mullenweg (wordpress)</td>\n",
       "      <td>Positive emotion</td>\n",
       "      <td>1</td>\n",
       "    </tr>\n",
       "  </tbody>\n",
       "</table>\n",
       "</div>"
      ],
      "text/plain": [
       "                                                                                                                                         tweet  \\\n",
       "0              .@wesley83 i have a 3g iphone. after 3 hrs tweeting at #rise_austin, it was dead!  i need to upgrade. plugin stations at #sxsw.   \n",
       "1  @jessedee know about @fludapp ? awesome ipad/iphone app that you'll likely appreciate for its design. also, they're giving free ts at #sxsw   \n",
       "2                                                              @swonderlin can not wait for #ipad 2 also. they should sale them down at #sxsw.   \n",
       "3                                                           @sxsw i hope this year's festival isn't as crashy as this year's iphone app. #sxsw   \n",
       "4          @sxtxstate great stuff on fri #sxsw: marissa mayer (google), tim o'reilly (tech books/conferences) &amp; matt mullenweg (wordpress)   \n",
       "\n",
       "            emotion  sentiment  \n",
       "0  Negative emotion          0  \n",
       "1  Positive emotion          1  \n",
       "2  Positive emotion          1  \n",
       "3  Negative emotion          0  \n",
       "4  Positive emotion          1  "
      ]
     },
     "execution_count": 18,
     "metadata": {},
     "output_type": "execute_result"
    }
   ],
   "source": [
    "#make a new df column that associates sentiment with a number\n",
    "sentiment_map = {'No emotion toward brand or product': 0,\n",
    "    'Positive emotion': 1,\n",
    "    'Negative emotion': 0}\n",
    "\n",
    "rel_raw_df['sentiment'] = rel_raw_df['emotion'].map(sentiment_map)\n",
    "\n",
    "rel_raw_df.head()"
   ]
  },
  {
   "cell_type": "code",
   "execution_count": 19,
   "id": "bd1f0435-cacc-425c-b35a-a497e74fca5b",
   "metadata": {},
   "outputs": [],
   "source": [
    "#v1\n",
    "def strip_token(text):\n",
    "    tweet = re.sub(r'http[s]?://\\S+|www\\.\\S+', '', text)\n",
    "    tweet = re.sub(r'@[\\w]+', '', text)\n",
    "    tweet = re.sub(r'#[\\w]+', lambda x: x.group()[1:], text)\n",
    "    tweet = re.sub(r'\\d+', '', text)\n",
    "    tweet = re.sub(r'[^a-zA-Z\\s]', '', text)\n",
    "    return text"
   ]
  },
  {
   "cell_type": "code",
   "execution_count": 20,
   "id": "5ab26879-88bb-4319-81a5-e42099f71ee8",
   "metadata": {},
   "outputs": [],
   "source": [
    "#v4\n",
    "def strip_token(tweet):\n",
    "    tweet = re.sub(r'http[s]?://\\S+|www\\.\\S+', '', tweet)\n",
    "    tweet = re.sub(r'[@#]\\w+', lambda match: match.group(0)[1:], tweet)\n",
    "    tweet = re.sub(r'&amp;', 'and', tweet)\n",
    "    tweet = re.sub(r'/', ' ', tweet)\n",
    "    tweet = re.sub(r'_', ' ', tweet)\n",
    "    tweet = re.sub(r'\\d+', '', tweet)\n",
    "    tweet = re.sub(r'[^\\w\\s]', '', tweet)\n",
    "    tokens = word_tokenize(tweet)\n",
    "    return tokens"
   ]
  },
  {
   "cell_type": "code",
   "execution_count": 21,
   "id": "47fc5816-62f0-49c0-9c5d-2a6f7841960b",
   "metadata": {},
   "outputs": [
    {
     "data": {
      "text/plain": [
       "['@teachntech00',\n",
       " 'new',\n",
       " 'ipad',\n",
       " 'apps',\n",
       " 'for',\n",
       " '#speechtherapy',\n",
       " 'and',\n",
       " 'communication',\n",
       " 'are',\n",
       " 'showcased',\n",
       " 'at',\n",
       " 'the',\n",
       " '#sxsw',\n",
       " 'conference',\n",
       " 'http://ht.ly/49n4m',\n",
       " '#iear',\n",
       " '#edchat',\n",
       " '#asd']"
      ]
     },
     "execution_count": 21,
     "metadata": {},
     "output_type": "execute_result"
    }
   ],
   "source": [
    "#grab a sample\n",
    "samp1= rel_raw_df['tweet'][5]\n",
    "samp1.split()"
   ]
  },
  {
   "cell_type": "code",
   "execution_count": 22,
   "id": "fdd0e6e6-b76f-4cd1-98a1-6206fbb280e2",
   "metadata": {},
   "outputs": [
    {
     "data": {
      "text/plain": [
       "['teachntech',\n",
       " 'new',\n",
       " 'ipad',\n",
       " 'apps',\n",
       " 'for',\n",
       " 'speechtherapy',\n",
       " 'and',\n",
       " 'communication',\n",
       " 'are',\n",
       " 'showcased',\n",
       " 'at',\n",
       " 'the',\n",
       " 'sxsw',\n",
       " 'conference',\n",
       " 'iear',\n",
       " 'edchat',\n",
       " 'asd']"
      ]
     },
     "execution_count": 22,
     "metadata": {},
     "output_type": "execute_result"
    }
   ],
   "source": [
    "strip_token(samp1)"
   ]
  },
  {
   "cell_type": "code",
   "execution_count": 23,
   "id": "7e7bba82-9cf0-4020-88b2-6ac0c0dc6937",
   "metadata": {},
   "outputs": [
    {
     "data": {
      "text/plain": [
       "['excited',\n",
       " 'to',\n",
       " 'meet',\n",
       " 'the',\n",
       " '@samsungmobileus',\n",
       " 'at',\n",
       " '#sxsw',\n",
       " 'so',\n",
       " 'i',\n",
       " 'can',\n",
       " 'show',\n",
       " 'them',\n",
       " 'my',\n",
       " 'sprint',\n",
       " 'galaxy',\n",
       " 's',\n",
       " 'still',\n",
       " 'running',\n",
       " 'android',\n",
       " '2.1.',\n",
       " '#fail']"
      ]
     },
     "execution_count": 23,
     "metadata": {},
     "output_type": "execute_result"
    }
   ],
   "source": [
    "samp2= rel_raw_df['tweet'][10]\n",
    "samp2.split()"
   ]
  },
  {
   "cell_type": "code",
   "execution_count": 24,
   "id": "cc13b201-65c3-4fef-a87e-6b4c793df8e3",
   "metadata": {},
   "outputs": [
    {
     "data": {
      "text/plain": [
       "['excited',\n",
       " 'to',\n",
       " 'meet',\n",
       " 'the',\n",
       " 'samsungmobileus',\n",
       " 'at',\n",
       " 'sxsw',\n",
       " 'so',\n",
       " 'i',\n",
       " 'can',\n",
       " 'show',\n",
       " 'them',\n",
       " 'my',\n",
       " 'sprint',\n",
       " 'galaxy',\n",
       " 's',\n",
       " 'still',\n",
       " 'running',\n",
       " 'android',\n",
       " 'fail']"
      ]
     },
     "execution_count": 24,
     "metadata": {},
     "output_type": "execute_result"
    }
   ],
   "source": [
    "strip_token(samp2)"
   ]
  },
  {
   "cell_type": "code",
   "execution_count": 25,
   "id": "f65bb34c-035b-44cc-834b-9cbb1231bdcd",
   "metadata": {},
   "outputs": [
    {
     "data": {
      "text/plain": [
       "['.@wesley83',\n",
       " 'i',\n",
       " 'have',\n",
       " 'a',\n",
       " '3g',\n",
       " 'iphone.',\n",
       " 'after',\n",
       " '3',\n",
       " 'hrs',\n",
       " 'tweeting',\n",
       " 'at',\n",
       " '#rise_austin,',\n",
       " 'it',\n",
       " 'was',\n",
       " 'dead!',\n",
       " 'i',\n",
       " 'need',\n",
       " 'to',\n",
       " 'upgrade.',\n",
       " 'plugin',\n",
       " 'stations',\n",
       " 'at',\n",
       " '#sxsw.']"
      ]
     },
     "execution_count": 25,
     "metadata": {},
     "output_type": "execute_result"
    }
   ],
   "source": [
    "samp3= rel_raw_df['tweet'][0]\n",
    "samp3.split()"
   ]
  },
  {
   "cell_type": "code",
   "execution_count": 26,
   "id": "cf16b09c-8c9a-4b04-af11-a35115407399",
   "metadata": {},
   "outputs": [
    {
     "data": {
      "text/plain": [
       "['wesley',\n",
       " 'i',\n",
       " 'have',\n",
       " 'a',\n",
       " 'g',\n",
       " 'iphone',\n",
       " 'after',\n",
       " 'hrs',\n",
       " 'tweeting',\n",
       " 'at',\n",
       " 'rise',\n",
       " 'austin',\n",
       " 'it',\n",
       " 'was',\n",
       " 'dead',\n",
       " 'i',\n",
       " 'need',\n",
       " 'to',\n",
       " 'upgrade',\n",
       " 'plugin',\n",
       " 'stations',\n",
       " 'at',\n",
       " 'sxsw']"
      ]
     },
     "execution_count": 26,
     "metadata": {},
     "output_type": "execute_result"
    }
   ],
   "source": [
    "strip_token(samp3)"
   ]
  },
  {
   "cell_type": "code",
   "execution_count": 27,
   "id": "270b416a-8273-4206-affc-09abd7842031",
   "metadata": {},
   "outputs": [
    {
     "data": {
      "text/plain": [
       "['@sxtxstate',\n",
       " 'great',\n",
       " 'stuff',\n",
       " 'on',\n",
       " 'fri',\n",
       " '#sxsw:',\n",
       " 'marissa',\n",
       " 'mayer',\n",
       " '(google),',\n",
       " 'tim',\n",
       " \"o'reilly\",\n",
       " '(tech',\n",
       " 'books/conferences)',\n",
       " '&amp;',\n",
       " 'matt',\n",
       " 'mullenweg',\n",
       " '(wordpress)']"
      ]
     },
     "execution_count": 27,
     "metadata": {},
     "output_type": "execute_result"
    }
   ],
   "source": [
    "samp4= rel_raw_df['tweet'][4]\n",
    "samp4.split()"
   ]
  },
  {
   "cell_type": "code",
   "execution_count": 28,
   "id": "86544d67-08fa-4ad8-b242-0c83041a96e4",
   "metadata": {},
   "outputs": [
    {
     "data": {
      "text/plain": [
       "\"@sxtxstate great stuff on fri #sxsw: marissa mayer (google), tim o'reilly (tech books/conferences) &amp; matt mullenweg (wordpress)\""
      ]
     },
     "execution_count": 28,
     "metadata": {},
     "output_type": "execute_result"
    }
   ],
   "source": [
    "samp4"
   ]
  },
  {
   "cell_type": "code",
   "execution_count": 29,
   "id": "8d9387ea-20bd-400d-8a2c-0c9ec1221bae",
   "metadata": {},
   "outputs": [
    {
     "data": {
      "text/plain": [
       "['sxtxstate',\n",
       " 'great',\n",
       " 'stuff',\n",
       " 'on',\n",
       " 'fri',\n",
       " 'sxsw',\n",
       " 'marissa',\n",
       " 'mayer',\n",
       " 'google',\n",
       " 'tim',\n",
       " 'oreilly',\n",
       " 'tech',\n",
       " 'books',\n",
       " 'conferences',\n",
       " 'and',\n",
       " 'matt',\n",
       " 'mullenweg',\n",
       " 'wordpress']"
      ]
     },
     "execution_count": 29,
     "metadata": {},
     "output_type": "execute_result"
    }
   ],
   "source": [
    "strip_token(samp4)"
   ]
  },
  {
   "cell_type": "code",
   "execution_count": 30,
   "id": "eb6a53e9-e23f-4a1e-8161-0786e052bedc",
   "metadata": {},
   "outputs": [
    {
     "data": {
      "text/plain": [
       "['okay,',\n",
       " 'this',\n",
       " 'is',\n",
       " 'really',\n",
       " 'it:',\n",
       " 'yay',\n",
       " 'new',\n",
       " '@foursquare',\n",
       " 'for',\n",
       " '#android',\n",
       " 'app!!!!11',\n",
       " 'kthxbai.',\n",
       " '#sxsw']"
      ]
     },
     "execution_count": 30,
     "metadata": {},
     "output_type": "execute_result"
    }
   ],
   "source": [
    "samp5= rel_raw_df['tweet'][22]\n",
    "samp5.split()"
   ]
  },
  {
   "cell_type": "code",
   "execution_count": 31,
   "id": "61d15bfc-9594-434e-85a6-412f6dac6c20",
   "metadata": {},
   "outputs": [
    {
     "data": {
      "text/plain": [
       "['okay',\n",
       " 'this',\n",
       " 'is',\n",
       " 'really',\n",
       " 'it',\n",
       " 'yay',\n",
       " 'new',\n",
       " 'foursquare',\n",
       " 'for',\n",
       " 'android',\n",
       " 'app',\n",
       " 'kthxbai',\n",
       " 'sxsw']"
      ]
     },
     "execution_count": 31,
     "metadata": {},
     "output_type": "execute_result"
    }
   ],
   "source": [
    "strip_token(samp5)"
   ]
  },
  {
   "cell_type": "code",
   "execution_count": 32,
   "id": "2450baa0-a5c8-4e2b-84da-3ddd8f2807c1",
   "metadata": {},
   "outputs": [
    {
     "data": {
      "text/html": [
       "<div>\n",
       "<style scoped>\n",
       "    .dataframe tbody tr th:only-of-type {\n",
       "        vertical-align: middle;\n",
       "    }\n",
       "\n",
       "    .dataframe tbody tr th {\n",
       "        vertical-align: top;\n",
       "    }\n",
       "\n",
       "    .dataframe thead th {\n",
       "        text-align: right;\n",
       "    }\n",
       "</style>\n",
       "<table border=\"1\" class=\"dataframe\">\n",
       "  <thead>\n",
       "    <tr style=\"text-align: right;\">\n",
       "      <th></th>\n",
       "      <th>tweet</th>\n",
       "      <th>emotion</th>\n",
       "      <th>sentiment</th>\n",
       "      <th>tweet_tokenized</th>\n",
       "    </tr>\n",
       "  </thead>\n",
       "  <tbody>\n",
       "    <tr>\n",
       "      <th>0</th>\n",
       "      <td>.@wesley83 i have a 3g iphone. after 3 hrs tweeting at #rise_austin, it was dead!  i need to upgrade. plugin stations at #sxsw.</td>\n",
       "      <td>Negative emotion</td>\n",
       "      <td>0</td>\n",
       "      <td>[wesley, i, have, a, g, iphone, after, hrs, tweeting, at, rise, austin, it, was, dead, i, need, to, upgrade, plugin, stations, at, sxsw]</td>\n",
       "    </tr>\n",
       "    <tr>\n",
       "      <th>1</th>\n",
       "      <td>@jessedee know about @fludapp ? awesome ipad/iphone app that you'll likely appreciate for its design. also, they're giving free ts at #sxsw</td>\n",
       "      <td>Positive emotion</td>\n",
       "      <td>1</td>\n",
       "      <td>[jessedee, know, about, fludapp, awesome, ipad, iphone, app, that, youll, likely, appreciate, for, its, design, also, theyre, giving, free, ts, at, sxsw]</td>\n",
       "    </tr>\n",
       "    <tr>\n",
       "      <th>2</th>\n",
       "      <td>@swonderlin can not wait for #ipad 2 also. they should sale them down at #sxsw.</td>\n",
       "      <td>Positive emotion</td>\n",
       "      <td>1</td>\n",
       "      <td>[swonderlin, can, not, wait, for, ipad, also, they, should, sale, them, down, at, sxsw]</td>\n",
       "    </tr>\n",
       "    <tr>\n",
       "      <th>3</th>\n",
       "      <td>@sxsw i hope this year's festival isn't as crashy as this year's iphone app. #sxsw</td>\n",
       "      <td>Negative emotion</td>\n",
       "      <td>0</td>\n",
       "      <td>[sxsw, i, hope, this, years, festival, isnt, as, crashy, as, this, years, iphone, app, sxsw]</td>\n",
       "    </tr>\n",
       "    <tr>\n",
       "      <th>4</th>\n",
       "      <td>@sxtxstate great stuff on fri #sxsw: marissa mayer (google), tim o'reilly (tech books/conferences) &amp;amp; matt mullenweg (wordpress)</td>\n",
       "      <td>Positive emotion</td>\n",
       "      <td>1</td>\n",
       "      <td>[sxtxstate, great, stuff, on, fri, sxsw, marissa, mayer, google, tim, oreilly, tech, books, conferences, and, matt, mullenweg, wordpress]</td>\n",
       "    </tr>\n",
       "  </tbody>\n",
       "</table>\n",
       "</div>"
      ],
      "text/plain": [
       "                                                                                                                                         tweet  \\\n",
       "0              .@wesley83 i have a 3g iphone. after 3 hrs tweeting at #rise_austin, it was dead!  i need to upgrade. plugin stations at #sxsw.   \n",
       "1  @jessedee know about @fludapp ? awesome ipad/iphone app that you'll likely appreciate for its design. also, they're giving free ts at #sxsw   \n",
       "2                                                              @swonderlin can not wait for #ipad 2 also. they should sale them down at #sxsw.   \n",
       "3                                                           @sxsw i hope this year's festival isn't as crashy as this year's iphone app. #sxsw   \n",
       "4          @sxtxstate great stuff on fri #sxsw: marissa mayer (google), tim o'reilly (tech books/conferences) &amp; matt mullenweg (wordpress)   \n",
       "\n",
       "            emotion  sentiment  \\\n",
       "0  Negative emotion          0   \n",
       "1  Positive emotion          1   \n",
       "2  Positive emotion          1   \n",
       "3  Negative emotion          0   \n",
       "4  Positive emotion          1   \n",
       "\n",
       "                                                                                                                                             tweet_tokenized  \n",
       "0                   [wesley, i, have, a, g, iphone, after, hrs, tweeting, at, rise, austin, it, was, dead, i, need, to, upgrade, plugin, stations, at, sxsw]  \n",
       "1  [jessedee, know, about, fludapp, awesome, ipad, iphone, app, that, youll, likely, appreciate, for, its, design, also, theyre, giving, free, ts, at, sxsw]  \n",
       "2                                                                    [swonderlin, can, not, wait, for, ipad, also, they, should, sale, them, down, at, sxsw]  \n",
       "3                                                               [sxsw, i, hope, this, years, festival, isnt, as, crashy, as, this, years, iphone, app, sxsw]  \n",
       "4                  [sxtxstate, great, stuff, on, fri, sxsw, marissa, mayer, google, tim, oreilly, tech, books, conferences, and, matt, mullenweg, wordpress]  "
      ]
     },
     "execution_count": 32,
     "metadata": {},
     "output_type": "execute_result"
    }
   ],
   "source": [
    "#apply it to the whole df\n",
    "rel_raw_df['tweet_tokenized'] = rel_raw_df['tweet'].apply(strip_token)\n",
    "rel_raw_df.head()"
   ]
  },
  {
   "cell_type": "code",
   "execution_count": 33,
   "id": "124d2307-6f09-490c-b529-c87c1bba2f92",
   "metadata": {},
   "outputs": [
    {
     "name": "stdout",
     "output_type": "stream",
     "text": [
      "previous tokens\n",
      "0                     [wesley, i, have, a, g, iphone, after, hrs, tweeting, at, rise, austin, it, was, dead, i, need, to, upgrade, plugin, stations, at, sxsw]\n",
      "1    [jessedee, know, about, fludapp, awesome, ipad, iphone, app, that, youll, likely, appreciate, for, its, design, also, theyre, giving, free, ts, at, sxsw]\n",
      "2                                                                      [swonderlin, can, not, wait, for, ipad, also, they, should, sale, them, down, at, sxsw]\n",
      "3                                                                 [sxsw, i, hope, this, years, festival, isnt, as, crashy, as, this, years, iphone, app, sxsw]\n",
      "4                    [sxtxstate, great, stuff, on, fri, sxsw, marissa, mayer, google, tim, oreilly, tech, books, conferences, and, matt, mullenweg, wordpress]\n",
      "Name: tweet_tokenized, dtype: object\n",
      "\n",
      "ns tokens\n",
      "0                                       [wesley, g, iphone, hrs, tweeting, rise, austin, dead, need, upgrade, plugin, stations, sxsw]\n",
      "1      [jessedee, know, fludapp, awesome, ipad, iphone, app, youll, likely, appreciate, design, also, theyre, giving, free, ts, sxsw]\n",
      "2                                                                                     [swonderlin, not, wait, ipad, also, sale, sxsw]\n",
      "3                                                               [sxsw, hope, years, festival, isnt, crashy, years, iphone, app, sxsw]\n",
      "4    [sxtxstate, great, stuff, fri, sxsw, marissa, mayer, google, tim, oreilly, tech, books, conferences, matt, mullenweg, wordpress]\n",
      "Name: tweet_tokenized_ns, dtype: object\n"
     ]
    }
   ],
   "source": [
    "#remove the stop words\n",
    "stopwords_list= stopwords.words('english')\n",
    "stopwords_list = [word for word in stopwords_list if word != 'not']\n",
    "\n",
    "def remove_stopwords(token_list):\n",
    "    list_stripped= [x for x in token_list if x not in stopwords_list]\n",
    "    return list_stripped\n",
    "\n",
    "rel_raw_df[\"tweet_tokenized_ns\"] = rel_raw_df[\"tweet_tokenized\"].apply(remove_stopwords)\n",
    "\n",
    "print('previous tokens')\n",
    "print(rel_raw_df[\"tweet_tokenized\"].head())\n",
    "print()\n",
    "print('ns tokens')\n",
    "print(rel_raw_df[\"tweet_tokenized_ns\"].head())"
   ]
  },
  {
   "cell_type": "code",
   "execution_count": 34,
   "id": "5c8151e3-a317-4325-a330-83c35ad08f33",
   "metadata": {},
   "outputs": [
    {
     "name": "stdout",
     "output_type": "stream",
     "text": [
      "ns tokens\n",
      "0                                       [wesley, g, iphone, hrs, tweeting, rise, austin, dead, need, upgrade, plugin, stations, sxsw]\n",
      "1      [jessedee, know, fludapp, awesome, ipad, iphone, app, youll, likely, appreciate, design, also, theyre, giving, free, ts, sxsw]\n",
      "2                                                                                     [swonderlin, not, wait, ipad, also, sale, sxsw]\n",
      "3                                                               [sxsw, hope, years, festival, isnt, crashy, years, iphone, app, sxsw]\n",
      "4    [sxtxstate, great, stuff, fri, sxsw, marissa, mayer, google, tim, oreilly, tech, books, conferences, matt, mullenweg, wordpress]\n",
      "Name: tweet_tokenized_ns, dtype: object\n",
      "\n",
      "lem tokens\n",
      "0                                       [wesley, g, iphone, hr, tweeting, rise, austin, dead, need, upgrade, plugin, station, sxsw]\n",
      "1     [jessedee, know, fludapp, awesome, ipad, iphone, app, youll, likely, appreciate, design, also, theyre, giving, free, t, sxsw]\n",
      "2                                                                                   [swonderlin, not, wait, ipad, also, sale, sxsw]\n",
      "3                                                               [sxsw, hope, year, festival, isnt, crashy, year, iphone, app, sxsw]\n",
      "4    [sxtxstate, great, stuff, fri, sxsw, marissa, mayer, google, tim, oreilly, tech, book, conference, matt, mullenweg, wordpress]\n",
      "Name: tweet_lem, dtype: object\n"
     ]
    }
   ],
   "source": [
    "#lemmetize the tokens\n",
    "lemmatizer = WordNetLemmatizer()\n",
    "\n",
    "def lem_tokens(tokens):\n",
    "    return [lemmatizer.lemmatize(token) for token in tokens]\n",
    "\n",
    "rel_raw_df[\"tweet_lem\"] = rel_raw_df[\"tweet_tokenized_ns\"].apply(lem_tokens)\n",
    "\n",
    "print('ns tokens')\n",
    "print(rel_raw_df[\"tweet_tokenized_ns\"].head())\n",
    "print()\n",
    "print('lem tokens')\n",
    "print(rel_raw_df[\"tweet_lem\"].head())"
   ]
  },
  {
   "cell_type": "code",
   "execution_count": 35,
   "id": "4ee644e2-ae7a-4064-960a-2cf3a4c9b35a",
   "metadata": {},
   "outputs": [
    {
     "data": {
      "text/plain": [
       "0       False\n",
       "1       False\n",
       "2        True\n",
       "3       False\n",
       "4       False\n",
       "        ...  \n",
       "9088     True\n",
       "9089    False\n",
       "9090    False\n",
       "9091    False\n",
       "9092    False\n",
       "Length: 8914, dtype: bool"
      ]
     },
     "execution_count": 35,
     "metadata": {},
     "output_type": "execute_result"
    }
   ],
   "source": [
    "#check to see if anthing was changed, it was \n",
    "rel_raw_df[\"tweet_lem\"]==rel_raw_df[\"tweet_tokenized_ns\"]"
   ]
  },
  {
   "cell_type": "code",
   "execution_count": 36,
   "id": "d692c2d5-fc5e-417e-8eaa-0792f53d0b5f",
   "metadata": {},
   "outputs": [],
   "source": [
    "#train val test split"
   ]
  },
  {
   "cell_type": "code",
   "execution_count": 37,
   "id": "5690d889-7c98-4794-8466-ce71c479b350",
   "metadata": {},
   "outputs": [
    {
     "data": {
      "text/plain": [
       "sentiment\n",
       "0    0.666816\n",
       "1    0.333184\n",
       "Name: proportion, dtype: float64"
      ]
     },
     "execution_count": 37,
     "metadata": {},
     "output_type": "execute_result"
    }
   ],
   "source": [
    "rel_raw_df['sentiment'].value_counts(normalize= True)"
   ]
  },
  {
   "cell_type": "code",
   "execution_count": 38,
   "id": "d0b29546-fe3f-4840-b060-f20b92aad7d7",
   "metadata": {},
   "outputs": [
    {
     "data": {
      "text/html": [
       "<div>\n",
       "<style scoped>\n",
       "    .dataframe tbody tr th:only-of-type {\n",
       "        vertical-align: middle;\n",
       "    }\n",
       "\n",
       "    .dataframe tbody tr th {\n",
       "        vertical-align: top;\n",
       "    }\n",
       "\n",
       "    .dataframe thead th {\n",
       "        text-align: right;\n",
       "    }\n",
       "</style>\n",
       "<table border=\"1\" class=\"dataframe\">\n",
       "  <thead>\n",
       "    <tr style=\"text-align: right;\">\n",
       "      <th></th>\n",
       "      <th>tweet</th>\n",
       "      <th>emotion</th>\n",
       "      <th>sentiment</th>\n",
       "      <th>tweet_tokenized</th>\n",
       "      <th>tweet_tokenized_ns</th>\n",
       "      <th>tweet_lem</th>\n",
       "    </tr>\n",
       "  </thead>\n",
       "  <tbody>\n",
       "    <tr>\n",
       "      <th>0</th>\n",
       "      <td>.@wesley83 i have a 3g iphone. after 3 hrs tweeting at #rise_austin, it was dead!  i need to upgrade. plugin stations at #sxsw.</td>\n",
       "      <td>Negative emotion</td>\n",
       "      <td>0</td>\n",
       "      <td>[wesley, i, have, a, g, iphone, after, hrs, tweeting, at, rise, austin, it, was, dead, i, need, to, upgrade, plugin, stations, at, sxsw]</td>\n",
       "      <td>[wesley, g, iphone, hrs, tweeting, rise, austin, dead, need, upgrade, plugin, stations, sxsw]</td>\n",
       "      <td>[wesley, g, iphone, hr, tweeting, rise, austin, dead, need, upgrade, plugin, station, sxsw]</td>\n",
       "    </tr>\n",
       "    <tr>\n",
       "      <th>1</th>\n",
       "      <td>@jessedee know about @fludapp ? awesome ipad/iphone app that you'll likely appreciate for its design. also, they're giving free ts at #sxsw</td>\n",
       "      <td>Positive emotion</td>\n",
       "      <td>1</td>\n",
       "      <td>[jessedee, know, about, fludapp, awesome, ipad, iphone, app, that, youll, likely, appreciate, for, its, design, also, theyre, giving, free, ts, at, sxsw]</td>\n",
       "      <td>[jessedee, know, fludapp, awesome, ipad, iphone, app, youll, likely, appreciate, design, also, theyre, giving, free, ts, sxsw]</td>\n",
       "      <td>[jessedee, know, fludapp, awesome, ipad, iphone, app, youll, likely, appreciate, design, also, theyre, giving, free, t, sxsw]</td>\n",
       "    </tr>\n",
       "    <tr>\n",
       "      <th>2</th>\n",
       "      <td>@swonderlin can not wait for #ipad 2 also. they should sale them down at #sxsw.</td>\n",
       "      <td>Positive emotion</td>\n",
       "      <td>1</td>\n",
       "      <td>[swonderlin, can, not, wait, for, ipad, also, they, should, sale, them, down, at, sxsw]</td>\n",
       "      <td>[swonderlin, not, wait, ipad, also, sale, sxsw]</td>\n",
       "      <td>[swonderlin, not, wait, ipad, also, sale, sxsw]</td>\n",
       "    </tr>\n",
       "    <tr>\n",
       "      <th>3</th>\n",
       "      <td>@sxsw i hope this year's festival isn't as crashy as this year's iphone app. #sxsw</td>\n",
       "      <td>Negative emotion</td>\n",
       "      <td>0</td>\n",
       "      <td>[sxsw, i, hope, this, years, festival, isnt, as, crashy, as, this, years, iphone, app, sxsw]</td>\n",
       "      <td>[sxsw, hope, years, festival, isnt, crashy, years, iphone, app, sxsw]</td>\n",
       "      <td>[sxsw, hope, year, festival, isnt, crashy, year, iphone, app, sxsw]</td>\n",
       "    </tr>\n",
       "    <tr>\n",
       "      <th>4</th>\n",
       "      <td>@sxtxstate great stuff on fri #sxsw: marissa mayer (google), tim o'reilly (tech books/conferences) &amp;amp; matt mullenweg (wordpress)</td>\n",
       "      <td>Positive emotion</td>\n",
       "      <td>1</td>\n",
       "      <td>[sxtxstate, great, stuff, on, fri, sxsw, marissa, mayer, google, tim, oreilly, tech, books, conferences, and, matt, mullenweg, wordpress]</td>\n",
       "      <td>[sxtxstate, great, stuff, fri, sxsw, marissa, mayer, google, tim, oreilly, tech, books, conferences, matt, mullenweg, wordpress]</td>\n",
       "      <td>[sxtxstate, great, stuff, fri, sxsw, marissa, mayer, google, tim, oreilly, tech, book, conference, matt, mullenweg, wordpress]</td>\n",
       "    </tr>\n",
       "  </tbody>\n",
       "</table>\n",
       "</div>"
      ],
      "text/plain": [
       "                                                                                                                                         tweet  \\\n",
       "0              .@wesley83 i have a 3g iphone. after 3 hrs tweeting at #rise_austin, it was dead!  i need to upgrade. plugin stations at #sxsw.   \n",
       "1  @jessedee know about @fludapp ? awesome ipad/iphone app that you'll likely appreciate for its design. also, they're giving free ts at #sxsw   \n",
       "2                                                              @swonderlin can not wait for #ipad 2 also. they should sale them down at #sxsw.   \n",
       "3                                                           @sxsw i hope this year's festival isn't as crashy as this year's iphone app. #sxsw   \n",
       "4          @sxtxstate great stuff on fri #sxsw: marissa mayer (google), tim o'reilly (tech books/conferences) &amp; matt mullenweg (wordpress)   \n",
       "\n",
       "            emotion  sentiment  \\\n",
       "0  Negative emotion          0   \n",
       "1  Positive emotion          1   \n",
       "2  Positive emotion          1   \n",
       "3  Negative emotion          0   \n",
       "4  Positive emotion          1   \n",
       "\n",
       "                                                                                                                                             tweet_tokenized  \\\n",
       "0                   [wesley, i, have, a, g, iphone, after, hrs, tweeting, at, rise, austin, it, was, dead, i, need, to, upgrade, plugin, stations, at, sxsw]   \n",
       "1  [jessedee, know, about, fludapp, awesome, ipad, iphone, app, that, youll, likely, appreciate, for, its, design, also, theyre, giving, free, ts, at, sxsw]   \n",
       "2                                                                    [swonderlin, can, not, wait, for, ipad, also, they, should, sale, them, down, at, sxsw]   \n",
       "3                                                               [sxsw, i, hope, this, years, festival, isnt, as, crashy, as, this, years, iphone, app, sxsw]   \n",
       "4                  [sxtxstate, great, stuff, on, fri, sxsw, marissa, mayer, google, tim, oreilly, tech, books, conferences, and, matt, mullenweg, wordpress]   \n",
       "\n",
       "                                                                                                                 tweet_tokenized_ns  \\\n",
       "0                                     [wesley, g, iphone, hrs, tweeting, rise, austin, dead, need, upgrade, plugin, stations, sxsw]   \n",
       "1    [jessedee, know, fludapp, awesome, ipad, iphone, app, youll, likely, appreciate, design, also, theyre, giving, free, ts, sxsw]   \n",
       "2                                                                                   [swonderlin, not, wait, ipad, also, sale, sxsw]   \n",
       "3                                                             [sxsw, hope, years, festival, isnt, crashy, years, iphone, app, sxsw]   \n",
       "4  [sxtxstate, great, stuff, fri, sxsw, marissa, mayer, google, tim, oreilly, tech, books, conferences, matt, mullenweg, wordpress]   \n",
       "\n",
       "                                                                                                                        tweet_lem  \n",
       "0                                     [wesley, g, iphone, hr, tweeting, rise, austin, dead, need, upgrade, plugin, station, sxsw]  \n",
       "1   [jessedee, know, fludapp, awesome, ipad, iphone, app, youll, likely, appreciate, design, also, theyre, giving, free, t, sxsw]  \n",
       "2                                                                                 [swonderlin, not, wait, ipad, also, sale, sxsw]  \n",
       "3                                                             [sxsw, hope, year, festival, isnt, crashy, year, iphone, app, sxsw]  \n",
       "4  [sxtxstate, great, stuff, fri, sxsw, marissa, mayer, google, tim, oreilly, tech, book, conference, matt, mullenweg, wordpress]  "
      ]
     },
     "execution_count": 38,
     "metadata": {},
     "output_type": "execute_result"
    }
   ],
   "source": [
    "rel_raw_df.head()"
   ]
  },
  {
   "cell_type": "code",
   "execution_count": 39,
   "id": "ecf307d0-03db-41cf-8b9e-77bb5c447445",
   "metadata": {},
   "outputs": [],
   "source": [
    "#set x and y \n",
    "X= rel_raw_df['tweet_lem']\n",
    "y= rel_raw_df['sentiment']"
   ]
  },
  {
   "cell_type": "code",
   "execution_count": 40,
   "id": "fcef5f21-4c0f-4b63-8840-2022cd990ed6",
   "metadata": {},
   "outputs": [],
   "source": [
    "#i want 80% training data, 10% validation data, and 10% test data \n",
    "\n",
    "#Train split (remain is the remaining data)\n",
    "X_train, X_remain, y_train, y_remain= train_test_split(X, y, \n",
    "                                                   test_size= 0.2,  \n",
    "                                                   random_state= 24)\n",
    "\n",
    "#Val test split \n",
    "X_val, X_test, y_val, y_test= train_test_split(X_remain, y_remain,\n",
    "                                               test_size= 0.5, \n",
    "                                               random_state= 24)"
   ]
  },
  {
   "cell_type": "code",
   "execution_count": 41,
   "id": "ec58a132-b7c1-492f-b815-500f6590fe0c",
   "metadata": {},
   "outputs": [
    {
     "data": {
      "text/plain": [
       "7595                                                                      [google, circle, happening, lost, sxsw]\n",
       "2916                                     [apple, opening, popup, shop, downtown, austin, sxsw, link, rt, mention]\n",
       "4121                                                      [cool, apple, open, temporary, store, sxsw, link, sxsw]\n",
       "8303    [cant, wait, see, internet, implode, austin, friday, everyone, stop, normal, activity, order, ipad, sxsw]\n",
       "8165                                         [lifter, link, google, league, extraordinary, hckers, mention, sxsw]\n",
       "Name: tweet_lem, dtype: object"
      ]
     },
     "execution_count": 41,
     "metadata": {},
     "output_type": "execute_result"
    }
   ],
   "source": [
    "X_train.head()"
   ]
  },
  {
   "cell_type": "code",
   "execution_count": 42,
   "id": "ea0696cf-0e36-424c-8112-27f30b33826a",
   "metadata": {},
   "outputs": [
    {
     "data": {
      "image/png": "[encoded data removed]",
      "text/plain": [
       "<Figure size 1200x1200 with 2 Axes>"
      ]
     },
     "metadata": {},
     "output_type": "display_data"
    }
   ],
   "source": [
    "#check out the word distrobutions in X_train for each target class\n",
    "\n",
    "from collections import Counter\n",
    "\n",
    "color_palette = sns.color_palette('cividis', n_colors=38)\n",
    "\n",
    "fig, axes = plt.subplots(nrows=2, figsize=(12, 12)) \n",
    "\n",
    "plotted_words_and_colors = {}\n",
    "\n",
    "sentiment_classes = y_train.unique() \n",
    "for i, sentiment_class in enumerate(sentiment_classes):\n",
    "    sentiment_data = X_train[y_train == sentiment_class]\n",
    "    all_words_in_sentiment = [word for tokens in sentiment_data for word in tokens]\n",
    "    top_10 = Counter(all_words_in_sentiment).most_common(20)\n",
    "    \n",
    "    colors = []\n",
    "    \n",
    "    for word, _ in top_10:\n",
    "        if word not in plotted_words_and_colors:\n",
    "            new_color = color_palette.pop(0)\n",
    "            plotted_words_and_colors[word] = new_color\n",
    "        colors.append(plotted_words_and_colors[word])\n",
    "    \n",
    "    ax = axes[i]\n",
    "    words, counts = zip(*top_10)\n",
    "    ax.bar(words, counts, color=colors)\n",
    "    ax.set_title(f'Sentiment: {sentiment_class}') \n",
    "    ax.set_xticklabels(words, rotation=45, ha='right')\n",
    "\n",
    "fig.tight_layout() \n",
    "plt.show()"
   ]
  },
  {
   "cell_type": "code",
   "execution_count": 43,
   "id": "99bb71f6-f227-4b54-818f-7536aeae8495",
   "metadata": {},
   "outputs": [
    {
     "data": {
      "image/png": "[encoded data removed]",
      "text/plain": [
       "<Figure size 1200x1200 with 2 Axes>"
      ]
     },
     "metadata": {},
     "output_type": "display_data"
    }
   ],
   "source": [
    "from collections import Counter\n",
    "import seaborn as sns\n",
    "import matplotlib.pyplot as plt\n",
    "\n",
    "color_palette = sns.color_palette('cividis', n_colors=38)\n",
    "\n",
    "# Create subplots for each sentiment class\n",
    "fig, axes = plt.subplots(nrows=2, figsize=(12, 12)) \n",
    "\n",
    "plotted_words_and_colors = {}\n",
    "\n",
    "sentiment_classes = y_train.unique() \n",
    "for i, sentiment_class in enumerate(sentiment_classes):\n",
    "    sentiment_data = X_train[y_train == sentiment_class]\n",
    "    all_words_in_sentiment = [word for tokens in sentiment_data for word in tokens]\n",
    "    \n",
    "    # Get top 20 most frequent words\n",
    "    top_10 = Counter(all_words_in_sentiment).most_common(20)\n",
    "    \n",
    "    # Set colors for each word\n",
    "    colors = []\n",
    "    for word, _ in top_10:\n",
    "        if word not in plotted_words_and_colors:\n",
    "            new_color = color_palette.pop(0)\n",
    "            plotted_words_and_colors[word] = new_color\n",
    "        colors.append(plotted_words_and_colors[word])\n",
    "    \n",
    "    # Plot word frequencies\n",
    "    ax = axes[i]\n",
    "    words, counts = zip(*top_10)\n",
    "    ax.bar(words, counts, color=colors)\n",
    "    ax.set_title(f'Sentiment: {sentiment_class}') \n",
    "    ax.set_xticks(range(len(words)))  # Ensure words are properly spaced\n",
    "    ax.set_xticklabels(words, rotation=45, ha='right')\n",
    "\n",
    "fig.tight_layout() \n",
    "plt.show()\n"
   ]
  },
  {
   "cell_type": "code",
   "execution_count": 44,
   "id": "a627f646-34af-4cd1-ac08-a5299731484f",
   "metadata": {},
   "outputs": [
    {
     "data": {
      "text/plain": [
       "sentiment\n",
       "0    0.667508\n",
       "1    0.332492\n",
       "Name: proportion, dtype: float64"
      ]
     },
     "execution_count": 44,
     "metadata": {},
     "output_type": "execute_result"
    }
   ],
   "source": [
    "y_train.value_counts(normalize= True)"
   ]
  },
  {
   "cell_type": "code",
   "execution_count": 45,
   "id": "e33e36ba-23e3-4125-bf30-cc73b991522f",
   "metadata": {},
   "outputs": [
    {
     "data": {
      "text/plain": [
       "7595                                                                                                 [google, circle, happening, lost, sxsw]\n",
       "2916                                                                [apple, opening, popup, shop, downtown, austin, sxsw, link, rt, mention]\n",
       "4121                                                                                 [cool, apple, open, temporary, store, sxsw, link, sxsw]\n",
       "8303                               [cant, wait, see, internet, implode, austin, friday, everyone, stop, normal, activity, order, ipad, sxsw]\n",
       "8165                                                                    [lifter, link, google, league, extraordinary, hckers, mention, sxsw]\n",
       "                                                                        ...                                                                 \n",
       "6630    [rt, mention, rt, mention, yes, updated, iphone, app, song, info, mention, stream, others, also, live, video, streaming, sxsw, link]\n",
       "5353                                     [rt, mention, million, people, go, google, every, month, get, doctor, information, vitalscom, sxsw]\n",
       "3544                                                                              [mention, didnt, even, know, wtf, sxsw, till, google, lol]\n",
       "8705                                     [pressure, ahem, excuse, buy, mount, rt, mention, ipad, musthave, gadget, sxsw, link, via, mention]\n",
       "915                              [mention, need, help, badass, android, developer, right, debugging, emergency, know, anyone, mention, sxsw]\n",
       "Name: tweet_lem, Length: 7131, dtype: object"
      ]
     },
     "execution_count": 45,
     "metadata": {},
     "output_type": "execute_result"
    }
   ],
   "source": [
    "#clearly skewed, random undesampling could help fix this\n",
    "X_train"
   ]
  },
  {
   "cell_type": "code",
   "execution_count": 46,
   "id": "01ec64b0-07ad-4ce6-865a-1b7474dae75e",
   "metadata": {},
   "outputs": [],
   "source": [
    "# Join token lists into strings\n",
    "X_train_str = X_train.apply(' '.join)\n",
    "X_val_str = X_val.apply(' '.join)\n",
    "X_test_str = X_test.apply(' '.join)"
   ]
  },
  {
   "cell_type": "code",
   "execution_count": 47,
   "id": "8b5369e1-14cd-4bed-ae5e-1f139afc12b2",
   "metadata": {},
   "outputs": [
    {
     "data": {
      "text/plain": [
       "7595                                                                                   google circle happening lost sxsw\n",
       "2916                                                       apple opening popup shop downtown austin sxsw link rt mention\n",
       "4121                                                                      cool apple open temporary store sxsw link sxsw\n",
       "8303                          cant wait see internet implode austin friday everyone stop normal activity order ipad sxsw\n",
       "8165                                                         lifter link google league extraordinary hckers mention sxsw\n",
       "                                                              ...                                                       \n",
       "6630    rt mention rt mention yes updated iphone app song info mention stream others also live video streaming sxsw link\n",
       "5353                               rt mention million people go google every month get doctor information vitalscom sxsw\n",
       "3544                                                                    mention didnt even know wtf sxsw till google lol\n",
       "8705                                pressure ahem excuse buy mount rt mention ipad musthave gadget sxsw link via mention\n",
       "915                        mention need help badass android developer right debugging emergency know anyone mention sxsw\n",
       "Name: tweet_lem, Length: 7131, dtype: object"
      ]
     },
     "execution_count": 47,
     "metadata": {},
     "output_type": "execute_result"
    }
   ],
   "source": [
    "X_train_str"
   ]
  },
  {
   "cell_type": "code",
   "execution_count": 48,
   "id": "b7c60a28-00a1-4e42-b2fb-0762daee8a16",
   "metadata": {},
   "outputs": [],
   "source": [
    "#make a pipeline\n",
    "pipeline1 = Pipeline([\n",
    "    ('tfidf', TfidfVectorizer()),\n",
    "    ('clf', LogisticRegression(random_state=24))])"
   ]
  },
  {
   "cell_type": "code",
   "execution_count": 49,
   "id": "ddd677fe-37e6-41db-b583-2c2b755db15f",
   "metadata": {},
   "outputs": [],
   "source": [
    "#make a parameter grid\n",
    "param_grid1 = {\n",
    "    'tfidf__max_features': [1000, 1500, 2000, 2500],\n",
    "    'tfidf__ngram_range': [(1, 2), (1, 3), (1, 5)]}"
   ]
  },
  {
   "cell_type": "code",
   "execution_count": 50,
   "id": "ce144219-d4a9-40b2-887b-c5a47136f32a",
   "metadata": {},
   "outputs": [],
   "source": [
    "#run a grid search to find the most accurate version for logistic regression\n",
    "grid_search1 = GridSearchCV(\n",
    "    pipeline1,\n",
    "    param_grid1,\n",
    "    cv=5,\n",
    "    scoring='accuracy', \n",
    "    n_jobs=1,\n",
    "    verbose=0)"
   ]
  },
  {
   "cell_type": "code",
   "execution_count": 51,
   "id": "c212fdd9-7a36-46f6-9f8a-89d286b13e27",
   "metadata": {},
   "outputs": [
    {
     "data": {
      "text/html": [
       "<style>#sk-container-id-1 {color: black;}#sk-container-id-1 pre{padding: 0;}#sk-container-id-1 div.sk-toggleable {background-color: white;}#sk-container-id-1 label.sk-toggleable__label {cursor: pointer;display: block;width: 100%;margin-bottom: 0;padding: 0.3em;box-sizing: border-box;text-align: center;}#sk-container-id-1 label.sk-toggleable__label-arrow:before {content: \"▸\";float: left;margin-right: 0.25em;color: #696969;}#sk-container-id-1 label.sk-toggleable__label-arrow:hover:before {color: black;}#sk-container-id-1 div.sk-estimator:hover label.sk-toggleable__label-arrow:before {color: black;}#sk-container-id-1 div.sk-toggleable__content {max-height: 0;max-width: 0;overflow: hidden;text-align: left;background-color: #f0f8ff;}#sk-container-id-1 div.sk-toggleable__content pre {margin: 0.2em;color: black;border-radius: 0.25em;background-color: #f0f8ff;}#sk-container-id-1 input.sk-toggleable__control:checked~div.sk-toggleable__content {max-height: 200px;max-width: 100%;overflow: auto;}#sk-container-id-1 input.sk-toggleable__control:checked~label.sk-toggleable__label-arrow:before {content: \"▾\";}#sk-container-id-1 div.sk-estimator input.sk-toggleable__control:checked~label.sk-toggleable__label {background-color: #d4ebff;}#sk-container-id-1 div.sk-label input.sk-toggleable__control:checked~label.sk-toggleable__label {background-color: #d4ebff;}#sk-container-id-1 input.sk-hidden--visually {border: 0;clip: rect(1px 1px 1px 1px);clip: rect(1px, 1px, 1px, 1px);height: 1px;margin: -1px;overflow: hidden;padding: 0;position: absolute;width: 1px;}#sk-container-id-1 div.sk-estimator {font-family: monospace;background-color: #f0f8ff;border: 1px dotted black;border-radius: 0.25em;box-sizing: border-box;margin-bottom: 0.5em;}#sk-container-id-1 div.sk-estimator:hover {background-color: #d4ebff;}#sk-container-id-1 div.sk-parallel-item::after {content: \"\";width: 100%;border-bottom: 1px solid gray;flex-grow: 1;}#sk-container-id-1 div.sk-label:hover label.sk-toggleable__label {background-color: #d4ebff;}#sk-container-id-1 div.sk-serial::before {content: \"\";position: absolute;border-left: 1px solid gray;box-sizing: border-box;top: 0;bottom: 0;left: 50%;z-index: 0;}#sk-container-id-1 div.sk-serial {display: flex;flex-direction: column;align-items: center;background-color: white;padding-right: 0.2em;padding-left: 0.2em;position: relative;}#sk-container-id-1 div.sk-item {position: relative;z-index: 1;}#sk-container-id-1 div.sk-parallel {display: flex;align-items: stretch;justify-content: center;background-color: white;position: relative;}#sk-container-id-1 div.sk-item::before, #sk-container-id-1 div.sk-parallel-item::before {content: \"\";position: absolute;border-left: 1px solid gray;box-sizing: border-box;top: 0;bottom: 0;left: 50%;z-index: -1;}#sk-container-id-1 div.sk-parallel-item {display: flex;flex-direction: column;z-index: 1;position: relative;background-color: white;}#sk-container-id-1 div.sk-parallel-item:first-child::after {align-self: flex-end;width: 50%;}#sk-container-id-1 div.sk-parallel-item:last-child::after {align-self: flex-start;width: 50%;}#sk-container-id-1 div.sk-parallel-item:only-child::after {width: 0;}#sk-container-id-1 div.sk-dashed-wrapped {border: 1px dashed gray;margin: 0 0.4em 0.5em 0.4em;box-sizing: border-box;padding-bottom: 0.4em;background-color: white;}#sk-container-id-1 div.sk-label label {font-family: monospace;font-weight: bold;display: inline-block;line-height: 1.2em;}#sk-container-id-1 div.sk-label-container {text-align: center;}#sk-container-id-1 div.sk-container {/* jupyter's `normalize.less` sets `[hidden] { display: none; }` but bootstrap.min.css set `[hidden] { display: none !important; }` so we also need the `!important` here to be able to override the default hidden behavior on the sphinx rendered scikit-learn.org. See: https://github.com/scikit-learn/scikit-learn/issues/21755 */display: inline-block !important;position: relative;}#sk-container-id-1 div.sk-text-repr-fallback {display: none;}</style><div id=\"sk-container-id-1\" class=\"sk-top-container\"><div class=\"sk-text-repr-fallback\"><pre>GridSearchCV(cv=5,\n",
       "             estimator=Pipeline(steps=[(&#x27;tfidf&#x27;, TfidfVectorizer()),\n",
       "                                       (&#x27;clf&#x27;,\n",
       "                                        LogisticRegression(random_state=24))]),\n",
       "             n_jobs=1,\n",
       "             param_grid={&#x27;tfidf__max_features&#x27;: [1000, 1500, 2000, 2500],\n",
       "                         &#x27;tfidf__ngram_range&#x27;: [(1, 2), (1, 3), (1, 5)]},\n",
       "             scoring=&#x27;accuracy&#x27;)</pre><b>In a Jupyter environment, please rerun this cell to show the HTML representation or trust the notebook. <br />On GitHub, the HTML representation is unable to render, please try loading this page with nbviewer.org.</b></div><div class=\"sk-container\" hidden><div class=\"sk-item sk-dashed-wrapped\"><div class=\"sk-label-container\"><div class=\"sk-label sk-toggleable\"><input class=\"sk-toggleable__control sk-hidden--visually\" id=\"sk-estimator-id-1\" type=\"checkbox\" ><label for=\"sk-estimator-id-1\" class=\"sk-toggleable__label sk-toggleable__label-arrow\">GridSearchCV</label><div class=\"sk-toggleable__content\"><pre>GridSearchCV(cv=5,\n",
       "             estimator=Pipeline(steps=[(&#x27;tfidf&#x27;, TfidfVectorizer()),\n",
       "                                       (&#x27;clf&#x27;,\n",
       "                                        LogisticRegression(random_state=24))]),\n",
       "             n_jobs=1,\n",
       "             param_grid={&#x27;tfidf__max_features&#x27;: [1000, 1500, 2000, 2500],\n",
       "                         &#x27;tfidf__ngram_range&#x27;: [(1, 2), (1, 3), (1, 5)]},\n",
       "             scoring=&#x27;accuracy&#x27;)</pre></div></div></div><div class=\"sk-parallel\"><div class=\"sk-parallel-item\"><div class=\"sk-item\"><div class=\"sk-label-container\"><div class=\"sk-label sk-toggleable\"><input class=\"sk-toggleable__control sk-hidden--visually\" id=\"sk-estimator-id-2\" type=\"checkbox\" ><label for=\"sk-estimator-id-2\" class=\"sk-toggleable__label sk-toggleable__label-arrow\">estimator: Pipeline</label><div class=\"sk-toggleable__content\"><pre>Pipeline(steps=[(&#x27;tfidf&#x27;, TfidfVectorizer()),\n",
       "                (&#x27;clf&#x27;, LogisticRegression(random_state=24))])</pre></div></div></div><div class=\"sk-serial\"><div class=\"sk-item\"><div class=\"sk-serial\"><div class=\"sk-item\"><div class=\"sk-estimator sk-toggleable\"><input class=\"sk-toggleable__control sk-hidden--visually\" id=\"sk-estimator-id-3\" type=\"checkbox\" ><label for=\"sk-estimator-id-3\" class=\"sk-toggleable__label sk-toggleable__label-arrow\">TfidfVectorizer</label><div class=\"sk-toggleable__content\"><pre>TfidfVectorizer()</pre></div></div></div><div class=\"sk-item\"><div class=\"sk-estimator sk-toggleable\"><input class=\"sk-toggleable__control sk-hidden--visually\" id=\"sk-estimator-id-4\" type=\"checkbox\" ><label for=\"sk-estimator-id-4\" class=\"sk-toggleable__label sk-toggleable__label-arrow\">LogisticRegression</label><div class=\"sk-toggleable__content\"><pre>LogisticRegression(random_state=24)</pre></div></div></div></div></div></div></div></div></div></div></div></div>"
      ],
      "text/plain": [
       "GridSearchCV(cv=5,\n",
       "             estimator=Pipeline(steps=[('tfidf', TfidfVectorizer()),\n",
       "                                       ('clf',\n",
       "                                        LogisticRegression(random_state=24))]),\n",
       "             n_jobs=1,\n",
       "             param_grid={'tfidf__max_features': [1000, 1500, 2000, 2500],\n",
       "                         'tfidf__ngram_range': [(1, 2), (1, 3), (1, 5)]},\n",
       "             scoring='accuracy')"
      ]
     },
     "execution_count": 51,
     "metadata": {},
     "output_type": "execute_result"
    }
   ],
   "source": [
    "grid_search1.fit(X_train_str, y_train)"
   ]
  },
  {
   "cell_type": "code",
   "execution_count": 52,
   "id": "c8e2b745-0ec8-42b8-8c33-cbbe8a5de36c",
   "metadata": {},
   "outputs": [
    {
     "data": {
      "text/plain": [
       "7131"
      ]
     },
     "execution_count": 52,
     "metadata": {},
     "output_type": "execute_result"
    }
   ],
   "source": [
    "len(X_train_str)"
   ]
  },
  {
   "cell_type": "code",
   "execution_count": 53,
   "id": "667b30b7-a1d7-444c-ab3e-a8e8b8bba5db",
   "metadata": {},
   "outputs": [
    {
     "name": "stdout",
     "output_type": "stream",
     "text": [
      "Best parameters found:  {'tfidf__max_features': 2500, 'tfidf__ngram_range': (1, 2)}\n",
      "Best cross-validation score:  0.7252850505822884\n"
     ]
    }
   ],
   "source": [
    "print(\"Best parameters found: \", grid_search1.best_params_)\n",
    "print(\"Best cross-validation score: \", grid_search1.best_score_)"
   ]
  },
  {
   "cell_type": "code",
   "execution_count": 54,
   "id": "1eb9d8f8-162b-4c0c-a966-ac76d5ce5a57",
   "metadata": {},
   "outputs": [
    {
     "name": "stdout",
     "output_type": "stream",
     "text": [
      "Best Hyperparameters: {'tfidf__max_features': 2500, 'tfidf__ngram_range': (1, 2)}\n",
      "Best Train Cross-Validation Score: 0.7253\n",
      "Validation Set Accuracy: 0.7576\n"
     ]
    }
   ],
   "source": [
    "# Fit the grid search to the training data\n",
    "grid_search1.fit(X_train_str, y_train)\n",
    "\n",
    "# Get the best train cross-validation score\n",
    "best_train_cv_score = grid_search1.best_score_\n",
    "\n",
    "# Get the best model found by grid search\n",
    "best_model = grid_search1.best_estimator_\n",
    "\n",
    "# Predict on the validation set\n",
    "y_val_pred = best_model.predict(X_val_str)\n",
    "\n",
    "# Evaluate performance (accuracy) on the validation set\n",
    "from sklearn.metrics import accuracy_score\n",
    "val_accuracy = accuracy_score(y_val, y_val_pred)\n",
    "\n",
    "# Get the best hyperparameters\n",
    "best_params = grid_search1.best_params_\n",
    "\n",
    "print(f\"Best Hyperparameters: {best_params}\")\n",
    "print(f\"Best Train Cross-Validation Score: {best_train_cv_score:.4f}\")\n",
    "print(f\"Validation Set Accuracy: {val_accuracy:.4f}\")"
   ]
  },
  {
   "cell_type": "code",
   "execution_count": 55,
   "id": "5ac25106-283b-4b9a-8083-c0100fc70eb3",
   "metadata": {},
   "outputs": [
    {
     "data": {
      "image/png": "[encoded data removed]",
      "text/plain": [
       "<Figure size 640x480 with 2 Axes>"
      ]
     },
     "metadata": {},
     "output_type": "display_data"
    }
   ],
   "source": [
    "cm = confusion_matrix(y_val, y_val_pred)\n",
    "ConfusionMatrixDisplay(cm, display_labels=['Not Positive', 'Positive']).plot()\n",
    "plt.show()"
   ]
  },
  {
   "cell_type": "code",
   "execution_count": 56,
   "id": "3a259438-f4c3-4b58-a2f5-8da675cfb0ea",
   "metadata": {},
   "outputs": [
    {
     "name": "stdout",
     "output_type": "stream",
     "text": [
      "Best Hyperparameters: {'tfidf__max_features': 2500, 'tfidf__ngram_range': (1, 2)}\n",
      "Best Train Cross-Validation Score: 0.7253\n",
      "Validation Set Accuracy: 0.7576\n"
     ]
    }
   ],
   "source": [
    "# Fit the grid search to the training data\n",
    "grid_search1.fit(X_train_str, y_train)\n",
    "\n",
    "# Get the best train cross-validation score\n",
    "best_train_cv_score = grid_search1.best_score_\n",
    "\n",
    "# Get the best model found by grid search\n",
    "best_model = grid_search1.best_estimator_\n",
    "\n",
    "# Predict on the validation set\n",
    "y_val_pred = best_model.predict(X_val_str)\n",
    "\n",
    "# Evaluate performance (accuracy) on the validation set\n",
    "from sklearn.metrics import accuracy_score\n",
    "val_accuracy = accuracy_score(y_val, y_val_pred)\n",
    "\n",
    "# Get the best hyperparameters\n",
    "best_params = grid_search1.best_params_\n",
    "\n",
    "print(f\"Best Hyperparameters: {best_params}\")\n",
    "print(f\"Best Train Cross-Validation Score: {best_train_cv_score:.4f}\")\n",
    "print(f\"Validation Set Accuracy: {val_accuracy:.4f}\")"
   ]
  },
  {
   "cell_type": "code",
   "execution_count": 57,
   "id": "90f57a02-6f83-46ca-9792-445e0cd0f21a",
   "metadata": {},
   "outputs": [],
   "source": [
    "#this is our baseline model"
   ]
  },
  {
   "cell_type": "markdown",
   "id": "0eb82a41-b080-479f-be3c-b0099689b317",
   "metadata": {},
   "source": [
    "#make another pipleine but with random undersampling\n",
    "pipeline1_2 = Pipeline([('undersample', RandomUnderSampler(random_state=24)),\n",
    "    ('tfidf', TfidfVectorizer()),  # TF-IDF Vectorizer\n",
    "    ('clf', LogisticRegression(random_state=24))])\n",
    "\n",
    "param_grid1_2 = {'tfidf__max_features': [1000, 1500, 2000, 2500],\n",
    "    'tfidf__ngram_range': [(1, 2), (1, 3), (1, 5)]}\n",
    "\n",
    "grid_search1_2 = GridSearchCV(pipeline1_2,\n",
    "    param_grid1_2,\n",
    "    cv=5,\n",
    "    scoring='accuracy',\n",
    "    n_jobs=-1,\n",
    "    verbose=1)\n",
    "\n",
    "grid_search1_2.fit(X_train_str, y_train)\n",
    "\n",
    "best_model1_2 = grid_search1_2.best_estimator_\n",
    "\n",
    "y_val_pred1_2 = best_model1_2.predict(X_val_str)\n",
    "val_accuracy1_2 = accuracy_score(y_val, y_val_pred1_2)\n",
    "\n",
    "best_params1_2 = grid_search1_2.best_params_\n",
    "\n",
    "\n",
    "print(f\"Best Hyperparameters (with undersampling): {best_params1_2}\")\n",
    "print(f\"Best Train Cross-Validation Score (with undersampling): {grid_search1_2.best_score_:.4f}\")\n",
    "print(f\"Validation Set Accuracy (with undersampling): {val_accuracy1_2:.4f}\")"
   ]
  },
  {
   "cell_type": "code",
   "execution_count": 58,
   "id": "d10cc168-0538-4bdd-9f87-10bb01119f6e",
   "metadata": {},
   "outputs": [
    {
     "name": "stdout",
     "output_type": "stream",
     "text": [
      "Fitting 5 folds for each of 12 candidates, totalling 60 fits\n",
      "Best Hyperparameters (with undersampling): {'tfidf__max_features': 2500, 'tfidf__ngram_range': (1, 2)}\n",
      "Best Train Cross-Validation Score (with undersampling): 0.67325660\n",
      "Validation Set Accuracy (with undersampling): 0.69360269\n"
     ]
    }
   ],
   "source": [
    "# Import necessary libraries\n",
    "from imblearn.pipeline import Pipeline as ImbPipeline  # Importing ImbPipeline from imbalanced-learn\n",
    "from imblearn.under_sampling import RandomUnderSampler  # Importing RandomUnderSampler from imbalanced-learn\n",
    "from sklearn.model_selection import GridSearchCV\n",
    "from sklearn.linear_model import LogisticRegression\n",
    "from sklearn.feature_extraction.text import TfidfVectorizer\n",
    "from sklearn.metrics import accuracy_score\n",
    "\n",
    "# Create another pipeline with random undersampling\n",
    "pipeline1_2 = ImbPipeline([\n",
    "    ('tfidf', TfidfVectorizer()),  # TF-IDF Vectorizer\n",
    "    ('undersample', RandomUnderSampler(random_state=24)),  # Random undersampling step\n",
    "    ('clf', LogisticRegression(random_state=24))  # Logistic Regression classifier\n",
    "])\n",
    "\n",
    "# Define the parameter grid for the grid search\n",
    "param_grid1_2 = {\n",
    "    'tfidf__max_features': [1000, 1500, 2000, 2500],\n",
    "    'tfidf__ngram_range': [(1, 2), (1, 3), (1, 5)]\n",
    "}\n",
    "\n",
    "# Perform grid search to find the best parameters with undersampling\n",
    "grid_search1_2 = GridSearchCV(\n",
    "    pipeline1_2,  # Use the correct pipeline here\n",
    "    param_grid1_2,\n",
    "    cv=5,\n",
    "    scoring='accuracy',\n",
    "    n_jobs=-1,\n",
    "    verbose=1\n",
    ")\n",
    "\n",
    "# Fit the grid search with undersampling to the training data\n",
    "grid_search1_2.fit(X_train_str, y_train)\n",
    "\n",
    "# Get the best model from the grid search\n",
    "best_model1_2 = grid_search1_2.best_estimator_\n",
    "\n",
    "# Evaluate the performance on the validation set\n",
    "y_val_pred1_2 = best_model1_2.predict(X_val_str)\n",
    "val_accuracy1_2 = accuracy_score(y_val, y_val_pred1_2)\n",
    "\n",
    "# Get the best hyperparameters for the undersampling pipeline\n",
    "best_params1_2 = grid_search1_2.best_params_\n",
    "\n",
    "# Output the results\n",
    "print(f\"Best Hyperparameters (with undersampling): {best_params1_2}\")\n",
    "print(f\"Best Train Cross-Validation Score (with undersampling): {grid_search1_2.best_score_:.8f}\")\n",
    "print(f\"Validation Set Accuracy (with undersampling): {val_accuracy1_2:.8f}\")\n"
   ]
  },
  {
   "cell_type": "code",
   "execution_count": 59,
   "id": "7407a0c8-4552-4bf1-907b-45079ff6abef",
   "metadata": {},
   "outputs": [],
   "source": [
    "#this seems to decrease the accuracy of the model "
   ]
  },
  {
   "cell_type": "code",
   "execution_count": 60,
   "id": "ea9a286c-63d2-43a0-a0e0-69f10da30951",
   "metadata": {},
   "outputs": [
    {
     "name": "stdout",
     "output_type": "stream",
     "text": [
      "Fitting 5 folds for each of 36 candidates, totalling 180 fits\n",
      "Best Hyperparameters (with undersampling + SMOTE): {'clf__C': 1, 'tfidf__max_features': 2500, 'tfidf__ngram_range': (1, 2)}\n",
      "Best Train Cross-Validation Score (with undersampling + SMOTE): 0.67325660\n",
      "Validation Set Accuracy (with undersampling + SMOTE): 0.69360269\n"
     ]
    }
   ],
   "source": [
    "from imblearn.pipeline import Pipeline as ImbPipeline\n",
    "from imblearn.under_sampling import RandomUnderSampler\n",
    "from imblearn.over_sampling import SMOTE\n",
    "from sklearn.feature_extraction.text import TfidfVectorizer\n",
    "from sklearn.linear_model import LogisticRegression\n",
    "from sklearn.model_selection import GridSearchCV\n",
    "from sklearn.metrics import accuracy_score\n",
    "\n",
    "# Create a pipeline where undersampling and SMOTE are applied after TF-IDF vectorization\n",
    "pipeline_combined = ImbPipeline([\n",
    "    ('tfidf', TfidfVectorizer()),  # TF-IDF Vectorizer (text to feature matrix)\n",
    "    ('undersample', RandomUnderSampler(random_state=24)),  # Random Under-sampling\n",
    "    ('smote', SMOTE(random_state=24)),  # SMOTE for oversampling the minority class\n",
    "    ('clf', LogisticRegression(random_state=24))  # Logistic Regression Classifier\n",
    "])\n",
    "\n",
    "# Define the parameter grid for GridSearchCV\n",
    "param_grid_combined = {\n",
    "    'tfidf__max_features': [1000, 1500, 2000, 2500],\n",
    "    'tfidf__ngram_range': [(1, 2), (1, 3), (1, 5)],\n",
    "    'clf__C': [0.1, 1, 10]  # Hyperparameter for Logistic Regression (regularization strength)\n",
    "}\n",
    "\n",
    "# Create the GridSearchCV object\n",
    "grid_search_combined = GridSearchCV(\n",
    "    pipeline_combined,\n",
    "    param_grid_combined,\n",
    "    cv=5,\n",
    "    scoring='accuracy',\n",
    "    n_jobs=-1,\n",
    "    verbose=1\n",
    ")\n",
    "\n",
    "# Fit the grid search on the training data\n",
    "grid_search_combined.fit(X_train_str, y_train)\n",
    "\n",
    "# Get the best model\n",
    "best_model_combined = grid_search_combined.best_estimator_\n",
    "\n",
    "# Predict on the validation set\n",
    "y_val_pred_combined = best_model_combined.predict(X_val_str)\n",
    "\n",
    "# Calculate accuracy on the validation set\n",
    "val_accuracy_combined = accuracy_score(y_val, y_val_pred_combined)\n",
    "\n",
    "# Get the best parameters from the grid search\n",
    "best_params_combined = grid_search_combined.best_params_\n",
    "\n",
    "# Output the results\n",
    "print(f\"Best Hyperparameters (with undersampling + SMOTE): {best_params_combined}\")\n",
    "print(f\"Best Train Cross-Validation Score (with undersampling + SMOTE): {grid_search_combined.best_score_:.8f}\")\n",
    "print(f\"Validation Set Accuracy (with undersampling + SMOTE): {val_accuracy_combined:.8f}\")\n"
   ]
  },
  {
   "cell_type": "code",
   "execution_count": 61,
   "id": "39a38340-fbaa-41f5-a4b1-2797f782c3ec",
   "metadata": {},
   "outputs": [],
   "source": [
    "#smoting doesn't seem to do anything"
   ]
  },
  {
   "cell_type": "markdown",
   "id": "7a98389c-45c7-434a-8e2c-f10a83a03cdf",
   "metadata": {},
   "source": [
    "## method 2"
   ]
  },
  {
   "cell_type": "code",
   "execution_count": 62,
   "id": "ec25a6e9-a6dc-47b3-a1d7-5cb8e2aa01c9",
   "metadata": {},
   "outputs": [
    {
     "name": "stdout",
     "output_type": "stream",
     "text": [
      "Original Training Sentiment Distribution:\n",
      "sentiment\n",
      "0    0.667508\n",
      "1    0.332492\n",
      "Name: proportion, dtype: float64\n",
      "Fitting 5 folds for each of 12 candidates, totalling 60 fits\n",
      "\n",
      "Random Undersampling Results:\n",
      "Best Hyperparameters: {'tfidf__max_features': 2500, 'tfidf__ngram_range': (1, 2)}\n",
      "Best Train Cross-Validation Score: 0.6733\n",
      "Validation Set Accuracy: 0.6936\n"
     ]
    }
   ],
   "source": [
    "# Add imblearn imports\n",
    "from imblearn.pipeline import Pipeline as ImbPipeline  # Use this instead of sklearn Pipeline\n",
    "from imblearn.under_sampling import RandomUnderSampler\n",
    "from imblearn.over_sampling import SMOTE\n",
    "\n",
    "# Join token lists into strings (unchanged)\n",
    "X_train_str = X_train.apply(' '.join)\n",
    "X_val_str = X_val.apply(' '.join)\n",
    "X_test_str = X_test.apply(' '.join)\n",
    "\n",
    "# Check initial distribution\n",
    "print(\"Original Training Sentiment Distribution:\")\n",
    "print(y_train.value_counts(normalize=True))\n",
    "\n",
    "# --- Pipeline 1: Random Undersampling ---\n",
    "pipeline_under = ImbPipeline([\n",
    "    ('tfidf', TfidfVectorizer()),\n",
    "    ('undersample', RandomUnderSampler(random_state=24)),\n",
    "    ('clf', LogisticRegression(random_state=24))\n",
    "])\n",
    "\n",
    "param_grid_under = {\n",
    "    'tfidf__max_features': [1000, 1500, 2000, 2500],\n",
    "    'tfidf__ngram_range': [(1, 2), (1, 3), (1, 5)]\n",
    "}\n",
    "\n",
    "grid_search_under = GridSearchCV(\n",
    "    pipeline_under,\n",
    "    param_grid_under,\n",
    "    cv=5,\n",
    "    scoring='accuracy',\n",
    "    n_jobs=1,\n",
    "    verbose=1\n",
    ")\n",
    "\n",
    "# Fit with undersampling\n",
    "grid_search_under.fit(X_train_str, y_train)\n",
    "\n",
    "# Results\n",
    "best_train_cv_score_under = grid_search_under.best_score_\n",
    "best_model_under = grid_search_under.best_estimator_\n",
    "y_val_pred_under = best_model_under.predict(X_val_str)\n",
    "val_accuracy_under = accuracy_score(y_val, y_val_pred_under)\n",
    "best_params_under = grid_search_under.best_params_\n",
    "\n",
    "print(\"\\nRandom Undersampling Results:\")\n",
    "print(f\"Best Hyperparameters: {best_params_under}\")\n",
    "print(f\"Best Train Cross-Validation Score: {best_train_cv_score_under:.4f}\")\n",
    "print(f\"Validation Set Accuracy: {val_accuracy_under:.4f}\")"
   ]
  },
  {
   "cell_type": "code",
   "execution_count": 63,
   "id": "f7274b51-e073-45ef-b5a5-d8f815a26030",
   "metadata": {},
   "outputs": [],
   "source": [
    "#clearly jusrt undersampling hurts here"
   ]
  },
  {
   "cell_type": "code",
   "execution_count": 64,
   "id": "1d8a6cf9-93d3-4103-92d1-84d6b5306257",
   "metadata": {},
   "outputs": [],
   "source": [
    "#lets try smote and random under"
   ]
  },
  {
   "cell_type": "code",
   "execution_count": 65,
   "id": "18cf8782-7fc6-414c-bc40-2288d666ce23",
   "metadata": {},
   "outputs": [
    {
     "name": "stdout",
     "output_type": "stream",
     "text": [
      "Fitting 5 folds for each of 12 candidates, totalling 60 fits\n",
      "\n",
      "SMOTE + Random Undersampling Results:\n",
      "Best Hyperparameters: {'tfidf__max_features': 2500, 'tfidf__ngram_range': (1, 2)}\n",
      "Best Train Cross-Validation Score: 0.6929\n",
      "Validation Set Accuracy: 0.7048\n"
     ]
    }
   ],
   "source": [
    "# --- Pipeline 2: SMOTE + Random Undersampling ---\n",
    "pipeline_smote_under = ImbPipeline([\n",
    "    ('tfidf', TfidfVectorizer()),\n",
    "    ('smote', SMOTE(random_state=24)),\n",
    "    ('undersample', RandomUnderSampler(random_state=24)),\n",
    "    ('clf', LogisticRegression(random_state=24))\n",
    "])\n",
    "\n",
    "param_grid_smote_under = {\n",
    "    'tfidf__max_features': [1000, 1500, 2000, 2500],\n",
    "    'tfidf__ngram_range': [(1, 2), (1, 3), (1, 5)]\n",
    "}\n",
    "\n",
    "grid_search_smote_under = GridSearchCV(\n",
    "    pipeline_smote_under,\n",
    "    param_grid_smote_under,\n",
    "    cv=5,\n",
    "    scoring='accuracy',\n",
    "    n_jobs=1,\n",
    "    verbose=1\n",
    ")\n",
    "\n",
    "# Fit with SMOTE + undersampling\n",
    "grid_search_smote_under.fit(X_train_str, y_train)\n",
    "\n",
    "# Results\n",
    "best_train_cv_score_smote_under = grid_search_smote_under.best_score_\n",
    "best_model_smote_under = grid_search_smote_under.best_estimator_\n",
    "y_val_pred_smote_under = best_model_smote_under.predict(X_val_str)\n",
    "val_accuracy_smote_under = accuracy_score(y_val, y_val_pred_smote_under)\n",
    "best_params_smote_under = grid_search_smote_under.best_params_\n",
    "\n",
    "print(\"\\nSMOTE + Random Undersampling Results:\")\n",
    "print(f\"Best Hyperparameters: {best_params_smote_under}\")\n",
    "print(f\"Best Train Cross-Validation Score: {best_train_cv_score_smote_under:.4f}\")\n",
    "print(f\"Validation Set Accuracy: {val_accuracy_smote_under:.4f}\")"
   ]
  },
  {
   "cell_type": "code",
   "execution_count": 66,
   "id": "dafe2236-76bb-4dfd-ae2b-7ed2e9c9b97c",
   "metadata": {},
   "outputs": [],
   "source": [
    "# smote and random under is better than random under but not better than just doing it with the current as is class imblance"
   ]
  },
  {
   "cell_type": "code",
   "execution_count": 67,
   "id": "e60fd78c-6a8a-4586-95ca-72cd2d8cfe11",
   "metadata": {},
   "outputs": [],
   "source": [
    "#try running this base against other classifiers "
   ]
  },
  {
   "cell_type": "markdown",
   "id": "ad43f770-e175-4d1d-80a1-6ebed40b1947",
   "metadata": {},
   "source": [
    "possible_classifiers= [LogisticRegression(), \n",
    "              MultinomialNB(), \n",
    "              LinearSVC(), \n",
    "              DecisionTreeClassifier(), \n",
    "              RandomForestClassifier(),\n",
    "              KNeighborsClassifier(),\n",
    "              GradientBoostingClassifier(),\n",
    "              xgb_regressor, \n",
    "              neural_network]"
   ]
  },
  {
   "cell_type": "markdown",
   "id": "fa696ab9-ebbc-414b-ad37-b63dbbc94f99",
   "metadata": {},
   "source": [
    "# version 1"
   ]
  },
  {
   "cell_type": "code",
   "execution_count": 68,
   "id": "a750c7c1-0ce4-46ca-a0e3-bd7c23d58e53",
   "metadata": {},
   "outputs": [
    {
     "name": "stdout",
     "output_type": "stream",
     "text": [
      "Requirement already satisfied: keras==2.12.0 in /opt/anaconda3/envs/my_py_3_8_5_env/lib/python3.8/site-packages (2.12.0)\n",
      "Note: you may need to restart the kernel to use updated packages.\n"
     ]
    }
   ],
   "source": [
    "pip install keras==2.12.0"
   ]
  },
  {
   "cell_type": "code",
   "execution_count": 69,
   "id": "616bae6a-0dc4-4136-8d93-60254c7c3f29",
   "metadata": {},
   "outputs": [
    {
     "name": "stdout",
     "output_type": "stream",
     "text": [
      "\u001b[31mERROR: Could not find a version that satisfies the requirement tensorflow==2.8 (from versions: 2.13.0rc0, 2.13.0rc1, 2.13.0rc2, 2.13.0, 2.13.1)\u001b[0m\u001b[31m\n",
      "\u001b[0m\u001b[31mERROR: No matching distribution found for tensorflow==2.8\u001b[0m\u001b[31m\n",
      "\u001b[0mNote: you may need to restart the kernel to use updated packages.\n"
     ]
    }
   ],
   "source": [
    "pip install tensorflow==2.8\n"
   ]
  },
  {
   "cell_type": "code",
   "execution_count": 70,
   "id": "a9d2f5a0-a4cf-4974-8eb4-7f359b5e485b",
   "metadata": {},
   "outputs": [],
   "source": [
    "from sklearn.neural_network import MLPClassifier\n",
    "from keras.wrappers.scikit_learn import KerasClassifier\n",
    "from tensorflow.keras.models import Sequential\n",
    "from tensorflow.keras.layers import Dense, Dropout\n",
    "\n",
    "# Define a function to create a neural network model\n",
    "def create_nn_model():\n",
    "    model = Sequential()\n",
    "    model.add(Dense(128, input_dim=2500, activation='relu'))  # Input layer (use TF-IDF features)\n",
    "    model.add(Dropout(0.2))\n",
    "    model.add(Dense(64, activation='relu'))  # Hidden layer\n",
    "    model.add(Dropout(0.2))\n",
    "    model.add(Dense(1, activation='sigmoid'))  # Output layer (binary classification)\n",
    "    \n",
    "    model.compile(optimizer='adam', loss='binary_crossentropy', metrics=['accuracy'])\n",
    "    return model\n",
    "\n",
    "# Convert it to a KerasClassifier to integrate with GridSearchCV\n",
    "nn_model = KerasClassifier(build_fn=create_nn_model, epochs=10, batch_size=32, verbose=0)\n"
   ]
  },
  {
   "cell_type": "markdown",
   "id": "c9f8675c-f536-4e6e-b5b7-80a5af24eaec",
   "metadata": {},
   "source": [
    "# version 2\n"
   ]
  },
  {
   "cell_type": "code",
   "execution_count": 71,
   "id": "b68374cd-5f09-4b66-8622-4010b6ca6509",
   "metadata": {},
   "outputs": [],
   "source": [
    "# XGboost first"
   ]
  },
  {
   "cell_type": "code",
   "execution_count": 72,
   "id": "5f41c116-1d0b-43df-b473-efe344fceb33",
   "metadata": {},
   "outputs": [
    {
     "name": "stdout",
     "output_type": "stream",
     "text": [
      "Fitting 5 folds for each of 96 candidates, totalling 480 fits\n"
     ]
    },
    {
     "name": "stderr",
     "output_type": "stream",
     "text": [
      "/opt/anaconda3/envs/my_py_3_8_5_env/lib/python3.8/site-packages/sklearn/linear_model/_logistic.py:460: ConvergenceWarning: lbfgs failed to converge (status=1):\n",
      "STOP: TOTAL NO. of ITERATIONS REACHED LIMIT.\n",
      "\n",
      "Increase the number of iterations (max_iter) or scale the data as shown in:\n",
      "    https://scikit-learn.org/stable/modules/preprocessing.html\n",
      "Please also refer to the documentation for alternative solver options:\n",
      "    https://scikit-learn.org/stable/modules/linear_model.html#logistic-regression\n",
      "  n_iter_i = _check_optimize_result(\n",
      "/opt/anaconda3/envs/my_py_3_8_5_env/lib/python3.8/site-packages/sklearn/linear_model/_logistic.py:460: ConvergenceWarning: lbfgs failed to converge (status=1):\n",
      "STOP: TOTAL NO. of ITERATIONS REACHED LIMIT.\n",
      "\n",
      "Increase the number of iterations (max_iter) or scale the data as shown in:\n",
      "    https://scikit-learn.org/stable/modules/preprocessing.html\n",
      "Please also refer to the documentation for alternative solver options:\n",
      "    https://scikit-learn.org/stable/modules/linear_model.html#logistic-regression\n",
      "  n_iter_i = _check_optimize_result(\n",
      "/opt/anaconda3/envs/my_py_3_8_5_env/lib/python3.8/site-packages/sklearn/linear_model/_logistic.py:460: ConvergenceWarning: lbfgs failed to converge (status=1):\n",
      "STOP: TOTAL NO. of ITERATIONS REACHED LIMIT.\n",
      "\n",
      "Increase the number of iterations (max_iter) or scale the data as shown in:\n",
      "    https://scikit-learn.org/stable/modules/preprocessing.html\n",
      "Please also refer to the documentation for alternative solver options:\n",
      "    https://scikit-learn.org/stable/modules/linear_model.html#logistic-regression\n",
      "  n_iter_i = _check_optimize_result(\n",
      "/opt/anaconda3/envs/my_py_3_8_5_env/lib/python3.8/site-packages/sklearn/linear_model/_logistic.py:460: ConvergenceWarning: lbfgs failed to converge (status=1):\n",
      "STOP: TOTAL NO. of ITERATIONS REACHED LIMIT.\n",
      "\n",
      "Increase the number of iterations (max_iter) or scale the data as shown in:\n",
      "    https://scikit-learn.org/stable/modules/preprocessing.html\n",
      "Please also refer to the documentation for alternative solver options:\n",
      "    https://scikit-learn.org/stable/modules/linear_model.html#logistic-regression\n",
      "  n_iter_i = _check_optimize_result(\n",
      "/opt/anaconda3/envs/my_py_3_8_5_env/lib/python3.8/site-packages/sklearn/linear_model/_logistic.py:460: ConvergenceWarning: lbfgs failed to converge (status=1):\n",
      "STOP: TOTAL NO. of ITERATIONS REACHED LIMIT.\n",
      "\n",
      "Increase the number of iterations (max_iter) or scale the data as shown in:\n",
      "    https://scikit-learn.org/stable/modules/preprocessing.html\n",
      "Please also refer to the documentation for alternative solver options:\n",
      "    https://scikit-learn.org/stable/modules/linear_model.html#logistic-regression\n",
      "  n_iter_i = _check_optimize_result(\n",
      "/opt/anaconda3/envs/my_py_3_8_5_env/lib/python3.8/site-packages/sklearn/linear_model/_logistic.py:460: ConvergenceWarning: lbfgs failed to converge (status=1):\n",
      "STOP: TOTAL NO. of ITERATIONS REACHED LIMIT.\n",
      "\n",
      "Increase the number of iterations (max_iter) or scale the data as shown in:\n",
      "    https://scikit-learn.org/stable/modules/preprocessing.html\n",
      "Please also refer to the documentation for alternative solver options:\n",
      "    https://scikit-learn.org/stable/modules/linear_model.html#logistic-regression\n",
      "  n_iter_i = _check_optimize_result(\n",
      "/opt/anaconda3/envs/my_py_3_8_5_env/lib/python3.8/site-packages/sklearn/linear_model/_logistic.py:460: ConvergenceWarning: lbfgs failed to converge (status=1):\n",
      "STOP: TOTAL NO. of ITERATIONS REACHED LIMIT.\n",
      "\n",
      "Increase the number of iterations (max_iter) or scale the data as shown in:\n",
      "    https://scikit-learn.org/stable/modules/preprocessing.html\n",
      "Please also refer to the documentation for alternative solver options:\n",
      "    https://scikit-learn.org/stable/modules/linear_model.html#logistic-regression\n",
      "  n_iter_i = _check_optimize_result(\n",
      "/opt/anaconda3/envs/my_py_3_8_5_env/lib/python3.8/site-packages/sklearn/linear_model/_logistic.py:460: ConvergenceWarning: lbfgs failed to converge (status=1):\n",
      "STOP: TOTAL NO. of ITERATIONS REACHED LIMIT.\n",
      "\n",
      "Increase the number of iterations (max_iter) or scale the data as shown in:\n",
      "    https://scikit-learn.org/stable/modules/preprocessing.html\n",
      "Please also refer to the documentation for alternative solver options:\n",
      "    https://scikit-learn.org/stable/modules/linear_model.html#logistic-regression\n",
      "  n_iter_i = _check_optimize_result(\n",
      "/opt/anaconda3/envs/my_py_3_8_5_env/lib/python3.8/site-packages/sklearn/linear_model/_logistic.py:460: ConvergenceWarning: lbfgs failed to converge (status=1):\n",
      "STOP: TOTAL NO. of ITERATIONS REACHED LIMIT.\n",
      "\n",
      "Increase the number of iterations (max_iter) or scale the data as shown in:\n",
      "    https://scikit-learn.org/stable/modules/preprocessing.html\n",
      "Please also refer to the documentation for alternative solver options:\n",
      "    https://scikit-learn.org/stable/modules/linear_model.html#logistic-regression\n",
      "  n_iter_i = _check_optimize_result(\n",
      "/opt/anaconda3/envs/my_py_3_8_5_env/lib/python3.8/site-packages/sklearn/linear_model/_logistic.py:460: ConvergenceWarning: lbfgs failed to converge (status=1):\n",
      "STOP: TOTAL NO. of ITERATIONS REACHED LIMIT.\n",
      "\n",
      "Increase the number of iterations (max_iter) or scale the data as shown in:\n",
      "    https://scikit-learn.org/stable/modules/preprocessing.html\n",
      "Please also refer to the documentation for alternative solver options:\n",
      "    https://scikit-learn.org/stable/modules/linear_model.html#logistic-regression\n",
      "  n_iter_i = _check_optimize_result(\n",
      "/opt/anaconda3/envs/my_py_3_8_5_env/lib/python3.8/site-packages/sklearn/linear_model/_logistic.py:460: ConvergenceWarning: lbfgs failed to converge (status=1):\n",
      "STOP: TOTAL NO. of ITERATIONS REACHED LIMIT.\n",
      "\n",
      "Increase the number of iterations (max_iter) or scale the data as shown in:\n",
      "    https://scikit-learn.org/stable/modules/preprocessing.html\n",
      "Please also refer to the documentation for alternative solver options:\n",
      "    https://scikit-learn.org/stable/modules/linear_model.html#logistic-regression\n",
      "  n_iter_i = _check_optimize_result(\n",
      "/opt/anaconda3/envs/my_py_3_8_5_env/lib/python3.8/site-packages/sklearn/linear_model/_logistic.py:460: ConvergenceWarning: lbfgs failed to converge (status=1):\n",
      "STOP: TOTAL NO. of ITERATIONS REACHED LIMIT.\n",
      "\n",
      "Increase the number of iterations (max_iter) or scale the data as shown in:\n",
      "    https://scikit-learn.org/stable/modules/preprocessing.html\n",
      "Please also refer to the documentation for alternative solver options:\n",
      "    https://scikit-learn.org/stable/modules/linear_model.html#logistic-regression\n",
      "  n_iter_i = _check_optimize_result(\n",
      "/opt/anaconda3/envs/my_py_3_8_5_env/lib/python3.8/site-packages/sklearn/linear_model/_logistic.py:460: ConvergenceWarning: lbfgs failed to converge (status=1):\n",
      "STOP: TOTAL NO. of ITERATIONS REACHED LIMIT.\n",
      "\n",
      "Increase the number of iterations (max_iter) or scale the data as shown in:\n",
      "    https://scikit-learn.org/stable/modules/preprocessing.html\n",
      "Please also refer to the documentation for alternative solver options:\n",
      "    https://scikit-learn.org/stable/modules/linear_model.html#logistic-regression\n",
      "  n_iter_i = _check_optimize_result(\n",
      "/opt/anaconda3/envs/my_py_3_8_5_env/lib/python3.8/site-packages/sklearn/linear_model/_logistic.py:460: ConvergenceWarning: lbfgs failed to converge (status=1):\n",
      "STOP: TOTAL NO. of ITERATIONS REACHED LIMIT.\n",
      "\n",
      "Increase the number of iterations (max_iter) or scale the data as shown in:\n",
      "    https://scikit-learn.org/stable/modules/preprocessing.html\n",
      "Please also refer to the documentation for alternative solver options:\n",
      "    https://scikit-learn.org/stable/modules/linear_model.html#logistic-regression\n",
      "  n_iter_i = _check_optimize_result(\n",
      "/opt/anaconda3/envs/my_py_3_8_5_env/lib/python3.8/site-packages/sklearn/linear_model/_logistic.py:460: ConvergenceWarning: lbfgs failed to converge (status=1):\n",
      "STOP: TOTAL NO. of ITERATIONS REACHED LIMIT.\n",
      "\n",
      "Increase the number of iterations (max_iter) or scale the data as shown in:\n",
      "    https://scikit-learn.org/stable/modules/preprocessing.html\n",
      "Please also refer to the documentation for alternative solver options:\n",
      "    https://scikit-learn.org/stable/modules/linear_model.html#logistic-regression\n",
      "  n_iter_i = _check_optimize_result(\n",
      "/opt/anaconda3/envs/my_py_3_8_5_env/lib/python3.8/site-packages/sklearn/linear_model/_logistic.py:460: ConvergenceWarning: lbfgs failed to converge (status=1):\n",
      "STOP: TOTAL NO. of ITERATIONS REACHED LIMIT.\n",
      "\n",
      "Increase the number of iterations (max_iter) or scale the data as shown in:\n",
      "    https://scikit-learn.org/stable/modules/preprocessing.html\n",
      "Please also refer to the documentation for alternative solver options:\n",
      "    https://scikit-learn.org/stable/modules/linear_model.html#logistic-regression\n",
      "  n_iter_i = _check_optimize_result(\n",
      "/opt/anaconda3/envs/my_py_3_8_5_env/lib/python3.8/site-packages/sklearn/linear_model/_logistic.py:460: ConvergenceWarning: lbfgs failed to converge (status=1):\n",
      "STOP: TOTAL NO. of ITERATIONS REACHED LIMIT.\n",
      "\n",
      "Increase the number of iterations (max_iter) or scale the data as shown in:\n",
      "    https://scikit-learn.org/stable/modules/preprocessing.html\n",
      "Please also refer to the documentation for alternative solver options:\n",
      "    https://scikit-learn.org/stable/modules/linear_model.html#logistic-regression\n",
      "  n_iter_i = _check_optimize_result(\n",
      "/opt/anaconda3/envs/my_py_3_8_5_env/lib/python3.8/site-packages/sklearn/linear_model/_logistic.py:460: ConvergenceWarning: lbfgs failed to converge (status=1):\n",
      "STOP: TOTAL NO. of ITERATIONS REACHED LIMIT.\n",
      "\n",
      "Increase the number of iterations (max_iter) or scale the data as shown in:\n",
      "    https://scikit-learn.org/stable/modules/preprocessing.html\n",
      "Please also refer to the documentation for alternative solver options:\n",
      "    https://scikit-learn.org/stable/modules/linear_model.html#logistic-regression\n",
      "  n_iter_i = _check_optimize_result(\n",
      "/opt/anaconda3/envs/my_py_3_8_5_env/lib/python3.8/site-packages/sklearn/linear_model/_logistic.py:460: ConvergenceWarning: lbfgs failed to converge (status=1):\n",
      "STOP: TOTAL NO. of ITERATIONS REACHED LIMIT.\n",
      "\n",
      "Increase the number of iterations (max_iter) or scale the data as shown in:\n",
      "    https://scikit-learn.org/stable/modules/preprocessing.html\n",
      "Please also refer to the documentation for alternative solver options:\n",
      "    https://scikit-learn.org/stable/modules/linear_model.html#logistic-regression\n",
      "  n_iter_i = _check_optimize_result(\n",
      "/opt/anaconda3/envs/my_py_3_8_5_env/lib/python3.8/site-packages/sklearn/linear_model/_logistic.py:460: ConvergenceWarning: lbfgs failed to converge (status=1):\n",
      "STOP: TOTAL NO. of ITERATIONS REACHED LIMIT.\n",
      "\n",
      "Increase the number of iterations (max_iter) or scale the data as shown in:\n",
      "    https://scikit-learn.org/stable/modules/preprocessing.html\n",
      "Please also refer to the documentation for alternative solver options:\n",
      "    https://scikit-learn.org/stable/modules/linear_model.html#logistic-regression\n",
      "  n_iter_i = _check_optimize_result(\n",
      "/opt/anaconda3/envs/my_py_3_8_5_env/lib/python3.8/site-packages/sklearn/linear_model/_logistic.py:460: ConvergenceWarning: lbfgs failed to converge (status=1):\n",
      "STOP: TOTAL NO. of ITERATIONS REACHED LIMIT.\n",
      "\n",
      "Increase the number of iterations (max_iter) or scale the data as shown in:\n",
      "    https://scikit-learn.org/stable/modules/preprocessing.html\n",
      "Please also refer to the documentation for alternative solver options:\n",
      "    https://scikit-learn.org/stable/modules/linear_model.html#logistic-regression\n",
      "  n_iter_i = _check_optimize_result(\n",
      "/opt/anaconda3/envs/my_py_3_8_5_env/lib/python3.8/site-packages/sklearn/linear_model/_logistic.py:460: ConvergenceWarning: lbfgs failed to converge (status=1):\n",
      "STOP: TOTAL NO. of ITERATIONS REACHED LIMIT.\n",
      "\n",
      "Increase the number of iterations (max_iter) or scale the data as shown in:\n",
      "    https://scikit-learn.org/stable/modules/preprocessing.html\n",
      "Please also refer to the documentation for alternative solver options:\n",
      "    https://scikit-learn.org/stable/modules/linear_model.html#logistic-regression\n",
      "  n_iter_i = _check_optimize_result(\n",
      "/opt/anaconda3/envs/my_py_3_8_5_env/lib/python3.8/site-packages/sklearn/linear_model/_logistic.py:460: ConvergenceWarning: lbfgs failed to converge (status=1):\n",
      "STOP: TOTAL NO. of ITERATIONS REACHED LIMIT.\n",
      "\n",
      "Increase the number of iterations (max_iter) or scale the data as shown in:\n",
      "    https://scikit-learn.org/stable/modules/preprocessing.html\n",
      "Please also refer to the documentation for alternative solver options:\n",
      "    https://scikit-learn.org/stable/modules/linear_model.html#logistic-regression\n",
      "  n_iter_i = _check_optimize_result(\n",
      "/opt/anaconda3/envs/my_py_3_8_5_env/lib/python3.8/site-packages/sklearn/linear_model/_logistic.py:460: ConvergenceWarning: lbfgs failed to converge (status=1):\n",
      "STOP: TOTAL NO. of ITERATIONS REACHED LIMIT.\n",
      "\n",
      "Increase the number of iterations (max_iter) or scale the data as shown in:\n",
      "    https://scikit-learn.org/stable/modules/preprocessing.html\n",
      "Please also refer to the documentation for alternative solver options:\n",
      "    https://scikit-learn.org/stable/modules/linear_model.html#logistic-regression\n",
      "  n_iter_i = _check_optimize_result(\n",
      "/opt/anaconda3/envs/my_py_3_8_5_env/lib/python3.8/site-packages/sklearn/linear_model/_logistic.py:460: ConvergenceWarning: lbfgs failed to converge (status=1):\n",
      "STOP: TOTAL NO. of ITERATIONS REACHED LIMIT.\n",
      "\n",
      "Increase the number of iterations (max_iter) or scale the data as shown in:\n",
      "    https://scikit-learn.org/stable/modules/preprocessing.html\n",
      "Please also refer to the documentation for alternative solver options:\n",
      "    https://scikit-learn.org/stable/modules/linear_model.html#logistic-regression\n",
      "  n_iter_i = _check_optimize_result(\n",
      "/opt/anaconda3/envs/my_py_3_8_5_env/lib/python3.8/site-packages/sklearn/linear_model/_logistic.py:460: ConvergenceWarning: lbfgs failed to converge (status=1):\n",
      "STOP: TOTAL NO. of ITERATIONS REACHED LIMIT.\n",
      "\n",
      "Increase the number of iterations (max_iter) or scale the data as shown in:\n",
      "    https://scikit-learn.org/stable/modules/preprocessing.html\n",
      "Please also refer to the documentation for alternative solver options:\n",
      "    https://scikit-learn.org/stable/modules/linear_model.html#logistic-regression\n",
      "  n_iter_i = _check_optimize_result(\n",
      "/opt/anaconda3/envs/my_py_3_8_5_env/lib/python3.8/site-packages/sklearn/linear_model/_logistic.py:460: ConvergenceWarning: lbfgs failed to converge (status=1):\n",
      "STOP: TOTAL NO. of ITERATIONS REACHED LIMIT.\n",
      "\n",
      "Increase the number of iterations (max_iter) or scale the data as shown in:\n",
      "    https://scikit-learn.org/stable/modules/preprocessing.html\n",
      "Please also refer to the documentation for alternative solver options:\n",
      "    https://scikit-learn.org/stable/modules/linear_model.html#logistic-regression\n",
      "  n_iter_i = _check_optimize_result(\n",
      "/opt/anaconda3/envs/my_py_3_8_5_env/lib/python3.8/site-packages/sklearn/linear_model/_logistic.py:460: ConvergenceWarning: lbfgs failed to converge (status=1):\n",
      "STOP: TOTAL NO. of ITERATIONS REACHED LIMIT.\n",
      "\n",
      "Increase the number of iterations (max_iter) or scale the data as shown in:\n",
      "    https://scikit-learn.org/stable/modules/preprocessing.html\n",
      "Please also refer to the documentation for alternative solver options:\n",
      "    https://scikit-learn.org/stable/modules/linear_model.html#logistic-regression\n",
      "  n_iter_i = _check_optimize_result(\n",
      "/opt/anaconda3/envs/my_py_3_8_5_env/lib/python3.8/site-packages/sklearn/linear_model/_logistic.py:460: ConvergenceWarning: lbfgs failed to converge (status=1):\n",
      "STOP: TOTAL NO. of ITERATIONS REACHED LIMIT.\n",
      "\n",
      "Increase the number of iterations (max_iter) or scale the data as shown in:\n",
      "    https://scikit-learn.org/stable/modules/preprocessing.html\n",
      "Please also refer to the documentation for alternative solver options:\n",
      "    https://scikit-learn.org/stable/modules/linear_model.html#logistic-regression\n",
      "  n_iter_i = _check_optimize_result(\n",
      "/opt/anaconda3/envs/my_py_3_8_5_env/lib/python3.8/site-packages/sklearn/linear_model/_logistic.py:460: ConvergenceWarning: lbfgs failed to converge (status=1):\n",
      "STOP: TOTAL NO. of ITERATIONS REACHED LIMIT.\n",
      "\n",
      "Increase the number of iterations (max_iter) or scale the data as shown in:\n",
      "    https://scikit-learn.org/stable/modules/preprocessing.html\n",
      "Please also refer to the documentation for alternative solver options:\n",
      "    https://scikit-learn.org/stable/modules/linear_model.html#logistic-regression\n",
      "  n_iter_i = _check_optimize_result(\n",
      "/opt/anaconda3/envs/my_py_3_8_5_env/lib/python3.8/site-packages/sklearn/linear_model/_logistic.py:460: ConvergenceWarning: lbfgs failed to converge (status=1):\n",
      "STOP: TOTAL NO. of ITERATIONS REACHED LIMIT.\n",
      "\n",
      "Increase the number of iterations (max_iter) or scale the data as shown in:\n",
      "    https://scikit-learn.org/stable/modules/preprocessing.html\n",
      "Please also refer to the documentation for alternative solver options:\n",
      "    https://scikit-learn.org/stable/modules/linear_model.html#logistic-regression\n",
      "  n_iter_i = _check_optimize_result(\n",
      "/opt/anaconda3/envs/my_py_3_8_5_env/lib/python3.8/site-packages/sklearn/linear_model/_logistic.py:460: ConvergenceWarning: lbfgs failed to converge (status=1):\n",
      "STOP: TOTAL NO. of ITERATIONS REACHED LIMIT.\n",
      "\n",
      "Increase the number of iterations (max_iter) or scale the data as shown in:\n",
      "    https://scikit-learn.org/stable/modules/preprocessing.html\n",
      "Please also refer to the documentation for alternative solver options:\n",
      "    https://scikit-learn.org/stable/modules/linear_model.html#logistic-regression\n",
      "  n_iter_i = _check_optimize_result(\n",
      "/opt/anaconda3/envs/my_py_3_8_5_env/lib/python3.8/site-packages/sklearn/linear_model/_logistic.py:460: ConvergenceWarning: lbfgs failed to converge (status=1):\n",
      "STOP: TOTAL NO. of ITERATIONS REACHED LIMIT.\n",
      "\n",
      "Increase the number of iterations (max_iter) or scale the data as shown in:\n",
      "    https://scikit-learn.org/stable/modules/preprocessing.html\n",
      "Please also refer to the documentation for alternative solver options:\n",
      "    https://scikit-learn.org/stable/modules/linear_model.html#logistic-regression\n",
      "  n_iter_i = _check_optimize_result(\n",
      "/opt/anaconda3/envs/my_py_3_8_5_env/lib/python3.8/site-packages/sklearn/linear_model/_logistic.py:460: ConvergenceWarning: lbfgs failed to converge (status=1):\n",
      "STOP: TOTAL NO. of ITERATIONS REACHED LIMIT.\n",
      "\n",
      "Increase the number of iterations (max_iter) or scale the data as shown in:\n",
      "    https://scikit-learn.org/stable/modules/preprocessing.html\n",
      "Please also refer to the documentation for alternative solver options:\n",
      "    https://scikit-learn.org/stable/modules/linear_model.html#logistic-regression\n",
      "  n_iter_i = _check_optimize_result(\n",
      "/opt/anaconda3/envs/my_py_3_8_5_env/lib/python3.8/site-packages/sklearn/linear_model/_logistic.py:460: ConvergenceWarning: lbfgs failed to converge (status=1):\n",
      "STOP: TOTAL NO. of ITERATIONS REACHED LIMIT.\n",
      "\n",
      "Increase the number of iterations (max_iter) or scale the data as shown in:\n",
      "    https://scikit-learn.org/stable/modules/preprocessing.html\n",
      "Please also refer to the documentation for alternative solver options:\n",
      "    https://scikit-learn.org/stable/modules/linear_model.html#logistic-regression\n",
      "  n_iter_i = _check_optimize_result(\n",
      "/opt/anaconda3/envs/my_py_3_8_5_env/lib/python3.8/site-packages/sklearn/linear_model/_logistic.py:460: ConvergenceWarning: lbfgs failed to converge (status=1):\n",
      "STOP: TOTAL NO. of ITERATIONS REACHED LIMIT.\n",
      "\n",
      "Increase the number of iterations (max_iter) or scale the data as shown in:\n",
      "    https://scikit-learn.org/stable/modules/preprocessing.html\n",
      "Please also refer to the documentation for alternative solver options:\n",
      "    https://scikit-learn.org/stable/modules/linear_model.html#logistic-regression\n",
      "  n_iter_i = _check_optimize_result(\n",
      "/opt/anaconda3/envs/my_py_3_8_5_env/lib/python3.8/site-packages/sklearn/linear_model/_logistic.py:460: ConvergenceWarning: lbfgs failed to converge (status=1):\n",
      "STOP: TOTAL NO. of ITERATIONS REACHED LIMIT.\n",
      "\n",
      "Increase the number of iterations (max_iter) or scale the data as shown in:\n",
      "    https://scikit-learn.org/stable/modules/preprocessing.html\n",
      "Please also refer to the documentation for alternative solver options:\n",
      "    https://scikit-learn.org/stable/modules/linear_model.html#logistic-regression\n",
      "  n_iter_i = _check_optimize_result(\n"
     ]
    },
    {
     "name": "stdout",
     "output_type": "stream",
     "text": [
      "\n",
      "XGBoost Results:\n",
      "Best Hyperparameters: {'clf__learning_rate': 0.3, 'clf__max_depth': 5, 'clf__n_estimators': 200, 'clf__scale_pos_weight': 2, 'tfidf__max_features': 2500, 'tfidf__ngram_range': (1, 3)}\n",
      "Best Train Cross-Validation Score: 0.6968\n",
      "Validation Set Accuracy: 0.7306\n",
      "\n",
      "Comparison:\n",
      "Logistic Regression (Base) Validation Accuracy: 0.7576\n",
      "XGBoost Validation Accuracy: 0.7306\n"
     ]
    }
   ],
   "source": [
    "# Base param grid for TF-IDF\n",
    "base_param_grid = {\n",
    "    'tfidf__max_features': [1000, 1500, 2000, 2500],\n",
    "    'tfidf__ngram_range': [(1, 2), (1, 3), (1, 5)]\n",
    "}\n",
    "\n",
    "# XGBoost Pipeline\n",
    "pipeline_xgb = Pipeline([\n",
    "    ('tfidf', TfidfVectorizer()),\n",
    "    ('clf', XGBClassifier(random_state=24, use_label_encoder=False, eval_metric='logloss'))\n",
    "])\n",
    "\n",
    "# Parameter grid for XGBoost\n",
    "param_grid_xgb = {\n",
    "    **base_param_grid,\n",
    "    'clf__n_estimators': [100, 200],\n",
    "    'clf__max_depth': [3, 5],\n",
    "    'clf__learning_rate': [0.1, 0.3],  # Default is 0.3\n",
    "    'clf__scale_pos_weight': [2]}\n",
    "\n",
    "# Run grid search\n",
    "grid_search_xgb = GridSearchCV(\n",
    "    pipeline_xgb,\n",
    "    param_grid_xgb,\n",
    "    cv=5,\n",
    "    scoring='accuracy',\n",
    "    n_jobs=1,\n",
    "    verbose=1\n",
    ")\n",
    "\n",
    "# Fit on training data\n",
    "grid_search_xgb.fit(X_train_str, y_train)\n",
    "\n",
    "# Results\n",
    "best_train_cv_score_xgb = grid_search_xgb.best_score_\n",
    "best_model_xgb = grid_search_xgb.best_estimator_\n",
    "y_val_pred_xgb = best_model_xgb.predict(X_val_str)\n",
    "val_accuracy_xgb = accuracy_score(y_val, y_val_pred_xgb)\n",
    "best_params_xgb = grid_search_xgb.best_params_\n",
    "\n",
    "print(\"\\nXGBoost Results:\")\n",
    "print(f\"Best Hyperparameters: {best_params_xgb}\")\n",
    "print(f\"Best Train Cross-Validation Score: {best_train_cv_score_xgb:.4f}\")\n",
    "print(f\"Validation Set Accuracy: {val_accuracy_xgb:.4f}\")\n",
    "\n",
    "# Compare to base\n",
    "print(\"\\nComparison:\")\n",
    "print(f\"Logistic Regression (Base) Validation Accuracy: 0.7576\")\n",
    "print(f\"XGBoost Validation Accuracy: {val_accuracy_xgb:.4f}\")"
   ]
  },
  {
   "cell_type": "code",
   "execution_count": 73,
   "id": "6ced2cad-b1f9-4fe9-97f7-b84bcaba7100",
   "metadata": {},
   "outputs": [],
   "source": [
    "#xg boost didn't help, lets go a wide grid search for other classifiers"
   ]
  },
  {
   "cell_type": "code",
   "execution_count": 74,
   "id": "31f33bc2-0349-4019-9c5d-cd3814556c00",
   "metadata": {},
   "outputs": [
    {
     "name": "stdout",
     "output_type": "stream",
     "text": [
      "Fitting 5 folds for each of 12 candidates, totalling 60 fits\n",
      "\n",
      "Multinomial Naive Bayes Results:\n",
      "Best Hyperparameters: {'tfidf__max_features': 1500, 'tfidf__ngram_range': (1, 2)}\n",
      "Best Train Cross-Validation Score: 0.7136\n",
      "Validation Set Accuracy: 0.7318\n",
      "Fitting 5 folds for each of 36 candidates, totalling 180 fits\n",
      "\n",
      "Linear SVC Results:\n",
      "Best Hyperparameters: {'clf__C': 0.1, 'tfidf__max_features': 2500, 'tfidf__ngram_range': (1, 2)}\n",
      "Best Train Cross-Validation Score: 0.7253\n",
      "Validation Set Accuracy: 0.7609\n",
      "Fitting 5 folds for each of 48 candidates, totalling 240 fits\n",
      "\n",
      "Random Forest Results:\n",
      "Best Hyperparameters: {'clf__max_depth': 20, 'clf__n_estimators': 100, 'tfidf__max_features': 1000, 'tfidf__ngram_range': (1, 3)}\n",
      "Best Train Cross-Validation Score: 0.7002\n",
      "Validation Set Accuracy: 0.7104\n",
      "Fitting 5 folds for each of 48 candidates, totalling 240 fits\n",
      "\n",
      "Gradient Boosting Results:\n",
      "Best Hyperparameters: {'clf__max_depth': 5, 'clf__n_estimators': 200, 'tfidf__max_features': 1000, 'tfidf__ngram_range': (1, 2)}\n",
      "Best Train Cross-Validation Score: 0.7215\n",
      "Validation Set Accuracy: 0.7553\n",
      "Fitting 5 folds for each of 48 candidates, totalling 240 fits\n",
      "\n",
      "MLPClassifier Results:\n",
      "Best Hyperparameters: {'clf__alpha': 0.001, 'clf__hidden_layer_sizes': (100,), 'tfidf__max_features': 1000, 'tfidf__ngram_range': (1, 2)}\n",
      "Best Train Cross-Validation Score: 0.7057\n",
      "Validation Set Accuracy: 0.7452\n",
      "\n",
      "Summary of Validation Accuracies:\n",
      "Logistic Regression (Base): 0.7576\n",
      "Multinomial Naive Bayes: 0.7318\n",
      "Linear SVC: 0.7609\n",
      "Random Forest: 0.7104\n",
      "Gradient Boosting: 0.7553\n",
      "MLPClassifier: 0.7452\n"
     ]
    }
   ],
   "source": [
    "from sklearn.naive_bayes import MultinomialNB\n",
    "from sklearn.svm import LinearSVC\n",
    "from sklearn.ensemble import RandomForestClassifier, GradientBoostingClassifier\n",
    "from sklearn.neural_network import MLPClassifier\n",
    "\n",
    "# Join token lists into strings (unchanged)\n",
    "X_train_str = X_train.apply(' '.join)\n",
    "X_val_str = X_val.apply(' '.join)\n",
    "X_test_str = X_test.apply(' '.join)\n",
    "\n",
    "# Base param grid for TF-IDF\n",
    "base_param_grid = {\n",
    "    'tfidf__max_features': [1000, 1500, 2000, 2500],\n",
    "    'tfidf__ngram_range': [(1, 2), (1, 3), (1, 5)]\n",
    "}\n",
    "\n",
    "# Function to run grid search and print results\n",
    "def run_grid_search(pipeline, param_grid, name):\n",
    "    grid_search = GridSearchCV(\n",
    "        pipeline,\n",
    "        param_grid,\n",
    "        cv=5,\n",
    "        scoring='accuracy',\n",
    "        n_jobs=1,\n",
    "        verbose=1\n",
    "    )\n",
    "    grid_search.fit(X_train_str, y_train)\n",
    "    best_train_cv_score = grid_search.best_score_\n",
    "    best_model = grid_search.best_estimator_\n",
    "    y_val_pred = best_model.predict(X_val_str)\n",
    "    val_accuracy = accuracy_score(y_val, y_val_pred)\n",
    "    best_params = grid_search.best_params_\n",
    "    print(f\"\\n{name} Results:\")\n",
    "    print(f\"Best Hyperparameters: {best_params}\")\n",
    "    print(f\"Best Train Cross-Validation Score: {best_train_cv_score:.4f}\")\n",
    "    print(f\"Validation Set Accuracy: {val_accuracy:.4f}\")\n",
    "    return best_model, val_accuracy\n",
    "\n",
    "# 1. Multinomial Naive Bayes\n",
    "pipeline_nb = Pipeline([\n",
    "    ('tfidf', TfidfVectorizer()),\n",
    "    ('clf', MultinomialNB())\n",
    "])\n",
    "param_grid_nb = base_param_grid\n",
    "best_model_nb, val_accuracy_nb = run_grid_search(pipeline_nb, param_grid_nb, \"Multinomial Naive Bayes\")\n",
    "\n",
    "# 2. Linear SVC\n",
    "pipeline_svc = Pipeline([\n",
    "    ('tfidf', TfidfVectorizer()),\n",
    "    ('clf', LinearSVC(random_state=24))\n",
    "])\n",
    "param_grid_svc = {\n",
    "    **base_param_grid,\n",
    "    'clf__C': [0.1, 1, 10]  # Regularization strength\n",
    "}\n",
    "best_model_svc, val_accuracy_svc = run_grid_search(pipeline_svc, param_grid_svc, \"Linear SVC\")\n",
    "\n",
    "# 3. Random Forest\n",
    "pipeline_rf = Pipeline([\n",
    "    ('tfidf', TfidfVectorizer()),\n",
    "    ('clf', RandomForestClassifier(random_state=24))\n",
    "])\n",
    "param_grid_rf = {\n",
    "    **base_param_grid,\n",
    "    'clf__n_estimators': [100, 200],  # Number of trees\n",
    "    'clf__max_depth': [10, 20]       # Limit depth\n",
    "}\n",
    "best_model_rf, val_accuracy_rf = run_grid_search(pipeline_rf, param_grid_rf, \"Random Forest\")\n",
    "\n",
    "# 4. Gradient Boosting\n",
    "pipeline_gb = Pipeline([\n",
    "    ('tfidf', TfidfVectorizer()),\n",
    "    ('clf', GradientBoostingClassifier(random_state=24))\n",
    "])\n",
    "param_grid_gb = {\n",
    "    **base_param_grid,\n",
    "    'clf__n_estimators': [100, 200],  # Number of trees\n",
    "    'clf__max_depth': [3, 5]         # Shallow trees\n",
    "}\n",
    "best_model_gb, val_accuracy_gb = run_grid_search(pipeline_gb, param_grid_gb, \"Gradient Boosting\")\n",
    "\n",
    "# 5. MLPClassifier\n",
    "pipeline_mlp = Pipeline([\n",
    "    ('tfidf', TfidfVectorizer()),\n",
    "    ('clf', MLPClassifier(random_state=24, max_iter=300))\n",
    "])\n",
    "param_grid_mlp = {\n",
    "    **base_param_grid,\n",
    "    'clf__hidden_layer_sizes': [(50,), (100,)],  # Small nets\n",
    "    'clf__alpha': [0.0001, 0.001]               # Regularization\n",
    "}\n",
    "best_model_mlp, val_accuracy_mlp = run_grid_search(pipeline_mlp, param_grid_mlp, \"MLPClassifier\")\n",
    "\n",
    "# Compare all results\n",
    "print(\"\\nSummary of Validation Accuracies:\")\n",
    "print(f\"Logistic Regression (Base): 0.7576\")\n",
    "print(f\"Multinomial Naive Bayes: {val_accuracy_nb:.4f}\")\n",
    "print(f\"Linear SVC: {val_accuracy_svc:.4f}\")\n",
    "print(f\"Random Forest: {val_accuracy_rf:.4f}\")\n",
    "print(f\"Gradient Boosting: {val_accuracy_gb:.4f}\")\n",
    "print(f\"MLPClassifier: {val_accuracy_mlp:.4f}\")"
   ]
  },
  {
   "cell_type": "code",
   "execution_count": 75,
   "id": "99eae9b7-4680-4597-83f1-eef358b9736f",
   "metadata": {},
   "outputs": [
    {
     "data": {
      "text/plain": [
       "\"\\nMultinomial Naive Bayes Results:\\nBest Hyperparameters: {'tfidf__max_features': 1500, 'tfidf__ngram_range': (1, 2)}\\nBest Train Cross-Validation Score: 0.7136\\nValidation Set Accuracy: 0.7318\\nFitting 5 folds for each of 36 candidates, totalling 180 fits \\n\\nLinear SVC Results:\\nBest Hyperparameters: {'clf__C': 0.1, 'tfidf__max_features': 2500, 'tfidf__ngram_range': (1, 2)}\\nBest Train Cross-Validation Score: 0.7253\\nValidation Set Accuracy: 0.7609\\nFitting 5 folds for each of 48 candidates, totalling 240 fits\\n\\nRandom Forest Results:\\nBest Hyperparameters: {'clf__max_depth': 20, 'clf__n_estimators': 100, 'tfidf__max_features': 1000, 'tfidf__ngram_range': (1, 3)}\\nBest Train Cross-Validation Score: 0.7002\\nValidation Set Accuracy: 0.7104\\nFitting 5 folds for each of 48 candidates, totalling 240 fits\\n\\nGradient Boosting Results:\\nBest Hyperparameters: {'clf__max_depth': 5, 'clf__n_estimators': 200, 'tfidf__max_features': 1000, 'tfidf__ngram_range': (1, 2)}\\nBest Train Cross-Validation Score: 0.7215\\nValidation Set Accuracy: 0.7553\\nFitting 5 folds for each of 48 candidates, totalling 240 fits\\n\\nMLPClassifier Results:\\nBest Hyperparameters: {'clf__alpha': 0.001, 'clf__hidden_layer_sizes': (100,), 'tfidf__max_features': 1000, 'tfidf__ngram_range': (1, 2)}\\nBest Train Cross-Validation Score: 0.7057\\nValidation Set Accuracy: 0.7452\\n\\n\\nSummary of Validation Accuracies:\\nLogistic Regression (Base): 0.7576\\nMultinomial Naive Bayes: 0.7318\\nLinear SVC: 0.7609\\nRandom Forest: 0.7104\\nGradient Boosting: 0.7553\\nMLPClassifier: 0.7452\\n\""
      ]
     },
     "execution_count": 75,
     "metadata": {},
     "output_type": "execute_result"
    }
   ],
   "source": [
    "\"\"\"\n",
    "Multinomial Naive Bayes Results:\n",
    "Best Hyperparameters: {'tfidf__max_features': 1500, 'tfidf__ngram_range': (1, 2)}\n",
    "Best Train Cross-Validation Score: 0.7136\n",
    "Validation Set Accuracy: 0.7318\n",
    "Fitting 5 folds for each of 36 candidates, totalling 180 fits \n",
    "\n",
    "Linear SVC Results:\n",
    "Best Hyperparameters: {'clf__C': 0.1, 'tfidf__max_features': 2500, 'tfidf__ngram_range': (1, 2)}\n",
    "Best Train Cross-Validation Score: 0.7253\n",
    "Validation Set Accuracy: 0.7609\n",
    "Fitting 5 folds for each of 48 candidates, totalling 240 fits\n",
    "\n",
    "Random Forest Results:\n",
    "Best Hyperparameters: {'clf__max_depth': 20, 'clf__n_estimators': 100, 'tfidf__max_features': 1000, 'tfidf__ngram_range': (1, 3)}\n",
    "Best Train Cross-Validation Score: 0.7002\n",
    "Validation Set Accuracy: 0.7104\n",
    "Fitting 5 folds for each of 48 candidates, totalling 240 fits\n",
    "\n",
    "Gradient Boosting Results:\n",
    "Best Hyperparameters: {'clf__max_depth': 5, 'clf__n_estimators': 200, 'tfidf__max_features': 1000, 'tfidf__ngram_range': (1, 2)}\n",
    "Best Train Cross-Validation Score: 0.7215\n",
    "Validation Set Accuracy: 0.7553\n",
    "Fitting 5 folds for each of 48 candidates, totalling 240 fits\n",
    "\n",
    "MLPClassifier Results:\n",
    "Best Hyperparameters: {'clf__alpha': 0.001, 'clf__hidden_layer_sizes': (100,), 'tfidf__max_features': 1000, 'tfidf__ngram_range': (1, 2)}\n",
    "Best Train Cross-Validation Score: 0.7057\n",
    "Validation Set Accuracy: 0.7452\n",
    "\n",
    "\n",
    "Summary of Validation Accuracies:\n",
    "Logistic Regression (Base): 0.7576\n",
    "Multinomial Naive Bayes: 0.7318\n",
    "Linear SVC: 0.7609\n",
    "Random Forest: 0.7104\n",
    "Gradient Boosting: 0.7553\n",
    "MLPClassifier: 0.7452\n",
    "\"\"\""
   ]
  },
  {
   "cell_type": "code",
   "execution_count": 76,
   "id": "f821130e-eaba-4376-9aa1-c58d0b7e33ba",
   "metadata": {},
   "outputs": [],
   "source": [
    "#lets see how a deeper neural network would compare to this"
   ]
  },
  {
   "cell_type": "code",
   "execution_count": 77,
   "id": "67edcd63-cff2-4602-9625-5248c64701db",
   "metadata": {},
   "outputs": [
    {
     "name": "stdout",
     "output_type": "stream",
     "text": [
      "Fitting 5 folds for each of 48 candidates, totalling 240 fits\n",
      "\n",
      "MLPClassifier Results:\n",
      "Best Hyperparameters: {'clf__alpha': 0.0001, 'clf__hidden_layer_sizes': (100,), 'clf__learning_rate_init': 0.01, 'tfidf__max_features': 2500, 'tfidf__ngram_range': (1, 3)}\n",
      "Best Train Cross-Validation Score: 0.7045\n",
      "Validation Set Accuracy: 0.7059\n",
      "\n",
      "Comparison:\n",
      "Logistic Regression (Base) Validation Accuracy: 0.7576\n",
      "Linear SVC Validation Accuracy: 0.7609\n",
      "MLPClassifier Validation Accuracy: 0.7059\n"
     ]
    }
   ],
   "source": [
    "# Join token lists into strings (unchanged)\n",
    "X_train_str = X_train.apply(' '.join)\n",
    "X_val_str = X_val.apply(' '.join)\n",
    "X_test_str = X_test.apply(' '.join)\n",
    "\n",
    "# Pipeline\n",
    "pipeline_mlp = Pipeline([\n",
    "    ('tfidf', TfidfVectorizer()),\n",
    "    ('clf', MLPClassifier(random_state=24, max_iter=500))  # More iterations for convergence\n",
    "])\n",
    "\n",
    "# Parameter grid\n",
    "param_grid_mlp = {\n",
    "    'tfidf__max_features': [1500, 2500],           # Focus on top performers from LR/SVC\n",
    "    'tfidf__ngram_range': [(1, 2), (1, 3)],        # Bigrams and trigrams worked well\n",
    "    'clf__hidden_layer_sizes': [(50,), (100,), (50, 50)],  # Single and double layers\n",
    "    'clf__alpha': [0.0001, 0.001],                 # Regularization\n",
    "    'clf__learning_rate_init': [0.001, 0.01]       # Learning rate tweaks\n",
    "}\n",
    "\n",
    "# Grid search\n",
    "grid_search_mlp = GridSearchCV(\n",
    "    pipeline_mlp,\n",
    "    param_grid_mlp,\n",
    "    cv=5,\n",
    "    scoring='accuracy',\n",
    "    n_jobs=1,\n",
    "    verbose=1\n",
    ")\n",
    "\n",
    "# Fit\n",
    "grid_search_mlp.fit(X_train_str, y_train)\n",
    "\n",
    "# Results\n",
    "best_train_cv_score_mlp = grid_search_mlp.best_score_\n",
    "best_model_mlp = grid_search_mlp.best_estimator_\n",
    "y_val_pred_mlp = best_model_mlp.predict(X_val_str)\n",
    "val_accuracy_mlp = accuracy_score(y_val, y_val_pred_mlp)\n",
    "best_params_mlp = grid_search_mlp.best_params_\n",
    "\n",
    "print(\"\\nMLPClassifier Results:\")\n",
    "print(f\"Best Hyperparameters: {best_params_mlp}\")\n",
    "print(f\"Best Train Cross-Validation Score: {best_train_cv_score_mlp:.4f}\")\n",
    "print(f\"Validation Set Accuracy: {val_accuracy_mlp:.4f}\")\n",
    "\n",
    "# Compare\n",
    "print(\"\\nComparison:\")\n",
    "print(f\"Logistic Regression (Base) Validation Accuracy: 0.7576\")\n",
    "print(f\"Linear SVC Validation Accuracy: 0.7609\")\n",
    "print(f\"MLPClassifier Validation Accuracy: {val_accuracy_mlp:.4f}\")"
   ]
  },
  {
   "cell_type": "markdown",
   "id": "703cf33b-3a49-478e-ba77-78bba34795e3",
   "metadata": {},
   "source": [
    "## lets tune for logistic regression"
   ]
  },
  {
   "cell_type": "code",
   "execution_count": 78,
   "id": "a665771c-2c4f-498b-b81f-3799013a3dea",
   "metadata": {},
   "outputs": [
    {
     "name": "stdout",
     "output_type": "stream",
     "text": [
      "Fitting 5 folds for each of 1944 candidates, totalling 9720 fits\n",
      "\n",
      "Tuned Logistic Regression Results:\n",
      "Best Hyperparameters: {'clf__C': 1, 'clf__class_weight': None, 'clf__fit_intercept': True, 'clf__solver': 'saga', 'clf__tol': 0.0001, 'tfidf__max_features': 3000, 'tfidf__ngram_range': (1, 2)}\n",
      "Best Train Cross-Validation Score: 0.7275\n",
      "Validation Set Accuracy: 0.7609\n",
      "Previous Validation Accuracy: 0.7576\n",
      "Linear SVC Validation Accuracy: 0.7609\n"
     ]
    }
   ],
   "source": [
    "# Pipeline\n",
    "pipeline_lr = Pipeline([\n",
    "    ('tfidf', TfidfVectorizer()),\n",
    "    ('clf', LogisticRegression(random_state=24))\n",
    "])\n",
    "\n",
    "# Expanded parameter grid\n",
    "param_grid_lr2 = {\n",
    "    'tfidf__max_features': [1500, 2500, 3000],      # 3\n",
    "    'tfidf__ngram_range': [(1,1), (1, 2), (1, 3)],         # 2\n",
    "    'clf__C': [0.01, 0.1, 1, 10],                  # 4\n",
    "    'clf__fit_intercept': [True, False],            # 2\n",
    "    'clf__class_weight': [None, 'balanced', {0: 1, 1: 1.5}],  # 3\n",
    "    'clf__solver': ['lbfgs', 'liblinear', 'saga'],  # 3\n",
    "    'clf__tol': [1e-4, 1e-3, 1e-2]                 # 3\n",
    "}\n",
    "\n",
    "# Grid search\n",
    "grid_search_lr = GridSearchCV(\n",
    "    pipeline_lr,\n",
    "    param_grid_lr2,\n",
    "    cv=5,\n",
    "    scoring='accuracy',\n",
    "    n_jobs=1,\n",
    "    verbose=1\n",
    ")\n",
    "\n",
    "# Fit\n",
    "grid_search_lr.fit(X_train_str, y_train)\n",
    "\n",
    "# Results\n",
    "best_train_cv_score_lr = grid_search_lr.best_score_\n",
    "best_model_lr = grid_search_lr.best_estimator_\n",
    "y_val_pred_lr = best_model_lr.predict(X_val_str)\n",
    "val_accuracy_lr = accuracy_score(y_val, y_val_pred_lr)\n",
    "best_params_lr = grid_search_lr.best_params_\n",
    "\n",
    "print(\"\\nTuned Logistic Regression Results:\")\n",
    "print(f\"Best Hyperparameters: {best_params_lr}\")\n",
    "print(f\"Best Train Cross-Validation Score: {best_train_cv_score_lr:.4f}\")\n",
    "print(f\"Validation Set Accuracy: {val_accuracy_lr:.4f}\")\n",
    "print(f\"Previous Validation Accuracy: 0.7576\")\n",
    "print(f\"Linear SVC Validation Accuracy: 0.7609\")"
   ]
  },
  {
   "cell_type": "code",
   "execution_count": 79,
   "id": "5054ed3b-3c21-416b-92e8-07741c263d3a",
   "metadata": {},
   "outputs": [
    {
     "data": {
      "text/plain": [
       "\"\\nTuned Logistic Regression Results:\\nBest Hyperparameters: {'clf__C': 1, 'clf__class_weight': None, 'clf__fit_intercept': True, 'clf__solver': 'saga', 'clf__tol': 0.0001, 'tfidf__max_features': 3000, 'tfidf__ngram_range': (1, 2)}\\nBest Train Cross-Validation Score: 0.7275\\nValidation Set Accuracy: 0.7609\\nPrevious Validation Accuracy: 0.7576\\nLinear SVC Validation Accuracy: 0.7609\\n\\n\""
      ]
     },
     "execution_count": 79,
     "metadata": {},
     "output_type": "execute_result"
    }
   ],
   "source": [
    "\"\"\"\n",
    "Tuned Logistic Regression Results:\n",
    "Best Hyperparameters: {'clf__C': 1, 'clf__class_weight': None, 'clf__fit_intercept': True, 'clf__solver': 'saga', 'clf__tol': 0.0001, 'tfidf__max_features': 3000, 'tfidf__ngram_range': (1, 2)}\n",
    "Best Train Cross-Validation Score: 0.7275\n",
    "Validation Set Accuracy: 0.7609\n",
    "Previous Validation Accuracy: 0.7576\n",
    "Linear SVC Validation Accuracy: 0.7609\n",
    "\n",
    "\"\"\"\n",
    "\n",
    "\n"
   ]
  },
  {
   "cell_type": "code",
   "execution_count": 80,
   "id": "16e3f38c-4297-4735-b359-0b4eaa83b9e2",
   "metadata": {},
   "outputs": [],
   "source": [
    "# lets run a grid search on the Linear svc"
   ]
  },
  {
   "cell_type": "code",
   "execution_count": 81,
   "id": "eb862f17-aff4-4bfb-9127-8868aa050596",
   "metadata": {},
   "outputs": [
    {
     "name": "stdout",
     "output_type": "stream",
     "text": [
      "Fitting 5 folds for each of 540 candidates, totalling 2700 fits\n",
      "\n",
      "Tuned Linear SVC Results:\n",
      "Best Hyperparameters: {'clf__C': 0.1, 'clf__class_weight': None, 'clf__loss': 'squared_hinge', 'clf__tol': 1e-05, 'tfidf__max_features': 3000, 'tfidf__ngram_range': (1, 2)}\n",
      "Best Train Cross-Validation Score: 0.7267\n",
      "Validation Set Accuracy: 0.7587\n",
      "Tuned Logistic Regression Validation Accuracy: 0.7609\n",
      "Previous Linear SVC Validation Accuracy: 0.7609\n"
     ]
    }
   ],
   "source": [
    "pipeline_svc = Pipeline([\n",
    "    ('tfidf', TfidfVectorizer()),\n",
    "    ('clf', LinearSVC(random_state=24))\n",
    "])\n",
    "\n",
    "# Recommended parameter grid\n",
    "param_grid_svc = {\n",
    "    'tfidf__max_features': [1500, 2500, 3000],      # 3\n",
    "    'tfidf__ngram_range': [(1, 2), (1, 3)],         # 2\n",
    "    'clf__C': [0.01, 0.05, 0.1, 0.5, 1],           # 5\n",
    "    'clf__class_weight': [None, 'balanced', {0: 1, 1: 1.5}],  # 3\n",
    "    'clf__loss': ['hinge', 'squared_hinge'],        # 2\n",
    "    'clf__tol': [1e-5, 1e-4, 1e-3]\n",
    "    # 3\n",
    "}\n",
    "\n",
    "# Grid search\n",
    "grid_search_svc = GridSearchCV(\n",
    "    pipeline_svc,\n",
    "    param_grid_svc,\n",
    "    cv=5,\n",
    "    scoring='accuracy',\n",
    "    n_jobs=1,\n",
    "    verbose=1\n",
    ")\n",
    "\n",
    "# Fit\n",
    "grid_search_svc.fit(X_train_str, y_train)\n",
    "\n",
    "# Results\n",
    "best_train_cv_score_svc = grid_search_svc.best_score_\n",
    "best_model_svc = grid_search_svc.best_estimator_\n",
    "y_val_pred_svc = best_model_svc.predict(X_val_str)\n",
    "val_accuracy_svc = accuracy_score(y_val, y_val_pred_svc)\n",
    "best_params_svc = grid_search_svc.best_params_\n",
    "\n",
    "print(\"\\nTuned Linear SVC Results:\")\n",
    "print(f\"Best Hyperparameters: {best_params_svc}\")\n",
    "print(f\"Best Train Cross-Validation Score: {best_train_cv_score_svc:.4f}\")\n",
    "print(f\"Validation Set Accuracy: {val_accuracy_svc:.4f}\")\n",
    "print(f\"Tuned Logistic Regression Validation Accuracy: 0.7609\")\n",
    "print(f\"Previous Linear SVC Validation Accuracy: 0.7609\")"
   ]
  },
  {
   "cell_type": "code",
   "execution_count": 82,
   "id": "7e072c1e-2086-442f-b51c-eacd61350c01",
   "metadata": {},
   "outputs": [
    {
     "data": {
      "text/plain": [
       "\"\\nTuned Linear SVC Results:\\nBest Hyperparameters: {'clf__C': 0.1, 'clf__class_weight': None, 'clf__loss': 'squared_hinge', 'clf__tol': 1e-05, 'tfidf__max_features': 3000, 'tfidf__ngram_range': (1, 2)}\\nBest Train Cross-Validation Score: 0.7267\\nValidation Set Accuracy: 0.7587\\nTuned Logistic Regression Validation Accuracy: 0.7609\\nPrevious Linear SVC Validation Accuracy: 0.7609\\n\\n\""
      ]
     },
     "execution_count": 82,
     "metadata": {},
     "output_type": "execute_result"
    }
   ],
   "source": [
    "\"\"\"\n",
    "Tuned Linear SVC Results:\n",
    "Best Hyperparameters: {'clf__C': 0.1, 'clf__class_weight': None, 'clf__loss': 'squared_hinge', 'clf__tol': 1e-05, 'tfidf__max_features': 3000, 'tfidf__ngram_range': (1, 2)}\n",
    "Best Train Cross-Validation Score: 0.7267\n",
    "Validation Set Accuracy: 0.7587\n",
    "Tuned Logistic Regression Validation Accuracy: 0.7609\n",
    "Previous Linear SVC Validation Accuracy: 0.7609\n",
    "\n",
    "\"\"\""
   ]
  },
  {
   "cell_type": "code",
   "execution_count": 83,
   "id": "576b6576-263e-4ad3-a4c8-ce69310354ca",
   "metadata": {},
   "outputs": [],
   "source": [
    "# i want to stick to my tuned logistic regression for now "
   ]
  },
  {
   "cell_type": "code",
   "execution_count": 84,
   "id": "c133060c-eb25-4b50-aaf7-23d58bca4f37",
   "metadata": {},
   "outputs": [
    {
     "name": "stdout",
     "output_type": "stream",
     "text": [
      "Validation Set Accuracy (Tuned Logistic Regression): 0.7609\n"
     ]
    }
   ],
   "source": [
    "\n",
    "# Define the tuned pipeline\n",
    "tuned_pipeline_lr = Pipeline([\n",
    "    ('tfidf', TfidfVectorizer(max_features=3000, ngram_range=(1, 2))),\n",
    "    ('clf', LogisticRegression(\n",
    "        C=1,\n",
    "        class_weight=None,\n",
    "        fit_intercept=True,\n",
    "        solver='saga',\n",
    "        tol=0.0001,\n",
    "        random_state=24\n",
    "    ))\n",
    "])\n",
    "\n",
    "# Fit it on your training data\n",
    "tuned_pipeline_lr.fit(X_train_str, y_train)\n",
    "\n",
    "# Validate it (should match 0.7609)\n",
    "y_val_pred_lr = tuned_pipeline_lr.predict(X_val_str)\n",
    "val_accuracy_lr = accuracy_score(y_val, y_val_pred_lr)\n",
    "print(f\"Validation Set Accuracy (Tuned Logistic Regression): {val_accuracy_lr:.4f}\")"
   ]
  },
  {
   "cell_type": "code",
   "execution_count": 87,
   "id": "5b8b6598-ae81-4ca5-9b00-27349443abdc",
   "metadata": {},
   "outputs": [
    {
     "data": {
      "image/png": "[encoded data removed]",
      "text/plain": [
       "<Figure size 640x480 with 2 Axes>"
      ]
     },
     "metadata": {},
     "output_type": "display_data"
    }
   ],
   "source": [
    "cm_val = confusion_matrix(y_val, y_val_pred_lr)\n",
    "ConfusionMatrixDisplay(cm_val, display_labels=['Not Positive', 'Positive']).plot()\n",
    "plt.title(\"Tuned Logistic Regression - Validation Set Confusion Matrix\")\n",
    "plt.show()"
   ]
  },
  {
   "cell_type": "code",
   "execution_count": 86,
   "id": "e2522f0b-5713-460b-b417-3ca5536fb8b7",
   "metadata": {},
   "outputs": [],
   "source": [
    "#let's mess with the preprocessing more because I feel we maxed out the classifier selection and model tuning for this current poreprocessing\n"
   ]
  },
  {
   "cell_type": "markdown",
   "id": "ae239e58-163c-4861-a698-2c90df6839ae",
   "metadata": {},
   "source": [
    "## more preprocessing \n"
   ]
  },
  {
   "cell_type": "markdown",
   "id": "44a3e2ad-bc24-4bf1-97f1-f97a420e152f",
   "metadata": {},
   "source": [
    "\"\"\"\n",
    "ideas\n",
    "\n",
    "keep stop words\n",
    "remove some words from stop words: very, no, very, much, \n",
    "convert some emjoi's to text (example below)\n",
    "\n",
    "\"\"\"\n",
    "\n",
    "!pip install emoji\n",
    "import emoji\n",
    "\n",
    "def convert_emojis(text):\n",
    "    return emoji.demojize(text).replace(':', ' ')\n",
    "\n",
    "X_train_str_emo = X_train_str.apply(convert_emojis)\n",
    "X_val_str_emo = X_val_str.apply(convert_emojis)\n",
    "X_test_str_emo = X_test_str.apply(convert_emojis)"
   ]
  },
  {
   "cell_type": "markdown",
   "id": "8aee5a51-20c4-4c67-8285-76eb75d69c8d",
   "metadata": {},
   "source": [
    "## first lets try to run in without taking out the stop words"
   ]
  },
  {
   "cell_type": "code",
   "execution_count": 89,
   "id": "b5effc28-06d9-4346-84e7-3bac63ba0cec",
   "metadata": {},
   "outputs": [
    {
     "data": {
      "text/plain": [
       "0                               [wesley, i, have, a, g, iphone, after, hrs, tweeting, at, rise, austin, it, was, dead, i, need, to, upgrade, plugin, stations, at, sxsw]\n",
       "1              [jessedee, know, about, fludapp, awesome, ipad, iphone, app, that, youll, likely, appreciate, for, its, design, also, theyre, giving, free, ts, at, sxsw]\n",
       "2                                                                                [swonderlin, can, not, wait, for, ipad, also, they, should, sale, them, down, at, sxsw]\n",
       "3                                                                           [sxsw, i, hope, this, years, festival, isnt, as, crashy, as, this, years, iphone, app, sxsw]\n",
       "4                              [sxtxstate, great, stuff, on, fri, sxsw, marissa, mayer, google, tim, oreilly, tech, books, conferences, and, matt, mullenweg, wordpress]\n",
       "                                                                                      ...                                                                               \n",
       "9088                                                                                                                                      [ipad, everywhere, sxsw, link]\n",
       "9089                               [wave, buzz, rt, mention, we, interrupt, your, regularly, scheduled, sxsw, geek, programming, with, big, news, link, google, circles]\n",
       "9090           [googles, zeiger, a, physician, never, reported, potential, ae, yet, fda, relies, on, physicians, quotwere, operating, w, out, dataquot, sxsw, healthdev]\n",
       "9091    [some, verizon, iphone, customers, complained, their, time, fell, back, an, hour, this, weekend, of, course, they, were, the, new, yorkers, who, attended, sxsw]\n",
       "9092                                                                                 [ïïàü, êîòáââ, â, ûârt, mention, google, tests, ûïcheckin, offersû, at, sxsw, link]\n",
       "Name: tweet_tokenized, Length: 8914, dtype: object"
      ]
     },
     "execution_count": 89,
     "metadata": {},
     "output_type": "execute_result"
    }
   ],
   "source": [
    "rel_raw_df[\"tweet_tokenized\"]"
   ]
  },
  {
   "cell_type": "code",
   "execution_count": 90,
   "id": "f6c18350-81c4-492b-83df-075e602c3694",
   "metadata": {},
   "outputs": [],
   "source": [
    "rel_raw_df[\"tweet_lem_wstop\"] = rel_raw_df[\"tweet_tokenized\"].apply(lem_tokens)"
   ]
  },
  {
   "cell_type": "code",
   "execution_count": 91,
   "id": "0b967ffe-8c8d-4b45-9258-59e6d0d16c9d",
   "metadata": {},
   "outputs": [],
   "source": [
    "#set x and y \n",
    "X2= rel_raw_df['tweet_lem_wstop']\n",
    "y2= rel_raw_df['sentiment']\n",
    "\n",
    "#i want 80% training data, 10% validation data, and 10% test data \n",
    "\n",
    "#Train split (remain is the remaining data)\n",
    "X_train2, X_remain2, y_train2, y_remain2= train_test_split(X2, y2, \n",
    "                                                   test_size= 0.2,  \n",
    "                                                   random_state= 24)\n",
    "\n",
    "#Val test split \n",
    "X_val2, X_test2, y_val2, y_test2= train_test_split(X_remain2, y_remain2,\n",
    "                                               test_size= 0.5, \n",
    "                                               random_state= 24)\n",
    "\n",
    "X_train_str2 = X_train2.apply(' '.join)\n",
    "X_val_str2 = X_val2.apply(' '.join)\n",
    "X_test_str2 = X_test2.apply(' '.join)\n",
    "\n"
   ]
  },
  {
   "cell_type": "code",
   "execution_count": 92,
   "id": "a4513367-3c7c-4184-b117-550d6eb3be3a",
   "metadata": {},
   "outputs": [
    {
     "name": "stdout",
     "output_type": "stream",
     "text": [
      "\n",
      "Tuned Logistic Regression Results (With Stopwords):\n",
      "Validation Accuracy: 0.7632\n"
     ]
    },
    {
     "data": {
      "image/png": "[encoded data removed]",
      "text/plain": [
       "<Figure size 640x480 with 2 Axes>"
      ]
     },
     "metadata": {},
     "output_type": "display_data"
    },
    {
     "name": "stdout",
     "output_type": "stream",
     "text": [
      "\n",
      "Tuned Linear SVC Results (With Stopwords):\n",
      "Validation Accuracy: 0.7587\n"
     ]
    },
    {
     "data": {
      "image/png": "[encoded data removed]",
      "text/plain": [
       "<Figure size 640x480 with 2 Axes>"
      ]
     },
     "metadata": {},
     "output_type": "display_data"
    },
    {
     "name": "stdout",
     "output_type": "stream",
     "text": [
      "\n",
      "Summary of Validation Accuracies (With Stopwords):\n",
      "Tuned Logistic Regression: 0.7632\n",
      "Tuned Linear SVC: 0.7587\n",
      "Previous Tuned Logistic Regression (Without Stopwords): 0.7609\n",
      "Previous Tuned Linear SVC (Without Stopwords): 0.7609\n"
     ]
    }
   ],
   "source": [
    "# Tuned Logistic Regression pipeline\n",
    "tuned_lr = Pipeline([\n",
    "    ('tfidf', TfidfVectorizer(max_features=3000, ngram_range=(1, 2))),\n",
    "    ('clf', LogisticRegression(\n",
    "        C=1,\n",
    "        class_weight=None,\n",
    "        fit_intercept=True,\n",
    "        solver='saga',\n",
    "        tol=0.0001,\n",
    "        random_state=24\n",
    "    ))\n",
    "])\n",
    "\n",
    "# Tuned Linear SVC pipeline\n",
    "tuned_svc = Pipeline([\n",
    "    ('tfidf', TfidfVectorizer(max_features=2500, ngram_range=(1, 2))),\n",
    "    ('clf', LinearSVC(\n",
    "        C=0.1,\n",
    "        class_weight=None,\n",
    "        loss='squared_hinge',\n",
    "        tol=1e-4,\n",
    "        random_state=24\n",
    "    ))\n",
    "])\n",
    "\n",
    "# Test both models\n",
    "models = [\n",
    "    {'name': 'Tuned Logistic Regression', 'pipeline': tuned_lr},\n",
    "    {'name': 'Tuned Linear SVC', 'pipeline': tuned_svc}\n",
    "]\n",
    "\n",
    "results = {}\n",
    "for model in models:\n",
    "    # Fit and predict\n",
    "    model['pipeline'].fit(X_train_str2, y_train2)\n",
    "    y_val_pred = model['pipeline'].predict(X_val_str2)\n",
    "    val_accuracy = accuracy_score(y_val2, y_val_pred)\n",
    "    cm = confusion_matrix(y_val2, y_val_pred)\n",
    "    \n",
    "    # Store results\n",
    "    results[model['name']] = {'accuracy': val_accuracy, 'confusion_matrix': cm}\n",
    "    print(f\"\\n{model['name']} Results (With Stopwords):\")\n",
    "    print(f\"Validation Accuracy: {val_accuracy:.4f}\")\n",
    "    disp = ConfusionMatrixDisplay(cm, display_labels=['Not Positive', 'Positive'])\n",
    "    disp.plot()\n",
    "    plt.title(f\"{model['name']} - Validation Set Confusion Matrix (With Stopwords)\")\n",
    "    plt.show()\n",
    "\n",
    "# Summary\n",
    "print(\"\\nSummary of Validation Accuracies (With Stopwords):\")\n",
    "for name, result in results.items():\n",
    "    print(f\"{name}: {result['accuracy']:.4f}\")\n",
    "print(f\"Previous Tuned Logistic Regression (Without Stopwords): 0.7609\")\n",
    "print(f\"Previous Tuned Linear SVC (Without Stopwords): 0.7609\")"
   ]
  },
  {
   "cell_type": "code",
   "execution_count": 93,
   "id": "8fb95baa-5360-4ec1-8141-713114c24e8f",
   "metadata": {},
   "outputs": [],
   "source": [
    "#run a grid search on this logistic regression with stop words to see if it changes things with different n grams "
   ]
  },
  {
   "cell_type": "code",
   "execution_count": 95,
   "id": "b33357f0-3e16-4d32-9d2e-75d113572a45",
   "metadata": {},
   "outputs": [
    {
     "name": "stdout",
     "output_type": "stream",
     "text": [
      "Fitting 5 folds for each of 12 candidates, totalling 60 fits\n",
      "\n",
      "Tuned Logistic Regression Results (With Stopwords, N-Gram Search):\n",
      "Best Hyperparameters: {'tfidf__max_features': 3000, 'tfidf__ngram_range': (1, 2)}\n",
      "Best Train Cross-Validation Score: 0.7247\n",
      "Validation Set Accuracy: 0.7632\n",
      "Previous Validation Accuracy (With Stopwords, ngram=(1, 2)): 0.7632\n"
     ]
    },
    {
     "data": {
      "image/png": "[encoded data removed]",
      "text/plain": [
       "<Figure size 640x480 with 2 Axes>"
      ]
     },
     "metadata": {},
     "output_type": "display_data"
    }
   ],
   "source": [
    "# Define the pipeline with tuned Logistic Regression\n",
    "pipeline_lr = Pipeline([\n",
    "    ('tfidf', TfidfVectorizer()),\n",
    "    ('clf', LogisticRegression(\n",
    "        C=1,\n",
    "        class_weight=None,\n",
    "        fit_intercept=True,\n",
    "        solver='saga',\n",
    "        tol=0.0001,\n",
    "        random_state=24\n",
    "    ))\n",
    "])\n",
    "\n",
    "# Parameter grid for ngram_range\n",
    "param_grid_lr = {\n",
    "    'tfidf__ngram_range': [(1, 2), (1, 3), (1, 4), (1, 5)],\n",
    "    'tfidf__max_features': [2000, 2500, 3000]\n",
    "}\n",
    "\n",
    "# Grid search\n",
    "grid_search_lr = GridSearchCV(\n",
    "    pipeline_lr,\n",
    "    param_grid_lr,\n",
    "    cv=5,\n",
    "    scoring='accuracy',\n",
    "    n_jobs=1,\n",
    "    verbose=1\n",
    ")\n",
    "\n",
    "# Fit\n",
    "grid_search_lr.fit(X_train_str2, y_train2)\n",
    "\n",
    "# Results\n",
    "best_train_cv_score_lr = grid_search_lr.best_score_\n",
    "best_model_lr = grid_search_lr.best_estimator_\n",
    "y_val_pred_lr = best_model_lr.predict(X_val_str2)\n",
    "val_accuracy_lr = accuracy_score(y_val2, y_val_pred_lr)\n",
    "best_params_lr = grid_search_lr.best_params_\n",
    "\n",
    "print(\"\\nTuned Logistic Regression Results (With Stopwords, N-Gram Search):\")\n",
    "print(f\"Best Hyperparameters: {best_params_lr}\")\n",
    "print(f\"Best Train Cross-Validation Score: {best_train_cv_score_lr:.4f}\")\n",
    "print(f\"Validation Set Accuracy: {val_accuracy_lr:.4f}\")\n",
    "print(f\"Previous Validation Accuracy (With Stopwords, ngram=(1, 2)): 0.7632\")\n",
    "\n",
    "# Confusion matrix\n",
    "cm_val = confusion_matrix(y_val2, y_val_pred_lr)\n",
    "disp = ConfusionMatrixDisplay(cm_val, display_labels=['Not Positive', 'Positive'])\n",
    "disp.plot()\n",
    "plt.title(\"Tuned Logistic Regression - Validation Set Confusion Matrix (With Stopwords, N-Gram Tuned)\")\n",
    "plt.show()"
   ]
  },
  {
   "cell_type": "markdown",
   "id": "b937ab9c-629d-43a2-a3b8-5c2d40760bd9",
   "metadata": {},
   "source": [
    "## let's run a specific one where we keep very certain stop words"
   ]
  },
  {
   "cell_type": "markdown",
   "id": "0ccebff6-b6b3-4424-a3e4-26a7ce6fa384",
   "metadata": {},
   "source": [
    "rel_raw_df[\"tweet_tokenized\"]\n",
    "\n",
    "#remove the stop words\n",
    "stopwords_list= stopwords.words('english')\n",
    "stopwords_list = [word for word in stopwords_list if word != 'not']\n",
    "\n",
    "def remove_stopwords(token_list):\n",
    "    list_stripped= [x for x in token_list if x not in stopwords_list]\n",
    "    return list_stripped\n",
    "\n",
    "rel_raw_df[\"tweet_tokenized_ns\"] = rel_raw_df[\"tweet_tokenized\"].apply(remove_stopwords)\n",
    "\n",
    "print('previous tokens')\n",
    "print(rel_raw_df[\"tweet_tokenized\"].head())\n",
    "print()\n",
    "print('ns tokens')\n",
    "print(rel_raw_df[\"tweet_tokenized_ns\"].head())"
   ]
  },
  {
   "cell_type": "code",
   "execution_count": 96,
   "id": "6c876c3f-a11c-4901-8e10-f4eb9a411b77",
   "metadata": {},
   "outputs": [
    {
     "name": "stdout",
     "output_type": "stream",
     "text": [
      "Sample of data with custom stopwords removed:\n",
      "7595                                                          google circle happening so lost sxsw\n",
      "2916                                 apple opening popup shop downtown austin sxsw link rt mention\n",
      "4121                                                cool apple open temporary store sxsw link sxsw\n",
      "8303    cant wait see internet implode austin friday everyone stop normal activity order ipad sxsw\n",
      "8165                                   lifter link google league extraordinary hckers mention sxsw\n",
      "Name: tweet_lem_wstop, dtype: object\n"
     ]
    }
   ],
   "source": [
    "# Define custom stopwords to remove (exclude important words)\n",
    "default_stopwords = set(stopwords.words('english'))\n",
    "important_words = {\n",
    "    'not', 'no', 'never', 'neither', 'nor', 'nobody', 'nothing', 'nowhere',\n",
    "    'very', 'much', 'more', 'less', 'most', 'least', 'too', 'so', 'really', 'quite',\n",
    "    'but', 'if', 'unless', 'although', 'though', 'while',\n",
    "    'up', 'down', 'out', 'off', 'over', 'under',\n",
    "    'what', 'why', 'how'\n",
    "}\n",
    "custom_stopwords = default_stopwords - important_words\n",
    "\n",
    "# Function to remove stopwords except important ones\n",
    "def remove_custom_stopwords(text):\n",
    "    return ' '.join(word for word in text.split() if word.lower() not in custom_stopwords)\n",
    "\n",
    "# Apply to your data\n",
    "X_train_str3 = X_train_str2.apply(remove_custom_stopwords)\n",
    "X_val_str3 = X_val_str2.apply(remove_custom_stopwords)\n",
    "X_test_str3 = X_test_str2.apply(remove_custom_stopwords)\n",
    "\n",
    "# Verify a sample\n",
    "print(\"Sample of data with custom stopwords removed:\")\n",
    "print(X_train_str3.head())"
   ]
  },
  {
   "cell_type": "code",
   "execution_count": 97,
   "id": "f1b3b99d-ef22-4270-b63e-1835a3264469",
   "metadata": {},
   "outputs": [
    {
     "name": "stdout",
     "output_type": "stream",
     "text": [
      "\n",
      "Tuned Logistic Regression Results (With Stopwords):\n",
      "Validation Accuracy: 0.7621\n"
     ]
    },
    {
     "data": {
      "image/png": "[encoded data removed]",
      "text/plain": [
       "<Figure size 640x480 with 2 Axes>"
      ]
     },
     "metadata": {},
     "output_type": "display_data"
    },
    {
     "name": "stdout",
     "output_type": "stream",
     "text": [
      "\n",
      "Tuned Linear SVC Results (With Stopwords):\n",
      "Validation Accuracy: 0.7553\n"
     ]
    },
    {
     "data": {
      "image/png": "[encoded data removed]",
      "text/plain": [
       "<Figure size 640x480 with 2 Axes>"
      ]
     },
     "metadata": {},
     "output_type": "display_data"
    },
    {
     "name": "stdout",
     "output_type": "stream",
     "text": [
      "\n",
      "Summary of Validation Accuracies (With custom stopwords):\n",
      "Tuned Logistic Regression: 0.7621\n",
      "Tuned Linear SVC: 0.7553\n",
      "Previous Tuned Logistic Regression (With Stopwords): 0.7632\n",
      "Previous Tuned Linear SVC (Without Stopwords): 0.7609\n"
     ]
    }
   ],
   "source": [
    "# Tuned Logistic Regression pipeline\n",
    "tuned_lr = Pipeline([\n",
    "    ('tfidf', TfidfVectorizer(max_features=3000, ngram_range=(1, 2))),\n",
    "    ('clf', LogisticRegression(\n",
    "        C=1,\n",
    "        class_weight=None,\n",
    "        fit_intercept=True,\n",
    "        solver='saga',\n",
    "        tol=0.0001,\n",
    "        random_state=24\n",
    "    ))\n",
    "])\n",
    "\n",
    "# Tuned Linear SVC pipeline\n",
    "tuned_svc = Pipeline([\n",
    "    ('tfidf', TfidfVectorizer(max_features=2500, ngram_range=(1, 2))),\n",
    "    ('clf', LinearSVC(\n",
    "        C=0.1,\n",
    "        class_weight=None,\n",
    "        loss='squared_hinge',\n",
    "        tol=1e-4,\n",
    "        random_state=24\n",
    "    ))\n",
    "])\n",
    "\n",
    "# Test both models\n",
    "models = [\n",
    "    {'name': 'Tuned Logistic Regression', 'pipeline': tuned_lr},\n",
    "    {'name': 'Tuned Linear SVC', 'pipeline': tuned_svc}\n",
    "]\n",
    "\n",
    "results = {}\n",
    "for model in models:\n",
    "    # Fit and predict\n",
    "    model['pipeline'].fit(X_train_str3, y_train2)\n",
    "    y_val_pred = model['pipeline'].predict(X_val_str3)\n",
    "    val_accuracy = accuracy_score(y_val2, y_val_pred)\n",
    "    cm = confusion_matrix(y_val2, y_val_pred)\n",
    "    \n",
    "    # Store results\n",
    "    results[model['name']] = {'accuracy': val_accuracy, 'confusion_matrix': cm}\n",
    "    print(f\"\\n{model['name']} Results (With Stopwords):\")\n",
    "    print(f\"Validation Accuracy: {val_accuracy:.4f}\")\n",
    "    disp = ConfusionMatrixDisplay(cm, display_labels=['Not Positive', 'Positive'])\n",
    "    disp.plot()\n",
    "    plt.title(f\"{model['name']} - Validation Set Confusion Matrix (With Stopwords)\")\n",
    "    plt.show()\n",
    "\n",
    "# Summary\n",
    "print(\"\\nSummary of Validation Accuracies (With custom stopwords):\")\n",
    "for name, result in results.items():\n",
    "    print(f\"{name}: {result['accuracy']:.4f}\")\n",
    "print(f\"Previous Tuned Logistic Regression (With Stopwords): 0.7632\")\n",
    "print(f\"Previous Tuned Linear SVC (Without Stopwords): 0.7609\")"
   ]
  },
  {
   "cell_type": "code",
   "execution_count": 98,
   "id": "55c511dc-1acb-4e7b-8e58-849f2faa3cef",
   "metadata": {},
   "outputs": [],
   "source": [
    "#this did not help things"
   ]
  },
  {
   "cell_type": "markdown",
   "id": "ffc2c1f5-f0ed-4e51-bac0-a0151655b6f2",
   "metadata": {},
   "source": [
    "## lets try dealing with emoji's and keeping stopwords"
   ]
  },
  {
   "cell_type": "code",
   "execution_count": 103,
   "id": "166fa5fd-7ee2-450e-8a41-628f804056ab",
   "metadata": {},
   "outputs": [
    {
     "name": "stdout",
     "output_type": "stream",
     "text": [
      "Sample of data with raw emojis preserved:\n",
      "0                     [wesley, i, have, a, g, iphone, after, hrs, tweeting, at, rise, austin, it, was, dead, i, need, to, upgrade, plugin, stations, at, sxsw]\n",
      "1    [jessedee, know, about, fludapp, awesome, ipad, iphone, app, that, youll, likely, appreciate, for, its, design, also, theyre, giving, free, ts, at, sxsw]\n",
      "2                                                                      [swonderlin, can, not, wait, for, ipad, also, they, should, sale, them, down, at, sxsw]\n",
      "3                                                                 [sxsw, i, hope, this, years, festival, isnt, as, crashy, as, this, years, iphone, app, sxsw]\n",
      "4                 [sxtxstate, great, stuff, on, fri, sxsw, marissa, mayer, google, tim, oreilly, tech, books, conferences, andamp, matt, mullenweg, wordpress]\n",
      "Name: tweet_tokenized_emoji_raw, dtype: object\n"
     ]
    }
   ],
   "source": [
    "def strip_token_emoji_raw(tweet):\n",
    "    # Remove URLs\n",
    "    tweet = re.sub(r'http[s]?://\\S+|www\\.\\S+', '', tweet)\n",
    "    # Keep words after @ and #, remove the symbols\n",
    "    tweet = re.sub(r'[@#]\\w+', lambda match: match.group(0)[1:], tweet)\n",
    "    # Replace & with 'and'\n",
    "    tweet = re.sub(r'&', 'and', tweet)\n",
    "    # Replace / and _ with spaces\n",
    "    tweet = re.sub(r'[/_]', ' ', tweet)\n",
    "    # Remove numbers\n",
    "    tweet = re.sub(r'\\d+', '', tweet)\n",
    "    # Keep emojis and minimal punctuation (avoid broad [^\\w\\s] removal)\n",
    "    tweet = re.sub(r'[^\\w\\s]|(?<![\\w\\s])[\\u2600-\\u27BF]|(?<![\\w\\s])[\\uD83C-\\uDBFF\\uDC00-\\uDFFF]+', '', tweet, flags=re.UNICODE)\n",
    "    # Tokenize, ensuring emojis are treated as tokens\n",
    "    tokens = word_tokenize(tweet)\n",
    "    return tokens\n",
    "\n",
    "# Apply to create new tokenized column with raw emojis\n",
    "rel_raw_df['tweet_tokenized_emoji_raw'] = rel_raw_df['tweet'].apply(strip_token_emoji_raw)\n",
    "\n",
    "# Verify a sample\n",
    "print(\"Sample of data with raw emojis preserved:\")\n",
    "print(rel_raw_df['tweet_tokenized_emoji_raw'].head())"
   ]
  },
  {
   "cell_type": "code",
   "execution_count": 104,
   "id": "8b583d82-2842-4738-ace8-0c4d68a59ac0",
   "metadata": {},
   "outputs": [
    {
     "name": "stdout",
     "output_type": "stream",
     "text": [
      "Sample of joined data with raw emojis:\n",
      "7595                                                                                google circle is it happening so lost sxsw\n",
      "2916                                                    apple opening a popup shop in downtown austin for sxsw link rt mention\n",
      "4121                                                                      cool apple to open temporary store at sxsw link sxsw\n",
      "8303    cant wait to see the internet implode in austin on friday when everyone stop all normal activity to order an ipad sxsw\n",
      "8165                                                         lifter at link google league of extraordinary hckers mention sxsw\n",
      "Name: tweet_lem_wstop_emoji, dtype: object\n"
     ]
    }
   ],
   "source": [
    "# Lemmatize with stopwords\n",
    "lemmatizer = WordNetLemmatizer()\n",
    "def lem_tokens(tokens):\n",
    "    return [lemmatizer.lemmatize(token) for token in tokens]\n",
    "\n",
    "rel_raw_df['tweet_lem_wstop_emoji'] = rel_raw_df['tweet_tokenized_emoji_raw'].apply(lem_tokens)\n",
    "\n",
    "# Set X and y\n",
    "X3 = rel_raw_df['tweet_lem_wstop_emoji']\n",
    "y3 = rel_raw_df['sentiment']\n",
    "\n",
    "# Train split (80%), remain (20%)\n",
    "from sklearn.model_selection import train_test_split\n",
    "X_train3, X_remain3, y_train3, y_remain3 = train_test_split(X3, y3, \n",
    "                                                            test_size=0.2, \n",
    "                                                            random_state=24)\n",
    "\n",
    "# Val (10%) and test (10%) split\n",
    "X_val3, X_test3, y_val3, y_test3 = train_test_split(X_remain3, y_remain3,\n",
    "                                                    test_size=0.5, \n",
    "                                                    random_state=24)\n",
    "\n",
    "# Join tokens into strings\n",
    "X_train_str3 = X_train3.apply(' '.join)\n",
    "X_val_str3 = X_val3.apply(' '.join)\n",
    "X_test_str3 = X_test3.apply(' '.join)\n",
    "\n",
    "# Verify a sample\n",
    "print(\"Sample of joined data with raw emojis:\")\n",
    "print(X_train_str3.head())"
   ]
  },
  {
   "cell_type": "code",
   "execution_count": 105,
   "id": "7556161a-b487-4d46-9688-dd8e2ee34402",
   "metadata": {},
   "outputs": [
    {
     "name": "stdout",
     "output_type": "stream",
     "text": [
      "\n",
      "Tuned Logistic Regression Results (With Stopwords + Raw Emojis):\n",
      "Validation Accuracy: 0.7598\n"
     ]
    },
    {
     "data": {
      "image/png": "[encoded data removed]",
      "text/plain": [
       "<Figure size 640x480 with 2 Axes>"
      ]
     },
     "metadata": {},
     "output_type": "display_data"
    },
    {
     "name": "stdout",
     "output_type": "stream",
     "text": [
      "\n",
      "Tuned Linear SVC Results (With Stopwords + Raw Emojis):\n",
      "Validation Accuracy: 0.7598\n"
     ]
    },
    {
     "data": {
      "image/png": "[encoded data removed]",
      "text/plain": [
       "<Figure size 640x480 with 2 Axes>"
      ]
     },
     "metadata": {},
     "output_type": "display_data"
    },
    {
     "name": "stdout",
     "output_type": "stream",
     "text": [
      "\n",
      "Summary of Validation Accuracies (With Stopwords + Raw Emojis):\n",
      "Tuned Logistic Regression: 0.7598\n",
      "Tuned Linear SVC: 0.7598\n",
      "Previous Tuned Logistic Regression (With Stopwords): 0.7632\n",
      "Previous Tuned Linear SVC (With Stopwords): 0.7587\n"
     ]
    }
   ],
   "source": [
    "# Tuned Logistic Regression pipeline\n",
    "tuned_lr = Pipeline([\n",
    "    ('tfidf', TfidfVectorizer(max_features=3000, ngram_range=(1, 2))),\n",
    "    ('clf', LogisticRegression(\n",
    "        C=1,\n",
    "        class_weight=None,\n",
    "        fit_intercept=True,\n",
    "        solver='saga',\n",
    "        tol=0.0001,\n",
    "        random_state=24\n",
    "    ))\n",
    "])\n",
    "\n",
    "# Tuned Linear SVC pipeline\n",
    "tuned_svc = Pipeline([\n",
    "    ('tfidf', TfidfVectorizer(max_features=2500, ngram_range=(1, 2))),\n",
    "    ('clf', LinearSVC(\n",
    "        C=0.1,\n",
    "        class_weight=None,\n",
    "        loss='squared_hinge',\n",
    "        tol=1e-4,\n",
    "        random_state=24\n",
    "    ))\n",
    "])\n",
    "\n",
    "# Test both models\n",
    "models = [\n",
    "    {'name': 'Tuned Logistic Regression', 'pipeline': tuned_lr},\n",
    "    {'name': 'Tuned Linear SVC', 'pipeline': tuned_svc}\n",
    "]\n",
    "\n",
    "results = {}\n",
    "for model in models:\n",
    "    # Fit and predict\n",
    "    model['pipeline'].fit(X_train_str3, y_train3)\n",
    "    y_val_pred = model['pipeline'].predict(X_val_str3)\n",
    "    val_accuracy = accuracy_score(y_val3, y_val_pred)\n",
    "    cm = confusion_matrix(y_val3, y_val_pred)\n",
    "    \n",
    "    # Store results\n",
    "    results[model['name']] = {'accuracy': val_accuracy, 'confusion_matrix': cm}\n",
    "    print(f\"\\n{model['name']} Results (With Stopwords + Raw Emojis):\")\n",
    "    print(f\"Validation Accuracy: {val_accuracy:.4f}\")\n",
    "    disp = ConfusionMatrixDisplay(cm, display_labels=['Not Positive', 'Positive'])\n",
    "    disp.plot()\n",
    "    plt.title(f\"{model['name']} - Validation Set Confusion Matrix (With Stopwords + Raw Emojis)\")\n",
    "    plt.show()\n",
    "\n",
    "# Summary\n",
    "print(\"\\nSummary of Validation Accuracies (With Stopwords + Raw Emojis):\")\n",
    "for name, result in results.items():\n",
    "    print(f\"{name}: {result['accuracy']:.4f}\")\n",
    "print(f\"Previous Tuned Logistic Regression (With Stopwords): 0.7632\")\n",
    "print(f\"Previous Tuned Linear SVC (With Stopwords): 0.7587\")"
   ]
  },
  {
   "cell_type": "code",
   "execution_count": 106,
   "id": "1ccece23-cc3d-4229-aa50-8d951514cd24",
   "metadata": {},
   "outputs": [],
   "source": [
    "#this did not improve the model, we are going to scrap it. Let's finish by testing on the holdout dataset with the logistic regression\n",
    "#model trained on the data including stop words"
   ]
  },
  {
   "cell_type": "markdown",
   "id": "e8aeb929-75c0-4de7-9a7a-63bbb197c534",
   "metadata": {},
   "source": [
    "## Try to decrease false negatives while not increasing false positives"
   ]
  },
  {
   "cell_type": "code",
   "execution_count": 107,
   "id": "f1316b1a-d728-4cce-af83-d44822061bdf",
   "metadata": {},
   "outputs": [],
   "source": [
    "# we can do this by trying to adjust the decision threshold"
   ]
  },
  {
   "cell_type": "code",
   "execution_count": 110,
   "id": "56a4b1c6-1557-4036-8b09-0060a56edb45",
   "metadata": {},
   "outputs": [
    {
     "name": "stdout",
     "output_type": "stream",
     "text": [
      "\n",
      "Threshold: 0.5\n",
      "Validation Accuracy: 0.7632\n",
      "Confusion Matrix:\n",
      "[[564  37]\n",
      " [174 116]]\n"
     ]
    },
    {
     "data": {
      "image/png": "[encoded data removed]",
      "text/plain": [
       "<Figure size 640x480 with 2 Axes>"
      ]
     },
     "metadata": {},
     "output_type": "display_data"
    },
    {
     "name": "stdout",
     "output_type": "stream",
     "text": [
      "\n",
      "Threshold: 0.4\n",
      "Validation Accuracy: 0.7475\n",
      "Confusion Matrix:\n",
      "[[491 110]\n",
      " [115 175]]\n"
     ]
    },
    {
     "data": {
      "image/png": "[encoded data removed]",
      "text/plain": [
       "<Figure size 640x480 with 2 Axes>"
      ]
     },
     "metadata": {},
     "output_type": "display_data"
    },
    {
     "name": "stdout",
     "output_type": "stream",
     "text": [
      "\n",
      "Threshold: 0.3\n",
      "Validation Accuracy: 0.6588\n",
      "Confusion Matrix:\n",
      "[[360 241]\n",
      " [ 63 227]]\n"
     ]
    },
    {
     "data": {
      "image/png": "[encoded data removed]",
      "text/plain": [
       "<Figure size 640x480 with 2 Axes>"
      ]
     },
     "metadata": {},
     "output_type": "display_data"
    },
    {
     "name": "stdout",
     "output_type": "stream",
     "text": [
      "\n",
      "Threshold: 0.2\n",
      "Validation Accuracy: 0.5376\n",
      "Confusion Matrix:\n",
      "[[207 394]\n",
      " [ 18 272]]\n"
     ]
    },
    {
     "data": {
      "image/png": "[encoded data removed]",
      "text/plain": [
       "<Figure size 640x480 with 2 Axes>"
      ]
     },
     "metadata": {},
     "output_type": "display_data"
    },
    {
     "name": "stdout",
     "output_type": "stream",
     "text": [
      "\n",
      "Summary of Validation Results by Threshold:\n",
      "Threshold 0.5: Accuracy = 0.7632, TN = 564, FP = 37, FN = 174, TP = 116\n",
      "Threshold 0.4: Accuracy = 0.7475, TN = 491, FP = 110, FN = 115, TP = 175\n",
      "Threshold 0.3: Accuracy = 0.6588, TN = 360, FP = 241, FN = 63, TP = 227\n",
      "Threshold 0.2: Accuracy = 0.5376, TN = 207, FP = 394, FN = 18, TP = 272\n",
      "Original (Threshold 0.5): Accuracy = 0.7632, TN = 564, FP = 37, FN = 174, TP = 116\n"
     ]
    }
   ],
   "source": [
    "# Recreate the champion pipeline (Logistic Regression with stopwords)\n",
    "tuned_lr = Pipeline([\n",
    "    ('tfidf', TfidfVectorizer(max_features=3000, ngram_range=(1, 2))),\n",
    "    ('clf', LogisticRegression(\n",
    "        C=1,\n",
    "        class_weight=None,\n",
    "        fit_intercept=True,\n",
    "        solver='saga',\n",
    "        tol=0.0001,\n",
    "        random_state=24\n",
    "    ))\n",
    "])\n",
    "\n",
    "# Fit on training data\n",
    "tuned_lr.fit(X_train_str2, y_train2)\n",
    "\n",
    "# Get predicted probabilities on validation set\n",
    "y_val_prob = tuned_lr.predict_proba(X_val_str2)[:, 1]  # Probability of Positive class\n",
    "\n",
    "# Test different thresholds\n",
    "thresholds = [0.5, 0.4, 0.3, 0.2]\n",
    "results = {}\n",
    "\n",
    "for threshold in thresholds:\n",
    "    y_val_pred_adjusted = (y_val_prob >= threshold).astype(int)\n",
    "    val_accuracy = accuracy_score(y_val2, y_val_pred_adjusted)\n",
    "    cm = confusion_matrix(y_val2, y_val_pred_adjusted)\n",
    "    results[threshold] = {'accuracy': val_accuracy, 'confusion_matrix': cm}\n",
    "    print(f\"\\nThreshold: {threshold}\")\n",
    "    print(f\"Validation Accuracy: {val_accuracy:.4f}\")\n",
    "    print(f\"Confusion Matrix:\\n{cm}\")\n",
    "    disp = ConfusionMatrixDisplay(cm, display_labels=['Not Positive', 'Positive'])\n",
    "    disp.plot()\n",
    "    plt.title(f\"Tuned Logistic Regression - Validation Set Confusion Matrix (Threshold = {threshold})\")\n",
    "    plt.show()\n",
    "\n",
    "# Summary\n",
    "print(\"\\nSummary of Validation Results by Threshold:\")\n",
    "for threshold, result in results.items():\n",
    "    tn, fp, fn, tp = result['confusion_matrix'].ravel()\n",
    "    print(f\"Threshold {threshold}: Accuracy = {result['accuracy']:.4f}, TN = {tn}, FP = {fp}, FN = {fn}, TP = {tp}\")\n",
    "print(f\"Original (Threshold 0.5): Accuracy = 0.7632, TN = 564, FP = 37, FN = 174, TP = 116\")"
   ]
  },
  {
   "cell_type": "code",
   "execution_count": 111,
   "id": "6467cb87-66c4-47fd-b6f7-f9adedc0408d",
   "metadata": {},
   "outputs": [],
   "source": [
    "#that does not help, run the logistic regression model with stop words on the test holdout "
   ]
  },
  {
   "cell_type": "markdown",
   "id": "5ea89965-fba7-42fa-998d-b79b3a7c2cbd",
   "metadata": {},
   "source": [
    "# The final test "
   ]
  },
  {
   "cell_type": "code",
   "execution_count": 112,
   "id": "a946c7f6-58ea-4362-9571-07c6cf7bc2ab",
   "metadata": {},
   "outputs": [
    {
     "name": "stdout",
     "output_type": "stream",
     "text": [
      "Final Test Set Accuracy (Tuned Logistic Regression with Stopwords): 0.7343\n"
     ]
    },
    {
     "data": {
      "image/png": "[encoded data removed]",
      "text/plain": [
       "<Figure size 640x480 with 2 Axes>"
      ]
     },
     "metadata": {},
     "output_type": "display_data"
    }
   ],
   "source": [
    "# Recreate the champion pipeline (Logistic Regression with stopwords)\n",
    "tuned_lr = Pipeline([\n",
    "    ('tfidf', TfidfVectorizer(max_features=3000, ngram_range=(1, 2))),\n",
    "    ('clf', LogisticRegression(\n",
    "        C=1,\n",
    "        class_weight=None,\n",
    "        fit_intercept=True,\n",
    "        solver='saga',\n",
    "        tol=0.0001,\n",
    "        random_state=24\n",
    "    ))\n",
    "])\n",
    "\n",
    "# Fit on training data\n",
    "tuned_lr.fit(X_train_str2, y_train2)\n",
    "\n",
    "# Test set prediction\n",
    "y_test_pred_lr = tuned_lr.predict(X_test_str2)\n",
    "test_accuracy_lr = accuracy_score(y_test2, y_test_pred_lr)\n",
    "cm_test_lr = confusion_matrix(y_test2, y_test_pred_lr)\n",
    "\n",
    "print(f\"Final Test Set Accuracy (Tuned Logistic Regression with Stopwords): {test_accuracy_lr:.4f}\")\n",
    "disp = ConfusionMatrixDisplay(cm_test_lr, display_labels=['Not Positive', 'Positive'])\n",
    "disp.plot()\n",
    "plt.title(\"Tuned Logistic Regression - Test Set Confusion Matrix (With Stopwords)\")\n",
    "plt.show()"
   ]
  },
  {
   "cell_type": "code",
   "execution_count": null,
   "id": "1d260cde-6a7a-44f3-af87-293749c10dda",
   "metadata": {},
   "outputs": [],
   "source": []
  }
 ],
 "metadata": {
  "kernelspec": {
   "display_name": "Python 3 (ipykernel)",
   "language": "python",
   "name": "python3"
  },
  "language_info": {
   "codemirror_mode": {
    "name": "ipython",
    "version": 3
   },
   "file_extension": ".py",
   "mimetype": "text/x-python",
   "name": "python",
   "nbconvert_exporter": "python",
   "pygments_lexer": "ipython3",
   "version": "3.8.19"
  }
 },
 "nbformat": 4,
 "nbformat_minor": 5
}
